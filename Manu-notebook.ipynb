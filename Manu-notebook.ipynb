{
 "cells": [
  {
   "cell_type": "code",
   "execution_count": 60,
   "id": "initial_id",
   "metadata": {
    "collapsed": true,
    "ExecuteTime": {
     "end_time": "2024-02-10T04:50:01.581495700Z",
     "start_time": "2024-02-10T04:50:01.469562100Z"
    }
   },
   "outputs": [
    {
     "data": {
      "text/plain": "<generator object DataFrame.items at 0x000002A7B9A5D6C0>"
     },
     "execution_count": 60,
     "metadata": {},
     "output_type": "execute_result"
    }
   ],
   "source": [
    "import numpy as np\n",
    "import pandas as pd\n",
    "import matplotlib.pyplot as plt\n",
    "\n",
    "df = pd.read_csv('nfl_team_stats_2002-2022.csv')"
   ]
  },
  {
   "cell_type": "code",
   "outputs": [
    {
     "data": {
      "text/plain": "       Game               Date/Season Winning team       Score Losing team\n0    XXXVII   January 26, 2003 (2002)   Buccaneers       48–21     Raiders\n1   XXXVIII   February 1, 2004 (2003)     Patriots       32–29    Panthers\n2     XXXIX   February 6, 2005 (2004)     Patriots       24–21      Eagles\n3        XL   February 5, 2006 (2005)     Steelers       21–10    Seahawks\n4       XLI   February 4, 2007 (2006)        Colts       29–17       Bears\n5      XLII   February 3, 2008 (2007)       Giants       17–14    Patriots\n6     XLIII   February 1, 2009 (2008)     Steelers       27–23   Cardinals\n7      XLIV   February 7, 2010 (2009)       Saints       31–17       Colts\n8       XLV   February 6, 2011 (2010)      Packers       31–25    Steelers\n9      XLVI   February 5, 2012 (2011)       Giants       21–17    Patriots\n10    XLVII   February 3, 2013 (2012)       Ravens       34–31       49ers\n11   XLVIII   February 2, 2014 (2013)     Seahawks        43–8     Broncos\n12     XLIX   February 1, 2015 (2014)     Patriots       28–24    Seahawks\n13       50   February 7, 2016 (2015)      Broncos       24–10    Panthers\n14       LI   February 5, 2017 (2016)     Patriots  34–28 (OT)     Falcons\n15      LII   February 4, 2018 (2017)       Eagles       41–33    Patriots\n16     LIII   February 3, 2019 (2018)     Patriots        13–3        Rams\n17      LIV   February 2, 2020 (2019)       Chiefs       31–20       49ers\n18       LV   February 7, 2021 (2020)   Buccaneers        31–9      Chiefs\n19      LVI  February 13, 2022 (2021)         Rams       23–20     Bengals\n20     LVII  February 12, 2023 (2022)       Chiefs       38–35      Eagles",
      "text/html": "<div>\n<style scoped>\n    .dataframe tbody tr th:only-of-type {\n        vertical-align: middle;\n    }\n\n    .dataframe tbody tr th {\n        vertical-align: top;\n    }\n\n    .dataframe thead th {\n        text-align: right;\n    }\n</style>\n<table border=\"1\" class=\"dataframe\">\n  <thead>\n    <tr style=\"text-align: right;\">\n      <th></th>\n      <th>Game</th>\n      <th>Date/Season</th>\n      <th>Winning team</th>\n      <th>Score</th>\n      <th>Losing team</th>\n    </tr>\n  </thead>\n  <tbody>\n    <tr>\n      <th>0</th>\n      <td>XXXVII</td>\n      <td>January 26, 2003 (2002)</td>\n      <td>Buccaneers</td>\n      <td>48–21</td>\n      <td>Raiders</td>\n    </tr>\n    <tr>\n      <th>1</th>\n      <td>XXXVIII</td>\n      <td>February 1, 2004 (2003)</td>\n      <td>Patriots</td>\n      <td>32–29</td>\n      <td>Panthers</td>\n    </tr>\n    <tr>\n      <th>2</th>\n      <td>XXXIX</td>\n      <td>February 6, 2005 (2004)</td>\n      <td>Patriots</td>\n      <td>24–21</td>\n      <td>Eagles</td>\n    </tr>\n    <tr>\n      <th>3</th>\n      <td>XL</td>\n      <td>February 5, 2006 (2005)</td>\n      <td>Steelers</td>\n      <td>21–10</td>\n      <td>Seahawks</td>\n    </tr>\n    <tr>\n      <th>4</th>\n      <td>XLI</td>\n      <td>February 4, 2007 (2006)</td>\n      <td>Colts</td>\n      <td>29–17</td>\n      <td>Bears</td>\n    </tr>\n    <tr>\n      <th>5</th>\n      <td>XLII</td>\n      <td>February 3, 2008 (2007)</td>\n      <td>Giants</td>\n      <td>17–14</td>\n      <td>Patriots</td>\n    </tr>\n    <tr>\n      <th>6</th>\n      <td>XLIII</td>\n      <td>February 1, 2009 (2008)</td>\n      <td>Steelers</td>\n      <td>27–23</td>\n      <td>Cardinals</td>\n    </tr>\n    <tr>\n      <th>7</th>\n      <td>XLIV</td>\n      <td>February 7, 2010 (2009)</td>\n      <td>Saints</td>\n      <td>31–17</td>\n      <td>Colts</td>\n    </tr>\n    <tr>\n      <th>8</th>\n      <td>XLV</td>\n      <td>February 6, 2011 (2010)</td>\n      <td>Packers</td>\n      <td>31–25</td>\n      <td>Steelers</td>\n    </tr>\n    <tr>\n      <th>9</th>\n      <td>XLVI</td>\n      <td>February 5, 2012 (2011)</td>\n      <td>Giants</td>\n      <td>21–17</td>\n      <td>Patriots</td>\n    </tr>\n    <tr>\n      <th>10</th>\n      <td>XLVII</td>\n      <td>February 3, 2013 (2012)</td>\n      <td>Ravens</td>\n      <td>34–31</td>\n      <td>49ers</td>\n    </tr>\n    <tr>\n      <th>11</th>\n      <td>XLVIII</td>\n      <td>February 2, 2014 (2013)</td>\n      <td>Seahawks</td>\n      <td>43–8</td>\n      <td>Broncos</td>\n    </tr>\n    <tr>\n      <th>12</th>\n      <td>XLIX</td>\n      <td>February 1, 2015 (2014)</td>\n      <td>Patriots</td>\n      <td>28–24</td>\n      <td>Seahawks</td>\n    </tr>\n    <tr>\n      <th>13</th>\n      <td>50</td>\n      <td>February 7, 2016 (2015)</td>\n      <td>Broncos</td>\n      <td>24–10</td>\n      <td>Panthers</td>\n    </tr>\n    <tr>\n      <th>14</th>\n      <td>LI</td>\n      <td>February 5, 2017 (2016)</td>\n      <td>Patriots</td>\n      <td>34–28 (OT)</td>\n      <td>Falcons</td>\n    </tr>\n    <tr>\n      <th>15</th>\n      <td>LII</td>\n      <td>February 4, 2018 (2017)</td>\n      <td>Eagles</td>\n      <td>41–33</td>\n      <td>Patriots</td>\n    </tr>\n    <tr>\n      <th>16</th>\n      <td>LIII</td>\n      <td>February 3, 2019 (2018)</td>\n      <td>Patriots</td>\n      <td>13–3</td>\n      <td>Rams</td>\n    </tr>\n    <tr>\n      <th>17</th>\n      <td>LIV</td>\n      <td>February 2, 2020 (2019)</td>\n      <td>Chiefs</td>\n      <td>31–20</td>\n      <td>49ers</td>\n    </tr>\n    <tr>\n      <th>18</th>\n      <td>LV</td>\n      <td>February 7, 2021 (2020)</td>\n      <td>Buccaneers</td>\n      <td>31–9</td>\n      <td>Chiefs</td>\n    </tr>\n    <tr>\n      <th>19</th>\n      <td>LVI</td>\n      <td>February 13, 2022 (2021)</td>\n      <td>Rams</td>\n      <td>23–20</td>\n      <td>Bengals</td>\n    </tr>\n    <tr>\n      <th>20</th>\n      <td>LVII</td>\n      <td>February 12, 2023 (2022)</td>\n      <td>Chiefs</td>\n      <td>38–35</td>\n      <td>Eagles</td>\n    </tr>\n  </tbody>\n</table>\n</div>"
     },
     "execution_count": 39,
     "metadata": {},
     "output_type": "execute_result"
    }
   ],
   "source": [
    "sb_champs = pd.read_csv('List_of_Super_Bowl_champions_2.csv')\n",
    "sb_champs"
   ],
   "metadata": {
    "collapsed": false,
    "ExecuteTime": {
     "end_time": "2024-02-10T04:29:01.324255500Z",
     "start_time": "2024-02-10T04:29:01.278188100Z"
    }
   },
   "id": "9173dad508e19743",
   "execution_count": 39
  },
  {
   "cell_type": "code",
   "outputs": [
    {
     "ename": "SyntaxError",
     "evalue": "invalid syntax (3237653300.py, line 3)",
     "output_type": "error",
     "traceback": [
      "\u001B[1;36m  Cell \u001B[1;32mIn[85], line 3\u001B[1;36m\u001B[0m\n\u001B[1;33m    sb_champs.apply(lambda line: print(line[[:], :]))\u001B[0m\n\u001B[1;37m                                             ^\u001B[0m\n\u001B[1;31mSyntaxError\u001B[0m\u001B[1;31m:\u001B[0m invalid syntax\n"
     ]
    }
   ],
   "source": [
    "import re\n",
    "\n",
    "sb_champs.apply(lambda line: print(line))\n",
    "    \n",
    "    # sb_champs['Winning team'] = champ\n",
    "    # sb_champs['Losing team'] = runnerup\n",
    "    # season = sb_champs['Date/Season']\n",
    "    # year = re.search(r\"\\([0-9]{4}\\)\", season)\n",
    "    # year = pd.to_datetime(year)\n",
    "    "
   ],
   "metadata": {
    "collapsed": false,
    "ExecuteTime": {
     "end_time": "2024-02-10T04:56:35.236592500Z",
     "start_time": "2024-02-10T04:56:35.205553800Z"
    }
   },
   "id": "3be21c9a34e41088",
   "execution_count": 85
  }
 ],
 "metadata": {
  "kernelspec": {
   "display_name": "Python 3",
   "language": "python",
   "name": "python3"
  },
  "language_info": {
   "codemirror_mode": {
    "name": "ipython",
    "version": 2
   },
   "file_extension": ".py",
   "mimetype": "text/x-python",
   "name": "python",
   "nbconvert_exporter": "python",
   "pygments_lexer": "ipython2",
   "version": "2.7.6"
  }
 },
 "nbformat": 4,
 "nbformat_minor": 5
}
