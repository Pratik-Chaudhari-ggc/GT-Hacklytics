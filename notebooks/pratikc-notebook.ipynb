{
 "cells": [
  {
   "cell_type": "code",
   "execution_count": 2,
   "id": "initial_id",
   "metadata": {
    "collapsed": true,
    "ExecuteTime": {
     "end_time": "2024-02-10T02:43:31.783006800Z",
     "start_time": "2024-02-10T02:43:31.047758900Z"
    }
   },
   "outputs": [],
   "source": [
    "import pandas as pd\n",
    "import numpy as np"
   ]
  },
  {
   "cell_type": "code",
   "outputs": [
    {
     "data": {
      "text/plain": "           GameId    GameDate  Quarter  Minute  Second OffenseTeam  \\\n0      2023121101  2023-12-11        3       1      28         NYG   \n1      2023121101  2023-12-11        3       1      35         NYG   \n2      2023121101  2023-12-11        3       2      19         NYG   \n3      2023121101  2023-12-11        3       2      56         NYG   \n4      2023121101  2023-12-11        3       3      43         NYG   \n...           ...         ...      ...     ...     ...         ...   \n39467  2023091000  2023-09-10        2      14       1         ATL   \n39468  2023091000  2023-09-10        2      14      52         CAR   \n39469  2023091002  2023-09-10        4       9      11         CLE   \n39470  2023091000  2023-09-10        1       4      13         ATL   \n39471  2023090700  2023-09-07        3      12      54          KC   \n\n      DefenseTeam  Down  ToGo  YardLine  ...  IsTwoPointConversion  \\\n0              GB     0     0        85  ...                     0   \n1              GB     3     7        92  ...                     0   \n2              GB     2    11        88  ...                     0   \n3              GB     1    10        89  ...                     0   \n4              GB     1    10        64  ...                     0   \n...           ...   ...   ...       ...  ...                   ...   \n39467         CAR     0     0       100  ...                     0   \n39468         ATL     0     0       100  ...                     0   \n39469         CIN     0     0       100  ...                     0   \n39470         CAR     2     6        57  ...                     0   \n39471         DET     0     0       100  ...                     0   \n\n       IsTwoPointConversionSuccessful  RushDirection  YardLineFixed  \\\n0                                   0            NaN             15   \n1                                   0            NaN              8   \n2                                   0    RIGHT GUARD             12   \n3                                   0         CENTER             11   \n4                                   0            NaN             36   \n...                               ...            ...            ...   \n39467                               0            NaN              0   \n39468                               0            NaN              0   \n39469                               0            NaN              0   \n39470                               0            NaN             43   \n39471                               0            NaN              0   \n\n      YardLineDirection  IsPenaltyAccepted  PenaltyTeam  IsNoPlay  \\\n0                   OPP                  0          NaN         0   \n1                   OPP                  0          NaN         0   \n2                   OPP                  0          NaN         0   \n3                   OPP                  0          NaN         0   \n4                   OPP                  0          NaN         0   \n...                 ...                ...          ...       ...   \n39467               OPP                  0          NaN         0   \n39468               OPP                  0          NaN         0   \n39469               OPP                  0          NaN         0   \n39470               OPP                  0          NaN         0   \n39471               OPP                  0          NaN         0   \n\n       PenaltyType  PenaltyYards  \n0              NaN             0  \n1              NaN             0  \n2              NaN             0  \n3              NaN             0  \n4              NaN             0  \n...            ...           ...  \n39467          NaN             0  \n39468          NaN             0  \n39469          NaN             0  \n39470          NaN             0  \n39471          NaN             0  \n\n[39472 rows x 45 columns]",
      "text/html": "<div>\n<style scoped>\n    .dataframe tbody tr th:only-of-type {\n        vertical-align: middle;\n    }\n\n    .dataframe tbody tr th {\n        vertical-align: top;\n    }\n\n    .dataframe thead th {\n        text-align: right;\n    }\n</style>\n<table border=\"1\" class=\"dataframe\">\n  <thead>\n    <tr style=\"text-align: right;\">\n      <th></th>\n      <th>GameId</th>\n      <th>GameDate</th>\n      <th>Quarter</th>\n      <th>Minute</th>\n      <th>Second</th>\n      <th>OffenseTeam</th>\n      <th>DefenseTeam</th>\n      <th>Down</th>\n      <th>ToGo</th>\n      <th>YardLine</th>\n      <th>...</th>\n      <th>IsTwoPointConversion</th>\n      <th>IsTwoPointConversionSuccessful</th>\n      <th>RushDirection</th>\n      <th>YardLineFixed</th>\n      <th>YardLineDirection</th>\n      <th>IsPenaltyAccepted</th>\n      <th>PenaltyTeam</th>\n      <th>IsNoPlay</th>\n      <th>PenaltyType</th>\n      <th>PenaltyYards</th>\n    </tr>\n  </thead>\n  <tbody>\n    <tr>\n      <th>0</th>\n      <td>2023121101</td>\n      <td>2023-12-11</td>\n      <td>3</td>\n      <td>1</td>\n      <td>28</td>\n      <td>NYG</td>\n      <td>GB</td>\n      <td>0</td>\n      <td>0</td>\n      <td>85</td>\n      <td>...</td>\n      <td>0</td>\n      <td>0</td>\n      <td>NaN</td>\n      <td>15</td>\n      <td>OPP</td>\n      <td>0</td>\n      <td>NaN</td>\n      <td>0</td>\n      <td>NaN</td>\n      <td>0</td>\n    </tr>\n    <tr>\n      <th>1</th>\n      <td>2023121101</td>\n      <td>2023-12-11</td>\n      <td>3</td>\n      <td>1</td>\n      <td>35</td>\n      <td>NYG</td>\n      <td>GB</td>\n      <td>3</td>\n      <td>7</td>\n      <td>92</td>\n      <td>...</td>\n      <td>0</td>\n      <td>0</td>\n      <td>NaN</td>\n      <td>8</td>\n      <td>OPP</td>\n      <td>0</td>\n      <td>NaN</td>\n      <td>0</td>\n      <td>NaN</td>\n      <td>0</td>\n    </tr>\n    <tr>\n      <th>2</th>\n      <td>2023121101</td>\n      <td>2023-12-11</td>\n      <td>3</td>\n      <td>2</td>\n      <td>19</td>\n      <td>NYG</td>\n      <td>GB</td>\n      <td>2</td>\n      <td>11</td>\n      <td>88</td>\n      <td>...</td>\n      <td>0</td>\n      <td>0</td>\n      <td>RIGHT GUARD</td>\n      <td>12</td>\n      <td>OPP</td>\n      <td>0</td>\n      <td>NaN</td>\n      <td>0</td>\n      <td>NaN</td>\n      <td>0</td>\n    </tr>\n    <tr>\n      <th>3</th>\n      <td>2023121101</td>\n      <td>2023-12-11</td>\n      <td>3</td>\n      <td>2</td>\n      <td>56</td>\n      <td>NYG</td>\n      <td>GB</td>\n      <td>1</td>\n      <td>10</td>\n      <td>89</td>\n      <td>...</td>\n      <td>0</td>\n      <td>0</td>\n      <td>CENTER</td>\n      <td>11</td>\n      <td>OPP</td>\n      <td>0</td>\n      <td>NaN</td>\n      <td>0</td>\n      <td>NaN</td>\n      <td>0</td>\n    </tr>\n    <tr>\n      <th>4</th>\n      <td>2023121101</td>\n      <td>2023-12-11</td>\n      <td>3</td>\n      <td>3</td>\n      <td>43</td>\n      <td>NYG</td>\n      <td>GB</td>\n      <td>1</td>\n      <td>10</td>\n      <td>64</td>\n      <td>...</td>\n      <td>0</td>\n      <td>0</td>\n      <td>NaN</td>\n      <td>36</td>\n      <td>OPP</td>\n      <td>0</td>\n      <td>NaN</td>\n      <td>0</td>\n      <td>NaN</td>\n      <td>0</td>\n    </tr>\n    <tr>\n      <th>...</th>\n      <td>...</td>\n      <td>...</td>\n      <td>...</td>\n      <td>...</td>\n      <td>...</td>\n      <td>...</td>\n      <td>...</td>\n      <td>...</td>\n      <td>...</td>\n      <td>...</td>\n      <td>...</td>\n      <td>...</td>\n      <td>...</td>\n      <td>...</td>\n      <td>...</td>\n      <td>...</td>\n      <td>...</td>\n      <td>...</td>\n      <td>...</td>\n      <td>...</td>\n      <td>...</td>\n    </tr>\n    <tr>\n      <th>39467</th>\n      <td>2023091000</td>\n      <td>2023-09-10</td>\n      <td>2</td>\n      <td>14</td>\n      <td>1</td>\n      <td>ATL</td>\n      <td>CAR</td>\n      <td>0</td>\n      <td>0</td>\n      <td>100</td>\n      <td>...</td>\n      <td>0</td>\n      <td>0</td>\n      <td>NaN</td>\n      <td>0</td>\n      <td>OPP</td>\n      <td>0</td>\n      <td>NaN</td>\n      <td>0</td>\n      <td>NaN</td>\n      <td>0</td>\n    </tr>\n    <tr>\n      <th>39468</th>\n      <td>2023091000</td>\n      <td>2023-09-10</td>\n      <td>2</td>\n      <td>14</td>\n      <td>52</td>\n      <td>CAR</td>\n      <td>ATL</td>\n      <td>0</td>\n      <td>0</td>\n      <td>100</td>\n      <td>...</td>\n      <td>0</td>\n      <td>0</td>\n      <td>NaN</td>\n      <td>0</td>\n      <td>OPP</td>\n      <td>0</td>\n      <td>NaN</td>\n      <td>0</td>\n      <td>NaN</td>\n      <td>0</td>\n    </tr>\n    <tr>\n      <th>39469</th>\n      <td>2023091002</td>\n      <td>2023-09-10</td>\n      <td>4</td>\n      <td>9</td>\n      <td>11</td>\n      <td>CLE</td>\n      <td>CIN</td>\n      <td>0</td>\n      <td>0</td>\n      <td>100</td>\n      <td>...</td>\n      <td>0</td>\n      <td>0</td>\n      <td>NaN</td>\n      <td>0</td>\n      <td>OPP</td>\n      <td>0</td>\n      <td>NaN</td>\n      <td>0</td>\n      <td>NaN</td>\n      <td>0</td>\n    </tr>\n    <tr>\n      <th>39470</th>\n      <td>2023091000</td>\n      <td>2023-09-10</td>\n      <td>1</td>\n      <td>4</td>\n      <td>13</td>\n      <td>ATL</td>\n      <td>CAR</td>\n      <td>2</td>\n      <td>6</td>\n      <td>57</td>\n      <td>...</td>\n      <td>0</td>\n      <td>0</td>\n      <td>NaN</td>\n      <td>43</td>\n      <td>OPP</td>\n      <td>0</td>\n      <td>NaN</td>\n      <td>0</td>\n      <td>NaN</td>\n      <td>0</td>\n    </tr>\n    <tr>\n      <th>39471</th>\n      <td>2023090700</td>\n      <td>2023-09-07</td>\n      <td>3</td>\n      <td>12</td>\n      <td>54</td>\n      <td>KC</td>\n      <td>DET</td>\n      <td>0</td>\n      <td>0</td>\n      <td>100</td>\n      <td>...</td>\n      <td>0</td>\n      <td>0</td>\n      <td>NaN</td>\n      <td>0</td>\n      <td>OPP</td>\n      <td>0</td>\n      <td>NaN</td>\n      <td>0</td>\n      <td>NaN</td>\n      <td>0</td>\n    </tr>\n  </tbody>\n</table>\n<p>39472 rows × 45 columns</p>\n</div>"
     },
     "execution_count": 5,
     "metadata": {},
     "output_type": "execute_result"
    }
   ],
   "source": [
    "df1 = pd.read_csv('../datasets/pbp-2023.csv')\n",
    "df1"
   ],
   "metadata": {
    "collapsed": false,
    "ExecuteTime": {
     "end_time": "2024-02-10T02:44:58.806573300Z",
     "start_time": "2024-02-10T02:44:58.489299Z"
    }
   },
   "id": "febe5e243c19d97b",
   "execution_count": 5
  },
  {
   "cell_type": "code",
   "outputs": [
    {
     "data": {
      "text/plain": "           GameId    GameDate  Quarter  Minute  Second OffenseTeam  \\\n21046  2023090700  2023-09-07        1       0       0          KC   \n21047  2023090700  2023-09-07        1       0      13          KC   \n21048  2023090700  2023-09-07        1       0      52          KC   \n21527  2023090700  2023-09-07        1       1      29          KC   \n21232  2023090700  2023-09-07        1       2       6          KC   \n...           ...         ...      ...     ...     ...         ...   \n105    2023121009  2023-12-10        4      12      53          KC   \n106    2023121009  2023-12-10        4      13      34          KC   \n107    2023121009  2023-12-10        4      14      14          KC   \n38740  2023121009  2023-12-10        4      14      46          KC   \n38739  2023121009  2023-12-10        4      15       0         BUF   \n\n      DefenseTeam  Down  ToGo  YardLine  ...  IsTwoPointConversion  \\\n21046         DET     0     0       100  ...                     0   \n21047         DET     3     6       100  ...                     0   \n21048         DET     2     6       100  ...                     0   \n21527         DET     1    10        46  ...                     0   \n21232         DET     3     8        27  ...                     0   \n...           ...   ...   ...       ...  ...                   ...   \n105           BUF     1    10        68  ...                     0   \n106           BUF     2     6        60  ...                     0   \n107           BUF     1    10        56  ...                     0   \n38740         BUF     1    10        41  ...                     0   \n38739          KC     4    18        44  ...                     0   \n\n       IsTwoPointConversionSuccessful  RushDirection  YardLineFixed  \\\n21046                               0            NaN              0   \n21047                               0            NaN              0   \n21048                               0       LEFT END              0   \n21527                               0       LEFT END             46   \n21232                               0            NaN             27   \n...                               ...            ...            ...   \n105                                 0            NaN             32   \n106                                 0            NaN             40   \n107                                 0    RIGHT GUARD             44   \n38740                               0            NaN             41   \n38739                               0            NaN             44   \n\n      YardLineDirection  IsPenaltyAccepted  PenaltyTeam  IsNoPlay  \\\n21046               OPP                  0          NaN         0   \n21047               OPP                  0          NaN         0   \n21048               OPP                  0          NaN         0   \n21527               OWN                  0          NaN         0   \n21232               OWN                  0          NaN         0   \n...                 ...                ...          ...       ...   \n105                 OPP                  0          NaN         0   \n106                 OPP                  0          NaN         0   \n107                 OPP                  0          NaN         0   \n38740               OWN                  0          NaN         0   \n38739               OWN                  0          NaN         0   \n\n       PenaltyType  PenaltyYards  \n21046          NaN             0  \n21047          NaN             0  \n21048          NaN             0  \n21527          NaN             0  \n21232          NaN             0  \n...            ...           ...  \n105            NaN             0  \n106            NaN             0  \n107            NaN             0  \n38740          NaN             0  \n38739          NaN             0  \n\n[2390 rows x 45 columns]",
      "text/html": "<div>\n<style scoped>\n    .dataframe tbody tr th:only-of-type {\n        vertical-align: middle;\n    }\n\n    .dataframe tbody tr th {\n        vertical-align: top;\n    }\n\n    .dataframe thead th {\n        text-align: right;\n    }\n</style>\n<table border=\"1\" class=\"dataframe\">\n  <thead>\n    <tr style=\"text-align: right;\">\n      <th></th>\n      <th>GameId</th>\n      <th>GameDate</th>\n      <th>Quarter</th>\n      <th>Minute</th>\n      <th>Second</th>\n      <th>OffenseTeam</th>\n      <th>DefenseTeam</th>\n      <th>Down</th>\n      <th>ToGo</th>\n      <th>YardLine</th>\n      <th>...</th>\n      <th>IsTwoPointConversion</th>\n      <th>IsTwoPointConversionSuccessful</th>\n      <th>RushDirection</th>\n      <th>YardLineFixed</th>\n      <th>YardLineDirection</th>\n      <th>IsPenaltyAccepted</th>\n      <th>PenaltyTeam</th>\n      <th>IsNoPlay</th>\n      <th>PenaltyType</th>\n      <th>PenaltyYards</th>\n    </tr>\n  </thead>\n  <tbody>\n    <tr>\n      <th>21046</th>\n      <td>2023090700</td>\n      <td>2023-09-07</td>\n      <td>1</td>\n      <td>0</td>\n      <td>0</td>\n      <td>KC</td>\n      <td>DET</td>\n      <td>0</td>\n      <td>0</td>\n      <td>100</td>\n      <td>...</td>\n      <td>0</td>\n      <td>0</td>\n      <td>NaN</td>\n      <td>0</td>\n      <td>OPP</td>\n      <td>0</td>\n      <td>NaN</td>\n      <td>0</td>\n      <td>NaN</td>\n      <td>0</td>\n    </tr>\n    <tr>\n      <th>21047</th>\n      <td>2023090700</td>\n      <td>2023-09-07</td>\n      <td>1</td>\n      <td>0</td>\n      <td>13</td>\n      <td>KC</td>\n      <td>DET</td>\n      <td>3</td>\n      <td>6</td>\n      <td>100</td>\n      <td>...</td>\n      <td>0</td>\n      <td>0</td>\n      <td>NaN</td>\n      <td>0</td>\n      <td>OPP</td>\n      <td>0</td>\n      <td>NaN</td>\n      <td>0</td>\n      <td>NaN</td>\n      <td>0</td>\n    </tr>\n    <tr>\n      <th>21048</th>\n      <td>2023090700</td>\n      <td>2023-09-07</td>\n      <td>1</td>\n      <td>0</td>\n      <td>52</td>\n      <td>KC</td>\n      <td>DET</td>\n      <td>2</td>\n      <td>6</td>\n      <td>100</td>\n      <td>...</td>\n      <td>0</td>\n      <td>0</td>\n      <td>LEFT END</td>\n      <td>0</td>\n      <td>OPP</td>\n      <td>0</td>\n      <td>NaN</td>\n      <td>0</td>\n      <td>NaN</td>\n      <td>0</td>\n    </tr>\n    <tr>\n      <th>21527</th>\n      <td>2023090700</td>\n      <td>2023-09-07</td>\n      <td>1</td>\n      <td>1</td>\n      <td>29</td>\n      <td>KC</td>\n      <td>DET</td>\n      <td>1</td>\n      <td>10</td>\n      <td>46</td>\n      <td>...</td>\n      <td>0</td>\n      <td>0</td>\n      <td>LEFT END</td>\n      <td>46</td>\n      <td>OWN</td>\n      <td>0</td>\n      <td>NaN</td>\n      <td>0</td>\n      <td>NaN</td>\n      <td>0</td>\n    </tr>\n    <tr>\n      <th>21232</th>\n      <td>2023090700</td>\n      <td>2023-09-07</td>\n      <td>1</td>\n      <td>2</td>\n      <td>6</td>\n      <td>KC</td>\n      <td>DET</td>\n      <td>3</td>\n      <td>8</td>\n      <td>27</td>\n      <td>...</td>\n      <td>0</td>\n      <td>0</td>\n      <td>NaN</td>\n      <td>27</td>\n      <td>OWN</td>\n      <td>0</td>\n      <td>NaN</td>\n      <td>0</td>\n      <td>NaN</td>\n      <td>0</td>\n    </tr>\n    <tr>\n      <th>...</th>\n      <td>...</td>\n      <td>...</td>\n      <td>...</td>\n      <td>...</td>\n      <td>...</td>\n      <td>...</td>\n      <td>...</td>\n      <td>...</td>\n      <td>...</td>\n      <td>...</td>\n      <td>...</td>\n      <td>...</td>\n      <td>...</td>\n      <td>...</td>\n      <td>...</td>\n      <td>...</td>\n      <td>...</td>\n      <td>...</td>\n      <td>...</td>\n      <td>...</td>\n      <td>...</td>\n    </tr>\n    <tr>\n      <th>105</th>\n      <td>2023121009</td>\n      <td>2023-12-10</td>\n      <td>4</td>\n      <td>12</td>\n      <td>53</td>\n      <td>KC</td>\n      <td>BUF</td>\n      <td>1</td>\n      <td>10</td>\n      <td>68</td>\n      <td>...</td>\n      <td>0</td>\n      <td>0</td>\n      <td>NaN</td>\n      <td>32</td>\n      <td>OPP</td>\n      <td>0</td>\n      <td>NaN</td>\n      <td>0</td>\n      <td>NaN</td>\n      <td>0</td>\n    </tr>\n    <tr>\n      <th>106</th>\n      <td>2023121009</td>\n      <td>2023-12-10</td>\n      <td>4</td>\n      <td>13</td>\n      <td>34</td>\n      <td>KC</td>\n      <td>BUF</td>\n      <td>2</td>\n      <td>6</td>\n      <td>60</td>\n      <td>...</td>\n      <td>0</td>\n      <td>0</td>\n      <td>NaN</td>\n      <td>40</td>\n      <td>OPP</td>\n      <td>0</td>\n      <td>NaN</td>\n      <td>0</td>\n      <td>NaN</td>\n      <td>0</td>\n    </tr>\n    <tr>\n      <th>107</th>\n      <td>2023121009</td>\n      <td>2023-12-10</td>\n      <td>4</td>\n      <td>14</td>\n      <td>14</td>\n      <td>KC</td>\n      <td>BUF</td>\n      <td>1</td>\n      <td>10</td>\n      <td>56</td>\n      <td>...</td>\n      <td>0</td>\n      <td>0</td>\n      <td>RIGHT GUARD</td>\n      <td>44</td>\n      <td>OPP</td>\n      <td>0</td>\n      <td>NaN</td>\n      <td>0</td>\n      <td>NaN</td>\n      <td>0</td>\n    </tr>\n    <tr>\n      <th>38740</th>\n      <td>2023121009</td>\n      <td>2023-12-10</td>\n      <td>4</td>\n      <td>14</td>\n      <td>46</td>\n      <td>KC</td>\n      <td>BUF</td>\n      <td>1</td>\n      <td>10</td>\n      <td>41</td>\n      <td>...</td>\n      <td>0</td>\n      <td>0</td>\n      <td>NaN</td>\n      <td>41</td>\n      <td>OWN</td>\n      <td>0</td>\n      <td>NaN</td>\n      <td>0</td>\n      <td>NaN</td>\n      <td>0</td>\n    </tr>\n    <tr>\n      <th>38739</th>\n      <td>2023121009</td>\n      <td>2023-12-10</td>\n      <td>4</td>\n      <td>15</td>\n      <td>0</td>\n      <td>BUF</td>\n      <td>KC</td>\n      <td>4</td>\n      <td>18</td>\n      <td>44</td>\n      <td>...</td>\n      <td>0</td>\n      <td>0</td>\n      <td>NaN</td>\n      <td>44</td>\n      <td>OWN</td>\n      <td>0</td>\n      <td>NaN</td>\n      <td>0</td>\n      <td>NaN</td>\n      <td>0</td>\n    </tr>\n  </tbody>\n</table>\n<p>2390 rows × 45 columns</p>\n</div>"
     },
     "execution_count": 29,
     "metadata": {},
     "output_type": "execute_result"
    }
   ],
   "source": [
    "df2 = df1[(df1['OffenseTeam']  == 'KC') | (df1['DefenseTeam']  == 'KC')]\n",
    "df_KC = df2.sort_values(by=['GameDate','Quarter','Minute','Second'])\n",
    "df_KC"
   ],
   "metadata": {
    "collapsed": false,
    "ExecuteTime": {
     "end_time": "2024-02-10T03:15:57.255688Z",
     "start_time": "2024-02-10T03:15:57.143897300Z"
    }
   },
   "id": "c7fe7fcb47c2733",
   "execution_count": 29
  },
  {
   "cell_type": "code",
   "outputs": [
    {
     "data": {
      "text/plain": "           GameId    GameDate  Quarter  Minute  Second OffenseTeam  \\\n39453  2023091006  2023-09-10        1       0       0          SF   \n21066  2023091006  2023-09-10        1       0       6          SF   \n21067  2023091006  2023-09-10        1       0      37          SF   \n21068  2023091006  2023-09-10        1       1      17          SF   \n21509  2023091006  2023-09-10        1       1      57          SF   \n...           ...         ...      ...     ...     ...         ...   \n421    2023121008  2023-12-10        4      14       8          SF   \n422    2023121008  2023-12-10        4      14       8          SF   \n38295  2023121008  2023-12-10        4      14       8         SEA   \n423    2023121008  2023-12-10        4      14      16          SF   \n424    2023121008  2023-12-10        4      15       0          SF   \n\n      DefenseTeam  Down  ToGo  YardLine  ...  IsTwoPointConversion  \\\n39453         PIT     0     0       100  ...                     0   \n21066         PIT     1    10        66  ...                     0   \n21067         PIT     2     9        56  ...                     0   \n21068         PIT     1    10        55  ...                     0   \n21509         PIT     2    10        44  ...                     0   \n...           ...   ...   ...       ...  ...                   ...   \n421           SEA     0     0       100  ...                     0   \n422           SEA     0     0        85  ...                     0   \n38295          SF     1    10        25  ...                     0   \n423           SEA     2     9        56  ...                     0   \n424           SEA     1    10        55  ...                     0   \n\n       IsTwoPointConversionSuccessful  RushDirection  YardLineFixed  \\\n39453                               0            NaN              0   \n21066                               0            NaN             34   \n21067                               0            NaN             44   \n21068                               0   RIGHT TACKLE             45   \n21509                               0         CENTER             44   \n...                               ...            ...            ...   \n421                                 0            NaN              0   \n422                                 0            NaN             15   \n38295                               0            NaN             25   \n423                                 0            NaN             44   \n424                                 0       LEFT END             45   \n\n      YardLineDirection  IsPenaltyAccepted  PenaltyTeam  IsNoPlay  \\\n39453               OPP                  0          NaN         0   \n21066               OPP                  1           SF         1   \n21067               OPP                  0          NaN         0   \n21068               OPP                  0          NaN         0   \n21509               OWN                  0          NaN         0   \n...                 ...                ...          ...       ...   \n421                 OPP                  0          NaN         0   \n422                 OPP                  0          NaN         0   \n38295               OWN                  0          NaN         0   \n423                 OPP                  0          SEA         0   \n424                 OPP                  0          NaN         0   \n\n             PenaltyType  PenaltyYards  \n39453                NaN             0  \n21066        FALSE START             5  \n21067                NaN             0  \n21068                NaN             0  \n21509                NaN             0  \n...                  ...           ...  \n421                  NaN             0  \n422                  NaN             0  \n38295                NaN             0  \n423    DEFENSIVE HOLDING             0  \n424                  NaN             0  \n\n[2376 rows x 45 columns]",
      "text/html": "<div>\n<style scoped>\n    .dataframe tbody tr th:only-of-type {\n        vertical-align: middle;\n    }\n\n    .dataframe tbody tr th {\n        vertical-align: top;\n    }\n\n    .dataframe thead th {\n        text-align: right;\n    }\n</style>\n<table border=\"1\" class=\"dataframe\">\n  <thead>\n    <tr style=\"text-align: right;\">\n      <th></th>\n      <th>GameId</th>\n      <th>GameDate</th>\n      <th>Quarter</th>\n      <th>Minute</th>\n      <th>Second</th>\n      <th>OffenseTeam</th>\n      <th>DefenseTeam</th>\n      <th>Down</th>\n      <th>ToGo</th>\n      <th>YardLine</th>\n      <th>...</th>\n      <th>IsTwoPointConversion</th>\n      <th>IsTwoPointConversionSuccessful</th>\n      <th>RushDirection</th>\n      <th>YardLineFixed</th>\n      <th>YardLineDirection</th>\n      <th>IsPenaltyAccepted</th>\n      <th>PenaltyTeam</th>\n      <th>IsNoPlay</th>\n      <th>PenaltyType</th>\n      <th>PenaltyYards</th>\n    </tr>\n  </thead>\n  <tbody>\n    <tr>\n      <th>39453</th>\n      <td>2023091006</td>\n      <td>2023-09-10</td>\n      <td>1</td>\n      <td>0</td>\n      <td>0</td>\n      <td>SF</td>\n      <td>PIT</td>\n      <td>0</td>\n      <td>0</td>\n      <td>100</td>\n      <td>...</td>\n      <td>0</td>\n      <td>0</td>\n      <td>NaN</td>\n      <td>0</td>\n      <td>OPP</td>\n      <td>0</td>\n      <td>NaN</td>\n      <td>0</td>\n      <td>NaN</td>\n      <td>0</td>\n    </tr>\n    <tr>\n      <th>21066</th>\n      <td>2023091006</td>\n      <td>2023-09-10</td>\n      <td>1</td>\n      <td>0</td>\n      <td>6</td>\n      <td>SF</td>\n      <td>PIT</td>\n      <td>1</td>\n      <td>10</td>\n      <td>66</td>\n      <td>...</td>\n      <td>0</td>\n      <td>0</td>\n      <td>NaN</td>\n      <td>34</td>\n      <td>OPP</td>\n      <td>1</td>\n      <td>SF</td>\n      <td>1</td>\n      <td>FALSE START</td>\n      <td>5</td>\n    </tr>\n    <tr>\n      <th>21067</th>\n      <td>2023091006</td>\n      <td>2023-09-10</td>\n      <td>1</td>\n      <td>0</td>\n      <td>37</td>\n      <td>SF</td>\n      <td>PIT</td>\n      <td>2</td>\n      <td>9</td>\n      <td>56</td>\n      <td>...</td>\n      <td>0</td>\n      <td>0</td>\n      <td>NaN</td>\n      <td>44</td>\n      <td>OPP</td>\n      <td>0</td>\n      <td>NaN</td>\n      <td>0</td>\n      <td>NaN</td>\n      <td>0</td>\n    </tr>\n    <tr>\n      <th>21068</th>\n      <td>2023091006</td>\n      <td>2023-09-10</td>\n      <td>1</td>\n      <td>1</td>\n      <td>17</td>\n      <td>SF</td>\n      <td>PIT</td>\n      <td>1</td>\n      <td>10</td>\n      <td>55</td>\n      <td>...</td>\n      <td>0</td>\n      <td>0</td>\n      <td>RIGHT TACKLE</td>\n      <td>45</td>\n      <td>OPP</td>\n      <td>0</td>\n      <td>NaN</td>\n      <td>0</td>\n      <td>NaN</td>\n      <td>0</td>\n    </tr>\n    <tr>\n      <th>21509</th>\n      <td>2023091006</td>\n      <td>2023-09-10</td>\n      <td>1</td>\n      <td>1</td>\n      <td>57</td>\n      <td>SF</td>\n      <td>PIT</td>\n      <td>2</td>\n      <td>10</td>\n      <td>44</td>\n      <td>...</td>\n      <td>0</td>\n      <td>0</td>\n      <td>CENTER</td>\n      <td>44</td>\n      <td>OWN</td>\n      <td>0</td>\n      <td>NaN</td>\n      <td>0</td>\n      <td>NaN</td>\n      <td>0</td>\n    </tr>\n    <tr>\n      <th>...</th>\n      <td>...</td>\n      <td>...</td>\n      <td>...</td>\n      <td>...</td>\n      <td>...</td>\n      <td>...</td>\n      <td>...</td>\n      <td>...</td>\n      <td>...</td>\n      <td>...</td>\n      <td>...</td>\n      <td>...</td>\n      <td>...</td>\n      <td>...</td>\n      <td>...</td>\n      <td>...</td>\n      <td>...</td>\n      <td>...</td>\n      <td>...</td>\n      <td>...</td>\n      <td>...</td>\n    </tr>\n    <tr>\n      <th>421</th>\n      <td>2023121008</td>\n      <td>2023-12-10</td>\n      <td>4</td>\n      <td>14</td>\n      <td>8</td>\n      <td>SF</td>\n      <td>SEA</td>\n      <td>0</td>\n      <td>0</td>\n      <td>100</td>\n      <td>...</td>\n      <td>0</td>\n      <td>0</td>\n      <td>NaN</td>\n      <td>0</td>\n      <td>OPP</td>\n      <td>0</td>\n      <td>NaN</td>\n      <td>0</td>\n      <td>NaN</td>\n      <td>0</td>\n    </tr>\n    <tr>\n      <th>422</th>\n      <td>2023121008</td>\n      <td>2023-12-10</td>\n      <td>4</td>\n      <td>14</td>\n      <td>8</td>\n      <td>SF</td>\n      <td>SEA</td>\n      <td>0</td>\n      <td>0</td>\n      <td>85</td>\n      <td>...</td>\n      <td>0</td>\n      <td>0</td>\n      <td>NaN</td>\n      <td>15</td>\n      <td>OPP</td>\n      <td>0</td>\n      <td>NaN</td>\n      <td>0</td>\n      <td>NaN</td>\n      <td>0</td>\n    </tr>\n    <tr>\n      <th>38295</th>\n      <td>2023121008</td>\n      <td>2023-12-10</td>\n      <td>4</td>\n      <td>14</td>\n      <td>8</td>\n      <td>SEA</td>\n      <td>SF</td>\n      <td>1</td>\n      <td>10</td>\n      <td>25</td>\n      <td>...</td>\n      <td>0</td>\n      <td>0</td>\n      <td>NaN</td>\n      <td>25</td>\n      <td>OWN</td>\n      <td>0</td>\n      <td>NaN</td>\n      <td>0</td>\n      <td>NaN</td>\n      <td>0</td>\n    </tr>\n    <tr>\n      <th>423</th>\n      <td>2023121008</td>\n      <td>2023-12-10</td>\n      <td>4</td>\n      <td>14</td>\n      <td>16</td>\n      <td>SF</td>\n      <td>SEA</td>\n      <td>2</td>\n      <td>9</td>\n      <td>56</td>\n      <td>...</td>\n      <td>0</td>\n      <td>0</td>\n      <td>NaN</td>\n      <td>44</td>\n      <td>OPP</td>\n      <td>0</td>\n      <td>SEA</td>\n      <td>0</td>\n      <td>DEFENSIVE HOLDING</td>\n      <td>0</td>\n    </tr>\n    <tr>\n      <th>424</th>\n      <td>2023121008</td>\n      <td>2023-12-10</td>\n      <td>4</td>\n      <td>15</td>\n      <td>0</td>\n      <td>SF</td>\n      <td>SEA</td>\n      <td>1</td>\n      <td>10</td>\n      <td>55</td>\n      <td>...</td>\n      <td>0</td>\n      <td>0</td>\n      <td>LEFT END</td>\n      <td>45</td>\n      <td>OPP</td>\n      <td>0</td>\n      <td>NaN</td>\n      <td>0</td>\n      <td>NaN</td>\n      <td>0</td>\n    </tr>\n  </tbody>\n</table>\n<p>2376 rows × 45 columns</p>\n</div>"
     },
     "execution_count": 28,
     "metadata": {},
     "output_type": "execute_result"
    }
   ],
   "source": [
    "df3 = df1[(df1['OffenseTeam']  == 'SF') | (df1['DefenseTeam']  == 'SF')]\n",
    "df_SF = df3.sort_values(by=['GameDate','Quarter','Minute','Second'])\n",
    "df_SF"
   ],
   "metadata": {
    "collapsed": false,
    "ExecuteTime": {
     "end_time": "2024-02-10T03:15:32.424901100Z",
     "start_time": "2024-02-10T03:15:32.268617800Z"
    }
   },
   "id": "1a98aa9c9ff8fc86",
   "execution_count": 28
  },
  {
   "cell_type": "code",
   "outputs": [
    {
     "data": {
      "text/plain": "PlayType\nPASS                    903\nRUSH                    591\nKICK OFF                132\nPUNT                     96\nTIMEOUT                  92\nSACK                     68\nEXTRA POINT              64\nFIELD GOAL               45\nSCRAMBLE                 44\nNO PLAY                  36\nQB KNEEL                 25\nCLOCK STOP                5\nTWO-POINT CONVERSION      4\nFUMBLES                   3\nEXCEPTION                 1\nName: count, dtype: int64"
     },
     "execution_count": 33,
     "metadata": {},
     "output_type": "execute_result"
    }
   ],
   "source": [
    "df_SF['PlayType'].value_counts()"
   ],
   "metadata": {
    "collapsed": false,
    "ExecuteTime": {
     "end_time": "2024-02-10T03:35:01.679864800Z",
     "start_time": "2024-02-10T03:35:01.663917400Z"
    }
   },
   "id": "6e3ffd3b9c7387f5",
   "execution_count": 33
  },
  {
   "cell_type": "code",
   "outputs": [
    {
     "data": {
      "text/plain": "          PlayType  Yards\n39453          NaN      0\n21066      NO PLAY      0\n21067         PASS     10\n21068         RUSH      1\n21509         RUSH     11\n...            ...    ...\n421            NaN      0\n422    EXTRA POINT      0\n38295         PASS      0\n423           PASS     44\n424           RUSH      1\n\n[2376 rows x 2 columns]",
      "text/html": "<div>\n<style scoped>\n    .dataframe tbody tr th:only-of-type {\n        vertical-align: middle;\n    }\n\n    .dataframe tbody tr th {\n        vertical-align: top;\n    }\n\n    .dataframe thead th {\n        text-align: right;\n    }\n</style>\n<table border=\"1\" class=\"dataframe\">\n  <thead>\n    <tr style=\"text-align: right;\">\n      <th></th>\n      <th>PlayType</th>\n      <th>Yards</th>\n    </tr>\n  </thead>\n  <tbody>\n    <tr>\n      <th>39453</th>\n      <td>NaN</td>\n      <td>0</td>\n    </tr>\n    <tr>\n      <th>21066</th>\n      <td>NO PLAY</td>\n      <td>0</td>\n    </tr>\n    <tr>\n      <th>21067</th>\n      <td>PASS</td>\n      <td>10</td>\n    </tr>\n    <tr>\n      <th>21068</th>\n      <td>RUSH</td>\n      <td>1</td>\n    </tr>\n    <tr>\n      <th>21509</th>\n      <td>RUSH</td>\n      <td>11</td>\n    </tr>\n    <tr>\n      <th>...</th>\n      <td>...</td>\n      <td>...</td>\n    </tr>\n    <tr>\n      <th>421</th>\n      <td>NaN</td>\n      <td>0</td>\n    </tr>\n    <tr>\n      <th>422</th>\n      <td>EXTRA POINT</td>\n      <td>0</td>\n    </tr>\n    <tr>\n      <th>38295</th>\n      <td>PASS</td>\n      <td>0</td>\n    </tr>\n    <tr>\n      <th>423</th>\n      <td>PASS</td>\n      <td>44</td>\n    </tr>\n    <tr>\n      <th>424</th>\n      <td>RUSH</td>\n      <td>1</td>\n    </tr>\n  </tbody>\n</table>\n<p>2376 rows × 2 columns</p>\n</div>"
     },
     "execution_count": 78,
     "metadata": {},
     "output_type": "execute_result"
    }
   ],
   "source": [
    "df_SF2 = df_SF[df_SF[['PlayType','Yards']].notna().any(axis=1)]\n",
    "df_SF2 = df_SF2[['PlayType','Yards']]\n",
    "df_SF2"
   ],
   "metadata": {
    "collapsed": false,
    "ExecuteTime": {
     "end_time": "2024-02-10T04:25:04.295284900Z",
     "start_time": "2024-02-10T04:25:04.273706300Z"
    }
   },
   "id": "8a13e7e224f736f6",
   "execution_count": 78
  },
  {
   "cell_type": "code",
   "outputs": [
    {
     "data": {
      "text/plain": "      PlayType  Yards\n21067     PASS     10\n21508     PASS      0\n21506     PASS      7\n21504     PASS      0\n21502     PASS      2\n...        ...    ...\n38301     PASS      0\n38299     PASS     24\n38297     PASS     30\n38295     PASS      0\n423       PASS     44\n\n[903 rows x 2 columns]",
      "text/html": "<div>\n<style scoped>\n    .dataframe tbody tr th:only-of-type {\n        vertical-align: middle;\n    }\n\n    .dataframe tbody tr th {\n        vertical-align: top;\n    }\n\n    .dataframe thead th {\n        text-align: right;\n    }\n</style>\n<table border=\"1\" class=\"dataframe\">\n  <thead>\n    <tr style=\"text-align: right;\">\n      <th></th>\n      <th>PlayType</th>\n      <th>Yards</th>\n    </tr>\n  </thead>\n  <tbody>\n    <tr>\n      <th>21067</th>\n      <td>PASS</td>\n      <td>10</td>\n    </tr>\n    <tr>\n      <th>21508</th>\n      <td>PASS</td>\n      <td>0</td>\n    </tr>\n    <tr>\n      <th>21506</th>\n      <td>PASS</td>\n      <td>7</td>\n    </tr>\n    <tr>\n      <th>21504</th>\n      <td>PASS</td>\n      <td>0</td>\n    </tr>\n    <tr>\n      <th>21502</th>\n      <td>PASS</td>\n      <td>2</td>\n    </tr>\n    <tr>\n      <th>...</th>\n      <td>...</td>\n      <td>...</td>\n    </tr>\n    <tr>\n      <th>38301</th>\n      <td>PASS</td>\n      <td>0</td>\n    </tr>\n    <tr>\n      <th>38299</th>\n      <td>PASS</td>\n      <td>24</td>\n    </tr>\n    <tr>\n      <th>38297</th>\n      <td>PASS</td>\n      <td>30</td>\n    </tr>\n    <tr>\n      <th>38295</th>\n      <td>PASS</td>\n      <td>0</td>\n    </tr>\n    <tr>\n      <th>423</th>\n      <td>PASS</td>\n      <td>44</td>\n    </tr>\n  </tbody>\n</table>\n<p>903 rows × 2 columns</p>\n</div>"
     },
     "execution_count": 79,
     "metadata": {},
     "output_type": "execute_result"
    }
   ],
   "source": [
    "df_SF2[(df_SF2['PlayType'] == 'PASS') | (df_SF2['PlayType'] == 'PASS')]"
   ],
   "metadata": {
    "collapsed": false,
    "ExecuteTime": {
     "end_time": "2024-02-10T04:25:21.978808800Z",
     "start_time": "2024-02-10T04:25:21.960936300Z"
    }
   },
   "id": "c34e06c62bc82fc6",
   "execution_count": 79
  },
  {
   "cell_type": "code",
   "outputs": [
    {
     "data": {
      "text/plain": "15.507352941176471"
     },
     "execution_count": 76,
     "metadata": {},
     "output_type": "execute_result"
    }
   ],
   "source": [
    "df_SF2_vc.groupby('PlayType').get"
   ],
   "metadata": {
    "collapsed": false,
    "ExecuteTime": {
     "end_time": "2024-02-10T04:18:37.357108200Z",
     "start_time": "2024-02-10T04:18:37.346399900Z"
    }
   },
   "id": "1462d45dc9ed3e06",
   "execution_count": 76
  },
  {
   "cell_type": "code",
   "outputs": [
    {
     "ename": "KeyError",
     "evalue": "'PlayType'",
     "output_type": "error",
     "traceback": [
      "\u001B[1;31m---------------------------------------------------------------------------\u001B[0m",
      "\u001B[1;31mKeyError\u001B[0m                                  Traceback (most recent call last)",
      "File \u001B[1;32m~\\AppData\\Local\\Programs\\Python\\Python311\\Lib\\site-packages\\pandas\\core\\indexes\\base.py:3791\u001B[0m, in \u001B[0;36mIndex.get_loc\u001B[1;34m(self, key)\u001B[0m\n\u001B[0;32m   3790\u001B[0m \u001B[38;5;28;01mtry\u001B[39;00m:\n\u001B[1;32m-> 3791\u001B[0m     \u001B[38;5;28;01mreturn\u001B[39;00m \u001B[38;5;28;43mself\u001B[39;49m\u001B[38;5;241;43m.\u001B[39;49m\u001B[43m_engine\u001B[49m\u001B[38;5;241;43m.\u001B[39;49m\u001B[43mget_loc\u001B[49m\u001B[43m(\u001B[49m\u001B[43mcasted_key\u001B[49m\u001B[43m)\u001B[49m\n\u001B[0;32m   3792\u001B[0m \u001B[38;5;28;01mexcept\u001B[39;00m \u001B[38;5;167;01mKeyError\u001B[39;00m \u001B[38;5;28;01mas\u001B[39;00m err:\n",
      "File \u001B[1;32mindex.pyx:152\u001B[0m, in \u001B[0;36mpandas._libs.index.IndexEngine.get_loc\u001B[1;34m()\u001B[0m\n",
      "File \u001B[1;32mindex.pyx:181\u001B[0m, in \u001B[0;36mpandas._libs.index.IndexEngine.get_loc\u001B[1;34m()\u001B[0m\n",
      "File \u001B[1;32mpandas\\_libs\\hashtable_class_helper.pxi:7080\u001B[0m, in \u001B[0;36mpandas._libs.hashtable.PyObjectHashTable.get_item\u001B[1;34m()\u001B[0m\n",
      "File \u001B[1;32mpandas\\_libs\\hashtable_class_helper.pxi:7088\u001B[0m, in \u001B[0;36mpandas._libs.hashtable.PyObjectHashTable.get_item\u001B[1;34m()\u001B[0m\n",
      "\u001B[1;31mKeyError\u001B[0m: 'PlayType'",
      "\nThe above exception was the direct cause of the following exception:\n",
      "\u001B[1;31mKeyError\u001B[0m                                  Traceback (most recent call last)",
      "Cell \u001B[1;32mIn[37], line 1\u001B[0m\n\u001B[1;32m----> 1\u001B[0m df_SF2[\u001B[43mdf_SF2\u001B[49m\u001B[43m[\u001B[49m\u001B[38;5;124;43m'\u001B[39;49m\u001B[38;5;124;43mPlayType\u001B[39;49m\u001B[38;5;124;43m'\u001B[39;49m\u001B[43m]\u001B[49m \u001B[38;5;241m==\u001B[39m \u001B[38;5;124m'\u001B[39m\u001B[38;5;124mPASS\u001B[39m\u001B[38;5;124m'\u001B[39m]\n",
      "File \u001B[1;32m~\\AppData\\Local\\Programs\\Python\\Python311\\Lib\\site-packages\\pandas\\core\\series.py:1040\u001B[0m, in \u001B[0;36mSeries.__getitem__\u001B[1;34m(self, key)\u001B[0m\n\u001B[0;32m   1037\u001B[0m     \u001B[38;5;28;01mreturn\u001B[39;00m \u001B[38;5;28mself\u001B[39m\u001B[38;5;241m.\u001B[39m_values[key]\n\u001B[0;32m   1039\u001B[0m \u001B[38;5;28;01melif\u001B[39;00m key_is_scalar:\n\u001B[1;32m-> 1040\u001B[0m     \u001B[38;5;28;01mreturn\u001B[39;00m \u001B[38;5;28;43mself\u001B[39;49m\u001B[38;5;241;43m.\u001B[39;49m\u001B[43m_get_value\u001B[49m\u001B[43m(\u001B[49m\u001B[43mkey\u001B[49m\u001B[43m)\u001B[49m\n\u001B[0;32m   1042\u001B[0m \u001B[38;5;66;03m# Convert generator to list before going through hashable part\u001B[39;00m\n\u001B[0;32m   1043\u001B[0m \u001B[38;5;66;03m# (We will iterate through the generator there to check for slices)\u001B[39;00m\n\u001B[0;32m   1044\u001B[0m \u001B[38;5;28;01mif\u001B[39;00m is_iterator(key):\n",
      "File \u001B[1;32m~\\AppData\\Local\\Programs\\Python\\Python311\\Lib\\site-packages\\pandas\\core\\series.py:1156\u001B[0m, in \u001B[0;36mSeries._get_value\u001B[1;34m(self, label, takeable)\u001B[0m\n\u001B[0;32m   1153\u001B[0m     \u001B[38;5;28;01mreturn\u001B[39;00m \u001B[38;5;28mself\u001B[39m\u001B[38;5;241m.\u001B[39m_values[label]\n\u001B[0;32m   1155\u001B[0m \u001B[38;5;66;03m# Similar to Index.get_value, but we do not fall back to positional\u001B[39;00m\n\u001B[1;32m-> 1156\u001B[0m loc \u001B[38;5;241m=\u001B[39m \u001B[38;5;28;43mself\u001B[39;49m\u001B[38;5;241;43m.\u001B[39;49m\u001B[43mindex\u001B[49m\u001B[38;5;241;43m.\u001B[39;49m\u001B[43mget_loc\u001B[49m\u001B[43m(\u001B[49m\u001B[43mlabel\u001B[49m\u001B[43m)\u001B[49m\n\u001B[0;32m   1158\u001B[0m \u001B[38;5;28;01mif\u001B[39;00m is_integer(loc):\n\u001B[0;32m   1159\u001B[0m     \u001B[38;5;28;01mreturn\u001B[39;00m \u001B[38;5;28mself\u001B[39m\u001B[38;5;241m.\u001B[39m_values[loc]\n",
      "File \u001B[1;32m~\\AppData\\Local\\Programs\\Python\\Python311\\Lib\\site-packages\\pandas\\core\\indexes\\multi.py:2925\u001B[0m, in \u001B[0;36mMultiIndex.get_loc\u001B[1;34m(self, key)\u001B[0m\n\u001B[0;32m   2922\u001B[0m     \u001B[38;5;28;01mreturn\u001B[39;00m mask\n\u001B[0;32m   2924\u001B[0m \u001B[38;5;28;01mif\u001B[39;00m \u001B[38;5;129;01mnot\u001B[39;00m \u001B[38;5;28misinstance\u001B[39m(key, \u001B[38;5;28mtuple\u001B[39m):\n\u001B[1;32m-> 2925\u001B[0m     loc \u001B[38;5;241m=\u001B[39m \u001B[38;5;28;43mself\u001B[39;49m\u001B[38;5;241;43m.\u001B[39;49m\u001B[43m_get_level_indexer\u001B[49m\u001B[43m(\u001B[49m\u001B[43mkey\u001B[49m\u001B[43m,\u001B[49m\u001B[43m \u001B[49m\u001B[43mlevel\u001B[49m\u001B[38;5;241;43m=\u001B[39;49m\u001B[38;5;241;43m0\u001B[39;49m\u001B[43m)\u001B[49m\n\u001B[0;32m   2926\u001B[0m     \u001B[38;5;28;01mreturn\u001B[39;00m _maybe_to_slice(loc)\n\u001B[0;32m   2928\u001B[0m keylen \u001B[38;5;241m=\u001B[39m \u001B[38;5;28mlen\u001B[39m(key)\n",
      "File \u001B[1;32m~\\AppData\\Local\\Programs\\Python\\Python311\\Lib\\site-packages\\pandas\\core\\indexes\\multi.py:3276\u001B[0m, in \u001B[0;36mMultiIndex._get_level_indexer\u001B[1;34m(self, key, level, indexer)\u001B[0m\n\u001B[0;32m   3273\u001B[0m         \u001B[38;5;28;01mreturn\u001B[39;00m \u001B[38;5;28mslice\u001B[39m(i, j, step)\n\u001B[0;32m   3275\u001B[0m \u001B[38;5;28;01melse\u001B[39;00m:\n\u001B[1;32m-> 3276\u001B[0m     idx \u001B[38;5;241m=\u001B[39m \u001B[38;5;28;43mself\u001B[39;49m\u001B[38;5;241;43m.\u001B[39;49m\u001B[43m_get_loc_single_level_index\u001B[49m\u001B[43m(\u001B[49m\u001B[43mlevel_index\u001B[49m\u001B[43m,\u001B[49m\u001B[43m \u001B[49m\u001B[43mkey\u001B[49m\u001B[43m)\u001B[49m\n\u001B[0;32m   3278\u001B[0m     \u001B[38;5;28;01mif\u001B[39;00m level \u001B[38;5;241m>\u001B[39m \u001B[38;5;241m0\u001B[39m \u001B[38;5;129;01mor\u001B[39;00m \u001B[38;5;28mself\u001B[39m\u001B[38;5;241m.\u001B[39m_lexsort_depth \u001B[38;5;241m==\u001B[39m \u001B[38;5;241m0\u001B[39m:\n\u001B[0;32m   3279\u001B[0m         \u001B[38;5;66;03m# Desired level is not sorted\u001B[39;00m\n\u001B[0;32m   3280\u001B[0m         \u001B[38;5;28;01mif\u001B[39;00m \u001B[38;5;28misinstance\u001B[39m(idx, \u001B[38;5;28mslice\u001B[39m):\n\u001B[0;32m   3281\u001B[0m             \u001B[38;5;66;03m# test_get_loc_partial_timestamp_multiindex\u001B[39;00m\n",
      "File \u001B[1;32m~\\AppData\\Local\\Programs\\Python\\Python311\\Lib\\site-packages\\pandas\\core\\indexes\\multi.py:2865\u001B[0m, in \u001B[0;36mMultiIndex._get_loc_single_level_index\u001B[1;34m(self, level_index, key)\u001B[0m\n\u001B[0;32m   2863\u001B[0m     \u001B[38;5;28;01mreturn\u001B[39;00m \u001B[38;5;241m-\u001B[39m\u001B[38;5;241m1\u001B[39m\n\u001B[0;32m   2864\u001B[0m \u001B[38;5;28;01melse\u001B[39;00m:\n\u001B[1;32m-> 2865\u001B[0m     \u001B[38;5;28;01mreturn\u001B[39;00m \u001B[43mlevel_index\u001B[49m\u001B[38;5;241;43m.\u001B[39;49m\u001B[43mget_loc\u001B[49m\u001B[43m(\u001B[49m\u001B[43mkey\u001B[49m\u001B[43m)\u001B[49m\n",
      "File \u001B[1;32m~\\AppData\\Local\\Programs\\Python\\Python311\\Lib\\site-packages\\pandas\\core\\indexes\\base.py:3798\u001B[0m, in \u001B[0;36mIndex.get_loc\u001B[1;34m(self, key)\u001B[0m\n\u001B[0;32m   3793\u001B[0m     \u001B[38;5;28;01mif\u001B[39;00m \u001B[38;5;28misinstance\u001B[39m(casted_key, \u001B[38;5;28mslice\u001B[39m) \u001B[38;5;129;01mor\u001B[39;00m (\n\u001B[0;32m   3794\u001B[0m         \u001B[38;5;28misinstance\u001B[39m(casted_key, abc\u001B[38;5;241m.\u001B[39mIterable)\n\u001B[0;32m   3795\u001B[0m         \u001B[38;5;129;01mand\u001B[39;00m \u001B[38;5;28many\u001B[39m(\u001B[38;5;28misinstance\u001B[39m(x, \u001B[38;5;28mslice\u001B[39m) \u001B[38;5;28;01mfor\u001B[39;00m x \u001B[38;5;129;01min\u001B[39;00m casted_key)\n\u001B[0;32m   3796\u001B[0m     ):\n\u001B[0;32m   3797\u001B[0m         \u001B[38;5;28;01mraise\u001B[39;00m InvalidIndexError(key)\n\u001B[1;32m-> 3798\u001B[0m     \u001B[38;5;28;01mraise\u001B[39;00m \u001B[38;5;167;01mKeyError\u001B[39;00m(key) \u001B[38;5;28;01mfrom\u001B[39;00m \u001B[38;5;21;01merr\u001B[39;00m\n\u001B[0;32m   3799\u001B[0m \u001B[38;5;28;01mexcept\u001B[39;00m \u001B[38;5;167;01mTypeError\u001B[39;00m:\n\u001B[0;32m   3800\u001B[0m     \u001B[38;5;66;03m# If we have a listlike key, _check_indexing_error will raise\u001B[39;00m\n\u001B[0;32m   3801\u001B[0m     \u001B[38;5;66;03m#  InvalidIndexError. Otherwise we fall through and re-raise\u001B[39;00m\n\u001B[0;32m   3802\u001B[0m     \u001B[38;5;66;03m#  the TypeError.\u001B[39;00m\n\u001B[0;32m   3803\u001B[0m     \u001B[38;5;28mself\u001B[39m\u001B[38;5;241m.\u001B[39m_check_indexing_error(key)\n",
      "\u001B[1;31mKeyError\u001B[0m: 'PlayType'"
     ]
    }
   ],
   "source": [
    "df_SF2_vc[df_SF2_vc['PlayType'] == 'PASS']"
   ],
   "metadata": {
    "collapsed": false,
    "ExecuteTime": {
     "end_time": "2024-02-10T03:47:11.339647100Z",
     "start_time": "2024-02-10T03:47:11.198428100Z"
    }
   },
   "id": "a6176edb551d201f",
   "execution_count": 37
  }
 ],
 "metadata": {
  "kernelspec": {
   "display_name": "Python 3",
   "language": "python",
   "name": "python3"
  },
  "language_info": {
   "codemirror_mode": {
    "name": "ipython",
    "version": 2
   },
   "file_extension": ".py",
   "mimetype": "text/x-python",
   "name": "python",
   "nbconvert_exporter": "python",
   "pygments_lexer": "ipython2",
   "version": "2.7.6"
  }
 },
 "nbformat": 4,
 "nbformat_minor": 5
}
