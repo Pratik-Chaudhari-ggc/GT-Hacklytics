{
 "cells": [
  {
   "cell_type": "code",
   "execution_count": null,
   "id": "initial_id",
   "metadata": {
    "collapsed": true,
    "is_executing": true,
    "ExecuteTime": {
     "start_time": "2024-02-11T02:35:32.291152500Z"
    }
   },
   "outputs": [],
   "source": [
    "import pandas as pd\n",
    "import numpy as np\n",
    "import matplotlib.pyplot as plt"
   ]
  },
  {
   "cell_type": "code",
   "outputs": [],
   "source": [
    "df_train_final = pd.read_csv('../datasets/train.csv')\n",
    "df_test_final = pd.read_csv('../datasets/test.csv')"
   ],
   "metadata": {
    "collapsed": false,
    "is_executing": true,
    "ExecuteTime": {
     "start_time": "2024-02-11T02:35:32.299792500Z"
    }
   },
   "id": "966d9ed141e39152",
   "execution_count": null
  },
  {
   "cell_type": "code",
   "outputs": [],
   "source": [
    "df_train_final"
   ],
   "metadata": {
    "collapsed": false,
    "is_executing": true,
    "ExecuteTime": {
     "start_time": "2024-02-11T02:35:32.469423100Z"
    }
   },
   "id": "dec96998545271cd",
   "execution_count": null
  },
  {
   "cell_type": "code",
   "outputs": [],
   "source": [
    "print(df_train_final['WinningTeam'].unique())\n"
   ],
   "metadata": {
    "collapsed": false,
    "is_executing": true,
    "ExecuteTime": {
     "start_time": "2024-02-11T02:35:32.513250700Z"
    }
   },
   "id": "9533e54584bde2f0",
   "execution_count": null
  },
  {
   "cell_type": "code",
   "outputs": [],
   "source": [
    "df_test_final"
   ],
   "metadata": {
    "collapsed": false,
    "is_executing": true,
    "ExecuteTime": {
     "start_time": "2024-02-11T02:35:32.522942400Z"
    }
   },
   "id": "92c209adaabdfe91",
   "execution_count": null
  },
  {
   "cell_type": "code",
   "outputs": [],
   "source": [
    "print(df_test_final['WinningTeam'].unique())"
   ],
   "metadata": {
    "collapsed": false,
    "is_executing": true,
    "ExecuteTime": {
     "start_time": "2024-02-11T02:35:32.559356Z"
    }
   },
   "id": "633dfdee9d649306",
   "execution_count": null
  },
  {
   "cell_type": "code",
   "outputs": [],
   "source": [
    "df_train_final['PenaltyOnWinner'] = df_train_final.apply(lambda row: row['Winner/tie'] == row['PenaltyTeam'], axis = 1)\n",
    "df_test_final['PenaltyOnWinner'] = df_test_final.apply(lambda row: row['Winner/tie'] == row['PenaltyTeam'], axis = 1)"
   ],
   "metadata": {
    "collapsed": false,
    "is_executing": true,
    "ExecuteTime": {
     "start_time": "2024-02-11T02:35:32.568357400Z"
    }
   },
   "id": "a2e5b5996efdcaf7",
   "execution_count": null
  },
  {
   "cell_type": "code",
   "outputs": [],
   "source": [
    "feature_list_pca = ['Down','ToGo','YardLine','SeriesFirstDown','Yards','IsRush','IsPass','IsIncomplete','IsTouchdown','IsSack','IsChallenge','IsChallengeReversed','IsInterception','IsFumble','IsPenalty','IsTwoPointConversion','IsTwoPointConversionSuccessful','IsPenaltyAccepted','PenaltyOnWinner', 'Winner']\n",
    "X_train_pca = df_train_final[feature_list_pca]\n",
    "y_train_pca = df_train_final['Winner']\n",
    "X_test = df_test_final[feature_list_pca]\n",
    "y_test = df_test_final['Winner']"
   ],
   "metadata": {
    "collapsed": false,
    "is_executing": true,
    "ExecuteTime": {
     "start_time": "2024-02-11T02:35:32.987841500Z"
    }
   },
   "id": "973ad8317f2b9704",
   "execution_count": null
  },
  {
   "cell_type": "markdown",
   "source": [
    "# pca\n"
   ],
   "metadata": {
    "collapsed": false
   },
   "id": "8d776864662b5850"
  },
  {
   "cell_type": "code",
   "outputs": [],
   "source": [
    "from sklearn.preprocessing import StandardScaler\n",
    "from sklearn.model_selection import train_test_split\n",
    "from sklearn.decomposition import PCA"
   ],
   "metadata": {
    "collapsed": false,
    "is_executing": true,
    "ExecuteTime": {
     "start_time": "2024-02-11T02:35:33.000536100Z"
    }
   },
   "id": "32eed998e30cdb1f",
   "execution_count": null
  },
  {
   "cell_type": "code",
   "outputs": [],
   "source": [
    "ss = StandardScaler()\n",
    "X_train_scaled = ss.fit_transform(X_train_pca)\n",
    "X_test_scaled = ss.transform(X_test)"
   ],
   "metadata": {
    "collapsed": false,
    "is_executing": true,
    "ExecuteTime": {
     "start_time": "2024-02-11T02:35:33.010412400Z"
    }
   },
   "id": "491509479bf15463",
   "execution_count": null
  },
  {
   "cell_type": "code",
   "outputs": [],
   "source": [
    "pca = PCA(n_components=len(feature_list_pca)).fit(X_train_scaled)\n",
    "\n",
    "plt.plot(pca1.explained_variance_ratio_.cumsum(), lw=3, color='#087E8B')\n",
    "plt.title('Cumulative explained variance by number of principal components', size=20)\n",
    "plt.xticks(range(0,21,2))\n",
    "plt.show()"
   ],
   "metadata": {
    "collapsed": false,
    "is_executing": true,
    "ExecuteTime": {
     "start_time": "2024-02-11T02:35:33.056641700Z"
    }
   },
   "id": "85a4207ff106b07d",
   "execution_count": null
  },
  {
   "cell_type": "code",
   "outputs": [],
   "source": [
    "loadings = pd.DataFrame(\n",
    "    data=pca.components_.T * np.sqrt(pca.explained_variance_),\n",
    "    columns=[f'PC{i}' for i in range(1, len(X_train_pca.columns) + 1)],\n",
    "    index=X_train_pca.columns\n",
    ")\n",
    "loadings.head()"
   ],
   "metadata": {
    "collapsed": false,
    "is_executing": true,
    "ExecuteTime": {
     "start_time": "2024-02-11T02:35:33.233204400Z"
    }
   },
   "id": "96f8d55b5439d24f",
   "execution_count": null
  },
  {
   "cell_type": "code",
   "outputs": [],
   "source": [
    "pc1_loadings = loadings.sort_values(by='PC1', ascending=True)[['PC1']]\n",
    "pc1_loadings = pc1_loadings.reset_index()\n",
    "pc1_loadings.columns = ['Attribute', 'CorrelationWithPC1']\n",
    "\n",
    "plt.bar(x=pc1_loadings['Attribute'], height=pc1_loadings['CorrelationWithPC1'], color='#087E8B')\n",
    "plt.title('PCA loading scores (first principal component)', size=20)\n",
    "plt.xticks(rotation='vertical')\n",
    "plt.show()"
   ],
   "metadata": {
    "collapsed": false,
    "is_executing": true,
    "ExecuteTime": {
     "start_time": "2024-02-11T02:35:33.251919Z"
    }
   },
   "id": "783f42021802e577",
   "execution_count": null
  },
  {
   "cell_type": "code",
   "outputs": [],
   "source": [
    "pc2_loadings = loadings.sort_values(by='PC2', ascending=True)[['PC2']]\n",
    "pc2_loadings = pc2_loadings.reset_index()\n",
    "pc2_loadings.columns = ['Attribute', 'CorrelationWithPC2']\n",
    "\n",
    "plt.bar(x=pc2_loadings['Attribute'], height=pc2_loadings['CorrelationWithPC2'], color='#087E8B')\n",
    "plt.title('PCA loading scores (second principal component)', size=20)\n",
    "plt.xticks(rotation='vertical')\n",
    "plt.show()"
   ],
   "metadata": {
    "collapsed": false,
    "is_executing": true,
    "ExecuteTime": {
     "start_time": "2024-02-11T02:35:33.461101300Z"
    }
   },
   "id": "850e5fd1ee0b1847",
   "execution_count": null
  },
  {
   "cell_type": "code",
   "outputs": [],
   "source": [
    "loading_abscumsum = loadings.apply(lambda row: sum(abs(row)), axis = 1).sort_values(ascending=True)"
   ],
   "metadata": {
    "collapsed": false,
    "is_executing": true,
    "ExecuteTime": {
     "start_time": "2024-02-11T02:35:33.685683400Z"
    }
   },
   "id": "8637c9b9aa8b8ec8",
   "execution_count": null
  },
  {
   "cell_type": "code",
   "outputs": [],
   "source": [
    "loading_abscumsum.plot.barh()"
   ],
   "metadata": {
    "collapsed": false,
    "is_executing": true,
    "ExecuteTime": {
     "start_time": "2024-02-11T02:35:33.696222400Z"
    }
   },
   "id": "63098746188a1883",
   "execution_count": null
  },
  {
   "cell_type": "code",
   "outputs": [],
   "source": [
    "feature_list_dtc = loading_abscumsum[loading_abscumsum > loading_abscumsum.quantile(q=0.5)].index.to_list()\n",
    "feature_list_dtc"
   ],
   "metadata": {
    "collapsed": false,
    "is_executing": true,
    "ExecuteTime": {
     "start_time": "2024-02-11T02:35:33.890145300Z"
    }
   },
   "id": "5728fbdf190ffb6a",
   "execution_count": null
  },
  {
   "cell_type": "markdown",
   "source": [
    "# dtc"
   ],
   "metadata": {
    "collapsed": false
   },
   "id": "1be8ec01c3bd2d26"
  },
  {
   "cell_type": "code",
   "outputs": [],
   "source": [
    "from sklearn.tree import DecisionTreeClassifier as dtc\n",
    "# from sklearn.model_selection import train_test_split as tts\n",
    "from sklearn import tree\n",
    "from sklearn.metrics import accuracy_score"
   ],
   "metadata": {
    "collapsed": false,
    "is_executing": true,
    "ExecuteTime": {
     "start_time": "2024-02-11T02:35:33.899804200Z"
    }
   },
   "id": "de3f32ceb3cfa223",
   "execution_count": null
  },
  {
   "cell_type": "code",
   "outputs": [],
   "source": [
    "X_train_dtc = df_train_final[feature_list_dtc]\n",
    "y_train_dtc = df_train_final['Winner']\n",
    "X_test_dtc = df_test_final[feature_list_dtc]\n",
    "y_test_dtc = df_test_final['Winner']"
   ],
   "metadata": {
    "collapsed": false,
    "is_executing": true,
    "ExecuteTime": {
     "start_time": "2024-02-11T02:35:33.907055700Z"
    }
   },
   "id": "593006fde18a9e53",
   "execution_count": null
  },
  {
   "cell_type": "code",
   "outputs": [],
   "source": [
    "clf = dtc(criterion='entropy')\n",
    "clf.fit(X_train_dtc,y_train_dtc)"
   ],
   "metadata": {
    "collapsed": false,
    "is_executing": true,
    "ExecuteTime": {
     "start_time": "2024-02-11T02:35:33.916469300Z"
    }
   },
   "id": "d9ffa23b90807f69",
   "execution_count": null
  },
  {
   "cell_type": "code",
   "outputs": [],
   "source": [
    "tree.plot_tree(clf, feature_names=feature_list_dtc, class_names=['Winner','Loser'])"
   ],
   "metadata": {
    "collapsed": false,
    "is_executing": true,
    "ExecuteTime": {
     "start_time": "2024-02-11T02:35:34.018339500Z"
    }
   },
   "id": "d3471f9af0dc6d63",
   "execution_count": null
  },
  {
   "cell_type": "code",
   "outputs": [],
   "source": [
    "pred = clf.predict(X_test)\n",
    "accuracy = accuracy_score(pred, y_test)\n",
    "accuracy"
   ],
   "metadata": {
    "collapsed": false,
    "is_executing": true
   },
   "id": "b5912c8ae7b3b44d"
  },
  {
   "cell_type": "code",
   "outputs": [],
   "source": [],
   "metadata": {
    "collapsed": false,
    "is_executing": true
   },
   "id": "3bdd81cdf8354a44",
   "execution_count": null
  }
 ],
 "metadata": {
  "kernelspec": {
   "display_name": "Python 3",
   "language": "python",
   "name": "python3"
  },
  "language_info": {
   "codemirror_mode": {
    "name": "ipython",
    "version": 2
   },
   "file_extension": ".py",
   "mimetype": "text/x-python",
   "name": "python",
   "nbconvert_exporter": "python",
   "pygments_lexer": "ipython2",
   "version": "2.7.6"
  }
 },
 "nbformat": 4,
 "nbformat_minor": 5
}
