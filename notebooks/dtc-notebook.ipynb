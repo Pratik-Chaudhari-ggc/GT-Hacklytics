{
 "cells": [
  {
   "cell_type": "code",
   "execution_count": 14,
   "id": "initial_id",
   "metadata": {
    "collapsed": true,
    "ExecuteTime": {
     "end_time": "2024-02-10T23:08:56.106348600Z",
     "start_time": "2024-02-10T23:08:56.080557300Z"
    }
   },
   "outputs": [],
   "source": [
    "import pandas as pd\n",
    "import numpy as np\n",
    "import matplotlib.pyplot as plt"
   ]
  },
  {
   "cell_type": "code",
   "outputs": [],
   "source": [
    "df_train_final = pd.read_csv('../datasets/train.csv')\n",
    "df_test_final = pd.read_csv('../datasets/test.csv')"
   ],
   "metadata": {
    "collapsed": false,
    "ExecuteTime": {
     "end_time": "2024-02-10T23:15:44.666570400Z",
     "start_time": "2024-02-10T23:15:44.497793600Z"
    }
   },
   "id": "966d9ed141e39152",
   "execution_count": 21
  },
  {
   "cell_type": "code",
   "outputs": [
    {
     "data": {
      "text/plain": "       Unnamed: 0      GameId   GameDate  Quarter  Minute  Second OffenseTeam  \\\n0               0  2021010310   1/3/2021        3       8      49         ATL   \n1               1  2021010310   1/3/2021        3       7      13         ATL   \n2               2  2021010310   1/3/2021        3       8      49          TB   \n3               3  2021010306   1/3/2021        1      11      45          KC   \n4               4  2021010310   1/3/2021        1      15       0         ATL   \n...           ...         ...        ...      ...     ...     ...         ...   \n37091       37091  2020092800  9/28/2020        2      11       6         BAL   \n37092       37092  2020092800  9/28/2020        2      10      27         BAL   \n37093       37093  2020092800  9/28/2020        2      10      23         BAL   \n37094       37094  2020092800  9/28/2020        1      10      52         BAL   \n37095       37095  2020092800  9/28/2020        4      12      27          KC   \n\n      DefenseTeam  Down  ToGo  ...  Date  Time  PtsW  PtsL YdsW TOW  YdsL  \\\n0              TB     0     0  ...   NaN   NaN   NaN   NaN  NaN NaN   NaN   \n1              TB     1    10  ...   NaN   NaN   NaN   NaN  NaN NaN   NaN   \n2             ATL     1    10  ...   NaN   NaN   NaN   NaN  NaN NaN   NaN   \n3             LAC     1     8  ...   NaN   NaN   NaN   NaN  NaN NaN   NaN   \n4              TB     0     0  ...   NaN   NaN   NaN   NaN  NaN NaN   NaN   \n...           ...   ...   ...  ...   ...   ...   ...   ...  ...  ..   ...   \n37091          KC     1    10  ...   NaN   NaN   NaN   NaN  NaN NaN   NaN   \n37092          KC     2     6  ...   NaN   NaN   NaN   NaN  NaN NaN   NaN   \n37093          KC     3     6  ...   NaN   NaN   NaN   NaN  NaN NaN   NaN   \n37094          KC     1    10  ...   NaN   NaN   NaN   NaN  NaN NaN   NaN   \n37095         BAL     2    10  ...   NaN   NaN   NaN   NaN  NaN NaN   NaN   \n\n       TOL  Winner  WinningTeam  \n0      NaN   False          NaN  \n1      NaN   False          NaN  \n2      NaN   False          NaN  \n3      NaN   False          NaN  \n4      NaN   False          NaN  \n...    ...     ...          ...  \n37091  NaN   False          NaN  \n37092  NaN   False          NaN  \n37093  NaN   False          NaN  \n37094  NaN   False          NaN  \n37095  NaN   False          NaN  \n\n[37096 rows x 47 columns]",
      "text/html": "<div>\n<style scoped>\n    .dataframe tbody tr th:only-of-type {\n        vertical-align: middle;\n    }\n\n    .dataframe tbody tr th {\n        vertical-align: top;\n    }\n\n    .dataframe thead th {\n        text-align: right;\n    }\n</style>\n<table border=\"1\" class=\"dataframe\">\n  <thead>\n    <tr style=\"text-align: right;\">\n      <th></th>\n      <th>Unnamed: 0</th>\n      <th>GameId</th>\n      <th>GameDate</th>\n      <th>Quarter</th>\n      <th>Minute</th>\n      <th>Second</th>\n      <th>OffenseTeam</th>\n      <th>DefenseTeam</th>\n      <th>Down</th>\n      <th>ToGo</th>\n      <th>...</th>\n      <th>Date</th>\n      <th>Time</th>\n      <th>PtsW</th>\n      <th>PtsL</th>\n      <th>YdsW</th>\n      <th>TOW</th>\n      <th>YdsL</th>\n      <th>TOL</th>\n      <th>Winner</th>\n      <th>WinningTeam</th>\n    </tr>\n  </thead>\n  <tbody>\n    <tr>\n      <th>0</th>\n      <td>0</td>\n      <td>2021010310</td>\n      <td>1/3/2021</td>\n      <td>3</td>\n      <td>8</td>\n      <td>49</td>\n      <td>ATL</td>\n      <td>TB</td>\n      <td>0</td>\n      <td>0</td>\n      <td>...</td>\n      <td>NaN</td>\n      <td>NaN</td>\n      <td>NaN</td>\n      <td>NaN</td>\n      <td>NaN</td>\n      <td>NaN</td>\n      <td>NaN</td>\n      <td>NaN</td>\n      <td>False</td>\n      <td>NaN</td>\n    </tr>\n    <tr>\n      <th>1</th>\n      <td>1</td>\n      <td>2021010310</td>\n      <td>1/3/2021</td>\n      <td>3</td>\n      <td>7</td>\n      <td>13</td>\n      <td>ATL</td>\n      <td>TB</td>\n      <td>1</td>\n      <td>10</td>\n      <td>...</td>\n      <td>NaN</td>\n      <td>NaN</td>\n      <td>NaN</td>\n      <td>NaN</td>\n      <td>NaN</td>\n      <td>NaN</td>\n      <td>NaN</td>\n      <td>NaN</td>\n      <td>False</td>\n      <td>NaN</td>\n    </tr>\n    <tr>\n      <th>2</th>\n      <td>2</td>\n      <td>2021010310</td>\n      <td>1/3/2021</td>\n      <td>3</td>\n      <td>8</td>\n      <td>49</td>\n      <td>TB</td>\n      <td>ATL</td>\n      <td>1</td>\n      <td>10</td>\n      <td>...</td>\n      <td>NaN</td>\n      <td>NaN</td>\n      <td>NaN</td>\n      <td>NaN</td>\n      <td>NaN</td>\n      <td>NaN</td>\n      <td>NaN</td>\n      <td>NaN</td>\n      <td>False</td>\n      <td>NaN</td>\n    </tr>\n    <tr>\n      <th>3</th>\n      <td>3</td>\n      <td>2021010306</td>\n      <td>1/3/2021</td>\n      <td>1</td>\n      <td>11</td>\n      <td>45</td>\n      <td>KC</td>\n      <td>LAC</td>\n      <td>1</td>\n      <td>8</td>\n      <td>...</td>\n      <td>NaN</td>\n      <td>NaN</td>\n      <td>NaN</td>\n      <td>NaN</td>\n      <td>NaN</td>\n      <td>NaN</td>\n      <td>NaN</td>\n      <td>NaN</td>\n      <td>False</td>\n      <td>NaN</td>\n    </tr>\n    <tr>\n      <th>4</th>\n      <td>4</td>\n      <td>2021010310</td>\n      <td>1/3/2021</td>\n      <td>1</td>\n      <td>15</td>\n      <td>0</td>\n      <td>ATL</td>\n      <td>TB</td>\n      <td>0</td>\n      <td>0</td>\n      <td>...</td>\n      <td>NaN</td>\n      <td>NaN</td>\n      <td>NaN</td>\n      <td>NaN</td>\n      <td>NaN</td>\n      <td>NaN</td>\n      <td>NaN</td>\n      <td>NaN</td>\n      <td>False</td>\n      <td>NaN</td>\n    </tr>\n    <tr>\n      <th>...</th>\n      <td>...</td>\n      <td>...</td>\n      <td>...</td>\n      <td>...</td>\n      <td>...</td>\n      <td>...</td>\n      <td>...</td>\n      <td>...</td>\n      <td>...</td>\n      <td>...</td>\n      <td>...</td>\n      <td>...</td>\n      <td>...</td>\n      <td>...</td>\n      <td>...</td>\n      <td>...</td>\n      <td>...</td>\n      <td>...</td>\n      <td>...</td>\n      <td>...</td>\n      <td>...</td>\n    </tr>\n    <tr>\n      <th>37091</th>\n      <td>37091</td>\n      <td>2020092800</td>\n      <td>9/28/2020</td>\n      <td>2</td>\n      <td>11</td>\n      <td>6</td>\n      <td>BAL</td>\n      <td>KC</td>\n      <td>1</td>\n      <td>10</td>\n      <td>...</td>\n      <td>NaN</td>\n      <td>NaN</td>\n      <td>NaN</td>\n      <td>NaN</td>\n      <td>NaN</td>\n      <td>NaN</td>\n      <td>NaN</td>\n      <td>NaN</td>\n      <td>False</td>\n      <td>NaN</td>\n    </tr>\n    <tr>\n      <th>37092</th>\n      <td>37092</td>\n      <td>2020092800</td>\n      <td>9/28/2020</td>\n      <td>2</td>\n      <td>10</td>\n      <td>27</td>\n      <td>BAL</td>\n      <td>KC</td>\n      <td>2</td>\n      <td>6</td>\n      <td>...</td>\n      <td>NaN</td>\n      <td>NaN</td>\n      <td>NaN</td>\n      <td>NaN</td>\n      <td>NaN</td>\n      <td>NaN</td>\n      <td>NaN</td>\n      <td>NaN</td>\n      <td>False</td>\n      <td>NaN</td>\n    </tr>\n    <tr>\n      <th>37093</th>\n      <td>37093</td>\n      <td>2020092800</td>\n      <td>9/28/2020</td>\n      <td>2</td>\n      <td>10</td>\n      <td>23</td>\n      <td>BAL</td>\n      <td>KC</td>\n      <td>3</td>\n      <td>6</td>\n      <td>...</td>\n      <td>NaN</td>\n      <td>NaN</td>\n      <td>NaN</td>\n      <td>NaN</td>\n      <td>NaN</td>\n      <td>NaN</td>\n      <td>NaN</td>\n      <td>NaN</td>\n      <td>False</td>\n      <td>NaN</td>\n    </tr>\n    <tr>\n      <th>37094</th>\n      <td>37094</td>\n      <td>2020092800</td>\n      <td>9/28/2020</td>\n      <td>1</td>\n      <td>10</td>\n      <td>52</td>\n      <td>BAL</td>\n      <td>KC</td>\n      <td>1</td>\n      <td>10</td>\n      <td>...</td>\n      <td>NaN</td>\n      <td>NaN</td>\n      <td>NaN</td>\n      <td>NaN</td>\n      <td>NaN</td>\n      <td>NaN</td>\n      <td>NaN</td>\n      <td>NaN</td>\n      <td>False</td>\n      <td>NaN</td>\n    </tr>\n    <tr>\n      <th>37095</th>\n      <td>37095</td>\n      <td>2020092800</td>\n      <td>9/28/2020</td>\n      <td>4</td>\n      <td>12</td>\n      <td>27</td>\n      <td>KC</td>\n      <td>BAL</td>\n      <td>2</td>\n      <td>10</td>\n      <td>...</td>\n      <td>NaN</td>\n      <td>NaN</td>\n      <td>NaN</td>\n      <td>NaN</td>\n      <td>NaN</td>\n      <td>NaN</td>\n      <td>NaN</td>\n      <td>NaN</td>\n      <td>False</td>\n      <td>NaN</td>\n    </tr>\n  </tbody>\n</table>\n<p>37096 rows × 47 columns</p>\n</div>"
     },
     "execution_count": 22,
     "metadata": {},
     "output_type": "execute_result"
    }
   ],
   "source": [
    "df_train_final"
   ],
   "metadata": {
    "collapsed": false,
    "ExecuteTime": {
     "end_time": "2024-02-10T23:15:47.612415500Z",
     "start_time": "2024-02-10T23:15:47.571579600Z"
    }
   },
   "id": "dec96998545271cd",
   "execution_count": 22
  },
  {
   "cell_type": "code",
   "outputs": [
    {
     "data": {
      "text/plain": "      Unnamed: 0      GameId    GameDate  Quarter  Minute  Second OffenseTeam  \\\n0              0  2023090700  2023-09-07        3      12      54          KC   \n1              1  2023090700  2023-09-07        1      12      56          KC   \n2              2  2023090700  2023-09-07        1      12      20          KC   \n3              3  2023090700  2023-09-07        1      11      44          KC   \n4              4  2023090700  2023-09-07        1      11      35          KC   \n...          ...         ...         ...      ...     ...     ...         ...   \n6960        6960  2023121009  2023-12-10        2       1      52          KC   \n6961        6961  2023121009  2023-12-10        3       7      10          KC   \n6962        6962  2023121009  2023-12-10        3       7      10          KC   \n6963        6963  2023121009  2023-12-10        4       0      25         BUF   \n6964        6964  2023121009  2023-12-10        4       0      25         BUF   \n\n     DefenseTeam  Down  ToGo  ...  Winner/tie  PtsW  PtsL  YdsW TOW YdsL  TOL  \\\n0            DET     0     0  ...         DET    21    20   368   1  316    1   \n1            DET     3     2  ...         DET    21    20   368   1  316    1   \n2            DET     1    10  ...         DET    21    20   368   1  316    1   \n3            DET     2     5  ...         DET    21    20   368   1  316    1   \n4            DET     3     5  ...         DET    21    20   368   1  316    1   \n...          ...   ...   ...  ...         ...   ...   ...   ...  ..  ...  ...   \n6960         BUF     2     8  ...          SF    28    16   527   2  324    2   \n6961         BUF     1    10  ...         BUF    20    17   327   1  346    2   \n6962         BUF     1    10  ...          SF    28    16   527   2  324    2   \n6963          KC     2    11  ...         BUF    20    17   327   1  346    2   \n6964          KC     2    11  ...          SF    28    16   527   2  324    2   \n\n      Winner  WinningTeam  PenaltyOnWinner  \n0      False          DET            False  \n1      False          DET            False  \n2      False          DET            False  \n3      False          DET            False  \n4      False          DET            False  \n...      ...          ...              ...  \n6960   False           SF            False  \n6961   False          BUF            False  \n6962   False           SF            False  \n6963     BUF          BUF            False  \n6964   False           SF            False  \n\n[6965 rows x 49 columns]",
      "text/html": "<div>\n<style scoped>\n    .dataframe tbody tr th:only-of-type {\n        vertical-align: middle;\n    }\n\n    .dataframe tbody tr th {\n        vertical-align: top;\n    }\n\n    .dataframe thead th {\n        text-align: right;\n    }\n</style>\n<table border=\"1\" class=\"dataframe\">\n  <thead>\n    <tr style=\"text-align: right;\">\n      <th></th>\n      <th>Unnamed: 0</th>\n      <th>GameId</th>\n      <th>GameDate</th>\n      <th>Quarter</th>\n      <th>Minute</th>\n      <th>Second</th>\n      <th>OffenseTeam</th>\n      <th>DefenseTeam</th>\n      <th>Down</th>\n      <th>ToGo</th>\n      <th>...</th>\n      <th>Winner/tie</th>\n      <th>PtsW</th>\n      <th>PtsL</th>\n      <th>YdsW</th>\n      <th>TOW</th>\n      <th>YdsL</th>\n      <th>TOL</th>\n      <th>Winner</th>\n      <th>WinningTeam</th>\n      <th>PenaltyOnWinner</th>\n    </tr>\n  </thead>\n  <tbody>\n    <tr>\n      <th>0</th>\n      <td>0</td>\n      <td>2023090700</td>\n      <td>2023-09-07</td>\n      <td>3</td>\n      <td>12</td>\n      <td>54</td>\n      <td>KC</td>\n      <td>DET</td>\n      <td>0</td>\n      <td>0</td>\n      <td>...</td>\n      <td>DET</td>\n      <td>21</td>\n      <td>20</td>\n      <td>368</td>\n      <td>1</td>\n      <td>316</td>\n      <td>1</td>\n      <td>False</td>\n      <td>DET</td>\n      <td>False</td>\n    </tr>\n    <tr>\n      <th>1</th>\n      <td>1</td>\n      <td>2023090700</td>\n      <td>2023-09-07</td>\n      <td>1</td>\n      <td>12</td>\n      <td>56</td>\n      <td>KC</td>\n      <td>DET</td>\n      <td>3</td>\n      <td>2</td>\n      <td>...</td>\n      <td>DET</td>\n      <td>21</td>\n      <td>20</td>\n      <td>368</td>\n      <td>1</td>\n      <td>316</td>\n      <td>1</td>\n      <td>False</td>\n      <td>DET</td>\n      <td>False</td>\n    </tr>\n    <tr>\n      <th>2</th>\n      <td>2</td>\n      <td>2023090700</td>\n      <td>2023-09-07</td>\n      <td>1</td>\n      <td>12</td>\n      <td>20</td>\n      <td>KC</td>\n      <td>DET</td>\n      <td>1</td>\n      <td>10</td>\n      <td>...</td>\n      <td>DET</td>\n      <td>21</td>\n      <td>20</td>\n      <td>368</td>\n      <td>1</td>\n      <td>316</td>\n      <td>1</td>\n      <td>False</td>\n      <td>DET</td>\n      <td>False</td>\n    </tr>\n    <tr>\n      <th>3</th>\n      <td>3</td>\n      <td>2023090700</td>\n      <td>2023-09-07</td>\n      <td>1</td>\n      <td>11</td>\n      <td>44</td>\n      <td>KC</td>\n      <td>DET</td>\n      <td>2</td>\n      <td>5</td>\n      <td>...</td>\n      <td>DET</td>\n      <td>21</td>\n      <td>20</td>\n      <td>368</td>\n      <td>1</td>\n      <td>316</td>\n      <td>1</td>\n      <td>False</td>\n      <td>DET</td>\n      <td>False</td>\n    </tr>\n    <tr>\n      <th>4</th>\n      <td>4</td>\n      <td>2023090700</td>\n      <td>2023-09-07</td>\n      <td>1</td>\n      <td>11</td>\n      <td>35</td>\n      <td>KC</td>\n      <td>DET</td>\n      <td>3</td>\n      <td>5</td>\n      <td>...</td>\n      <td>DET</td>\n      <td>21</td>\n      <td>20</td>\n      <td>368</td>\n      <td>1</td>\n      <td>316</td>\n      <td>1</td>\n      <td>False</td>\n      <td>DET</td>\n      <td>False</td>\n    </tr>\n    <tr>\n      <th>...</th>\n      <td>...</td>\n      <td>...</td>\n      <td>...</td>\n      <td>...</td>\n      <td>...</td>\n      <td>...</td>\n      <td>...</td>\n      <td>...</td>\n      <td>...</td>\n      <td>...</td>\n      <td>...</td>\n      <td>...</td>\n      <td>...</td>\n      <td>...</td>\n      <td>...</td>\n      <td>...</td>\n      <td>...</td>\n      <td>...</td>\n      <td>...</td>\n      <td>...</td>\n      <td>...</td>\n    </tr>\n    <tr>\n      <th>6960</th>\n      <td>6960</td>\n      <td>2023121009</td>\n      <td>2023-12-10</td>\n      <td>2</td>\n      <td>1</td>\n      <td>52</td>\n      <td>KC</td>\n      <td>BUF</td>\n      <td>2</td>\n      <td>8</td>\n      <td>...</td>\n      <td>SF</td>\n      <td>28</td>\n      <td>16</td>\n      <td>527</td>\n      <td>2</td>\n      <td>324</td>\n      <td>2</td>\n      <td>False</td>\n      <td>SF</td>\n      <td>False</td>\n    </tr>\n    <tr>\n      <th>6961</th>\n      <td>6961</td>\n      <td>2023121009</td>\n      <td>2023-12-10</td>\n      <td>3</td>\n      <td>7</td>\n      <td>10</td>\n      <td>KC</td>\n      <td>BUF</td>\n      <td>1</td>\n      <td>10</td>\n      <td>...</td>\n      <td>BUF</td>\n      <td>20</td>\n      <td>17</td>\n      <td>327</td>\n      <td>1</td>\n      <td>346</td>\n      <td>2</td>\n      <td>False</td>\n      <td>BUF</td>\n      <td>False</td>\n    </tr>\n    <tr>\n      <th>6962</th>\n      <td>6962</td>\n      <td>2023121009</td>\n      <td>2023-12-10</td>\n      <td>3</td>\n      <td>7</td>\n      <td>10</td>\n      <td>KC</td>\n      <td>BUF</td>\n      <td>1</td>\n      <td>10</td>\n      <td>...</td>\n      <td>SF</td>\n      <td>28</td>\n      <td>16</td>\n      <td>527</td>\n      <td>2</td>\n      <td>324</td>\n      <td>2</td>\n      <td>False</td>\n      <td>SF</td>\n      <td>False</td>\n    </tr>\n    <tr>\n      <th>6963</th>\n      <td>6963</td>\n      <td>2023121009</td>\n      <td>2023-12-10</td>\n      <td>4</td>\n      <td>0</td>\n      <td>25</td>\n      <td>BUF</td>\n      <td>KC</td>\n      <td>2</td>\n      <td>11</td>\n      <td>...</td>\n      <td>BUF</td>\n      <td>20</td>\n      <td>17</td>\n      <td>327</td>\n      <td>1</td>\n      <td>346</td>\n      <td>2</td>\n      <td>BUF</td>\n      <td>BUF</td>\n      <td>False</td>\n    </tr>\n    <tr>\n      <th>6964</th>\n      <td>6964</td>\n      <td>2023121009</td>\n      <td>2023-12-10</td>\n      <td>4</td>\n      <td>0</td>\n      <td>25</td>\n      <td>BUF</td>\n      <td>KC</td>\n      <td>2</td>\n      <td>11</td>\n      <td>...</td>\n      <td>SF</td>\n      <td>28</td>\n      <td>16</td>\n      <td>527</td>\n      <td>2</td>\n      <td>324</td>\n      <td>2</td>\n      <td>False</td>\n      <td>SF</td>\n      <td>False</td>\n    </tr>\n  </tbody>\n</table>\n<p>6965 rows × 49 columns</p>\n</div>"
     },
     "execution_count": 31,
     "metadata": {},
     "output_type": "execute_result"
    }
   ],
   "source": [
    "df_test_final"
   ],
   "metadata": {
    "collapsed": false,
    "ExecuteTime": {
     "end_time": "2024-02-10T23:47:31.461939300Z",
     "start_time": "2024-02-10T23:47:31.429302200Z"
    }
   },
   "id": "92c209adaabdfe91",
   "execution_count": 31
  },
  {
   "cell_type": "code",
   "outputs": [
    {
     "ename": "KeyError",
     "evalue": "'Winner/tie'",
     "output_type": "error",
     "traceback": [
      "\u001B[1;31m---------------------------------------------------------------------------\u001B[0m",
      "\u001B[1;31mKeyError\u001B[0m                                  Traceback (most recent call last)",
      "File \u001B[1;32m~\\AppData\\Local\\Programs\\Python\\Python311\\Lib\\site-packages\\pandas\\core\\indexes\\base.py:3791\u001B[0m, in \u001B[0;36mIndex.get_loc\u001B[1;34m(self, key)\u001B[0m\n\u001B[0;32m   3790\u001B[0m \u001B[38;5;28;01mtry\u001B[39;00m:\n\u001B[1;32m-> 3791\u001B[0m     \u001B[38;5;28;01mreturn\u001B[39;00m \u001B[38;5;28;43mself\u001B[39;49m\u001B[38;5;241;43m.\u001B[39;49m\u001B[43m_engine\u001B[49m\u001B[38;5;241;43m.\u001B[39;49m\u001B[43mget_loc\u001B[49m\u001B[43m(\u001B[49m\u001B[43mcasted_key\u001B[49m\u001B[43m)\u001B[49m\n\u001B[0;32m   3792\u001B[0m \u001B[38;5;28;01mexcept\u001B[39;00m \u001B[38;5;167;01mKeyError\u001B[39;00m \u001B[38;5;28;01mas\u001B[39;00m err:\n",
      "File \u001B[1;32mindex.pyx:152\u001B[0m, in \u001B[0;36mpandas._libs.index.IndexEngine.get_loc\u001B[1;34m()\u001B[0m\n",
      "File \u001B[1;32mindex.pyx:181\u001B[0m, in \u001B[0;36mpandas._libs.index.IndexEngine.get_loc\u001B[1;34m()\u001B[0m\n",
      "File \u001B[1;32mpandas\\_libs\\hashtable_class_helper.pxi:7080\u001B[0m, in \u001B[0;36mpandas._libs.hashtable.PyObjectHashTable.get_item\u001B[1;34m()\u001B[0m\n",
      "File \u001B[1;32mpandas\\_libs\\hashtable_class_helper.pxi:7088\u001B[0m, in \u001B[0;36mpandas._libs.hashtable.PyObjectHashTable.get_item\u001B[1;34m()\u001B[0m\n",
      "\u001B[1;31mKeyError\u001B[0m: 'Winner/tie'",
      "\nThe above exception was the direct cause of the following exception:\n",
      "\u001B[1;31mKeyError\u001B[0m                                  Traceback (most recent call last)",
      "Cell \u001B[1;32mIn[32], line 1\u001B[0m\n\u001B[1;32m----> 1\u001B[0m df_train_final[\u001B[38;5;124m'\u001B[39m\u001B[38;5;124mPenaltyOnWinner\u001B[39m\u001B[38;5;124m'\u001B[39m] \u001B[38;5;241m=\u001B[39m \u001B[43mdf_train_final\u001B[49m\u001B[38;5;241;43m.\u001B[39;49m\u001B[43mapply\u001B[49m\u001B[43m(\u001B[49m\u001B[38;5;28;43;01mlambda\u001B[39;49;00m\u001B[43m \u001B[49m\u001B[43mrow\u001B[49m\u001B[43m:\u001B[49m\u001B[43m \u001B[49m\u001B[43mrow\u001B[49m\u001B[43m[\u001B[49m\u001B[38;5;124;43m'\u001B[39;49m\u001B[38;5;124;43mWinner/tie\u001B[39;49m\u001B[38;5;124;43m'\u001B[39;49m\u001B[43m]\u001B[49m\u001B[43m \u001B[49m\u001B[38;5;241;43m==\u001B[39;49m\u001B[43m \u001B[49m\u001B[43mrow\u001B[49m\u001B[43m[\u001B[49m\u001B[38;5;124;43m'\u001B[39;49m\u001B[38;5;124;43mPenaltyTeam\u001B[39;49m\u001B[38;5;124;43m'\u001B[39;49m\u001B[43m]\u001B[49m\u001B[43m,\u001B[49m\u001B[43m \u001B[49m\u001B[43maxis\u001B[49m\u001B[43m \u001B[49m\u001B[38;5;241;43m=\u001B[39;49m\u001B[43m \u001B[49m\u001B[38;5;241;43m1\u001B[39;49m\u001B[43m)\u001B[49m\n\u001B[0;32m      2\u001B[0m df_test_final[\u001B[38;5;124m'\u001B[39m\u001B[38;5;124mPenaltyOnWinner\u001B[39m\u001B[38;5;124m'\u001B[39m] \u001B[38;5;241m=\u001B[39m df_test_final\u001B[38;5;241m.\u001B[39mapply(\u001B[38;5;28;01mlambda\u001B[39;00m row: row[\u001B[38;5;124m'\u001B[39m\u001B[38;5;124mWinner/tie\u001B[39m\u001B[38;5;124m'\u001B[39m] \u001B[38;5;241m==\u001B[39m row[\u001B[38;5;124m'\u001B[39m\u001B[38;5;124mPenaltyTeam\u001B[39m\u001B[38;5;124m'\u001B[39m], axis \u001B[38;5;241m=\u001B[39m \u001B[38;5;241m1\u001B[39m)\n",
      "File \u001B[1;32m~\\AppData\\Local\\Programs\\Python\\Python311\\Lib\\site-packages\\pandas\\core\\frame.py:10034\u001B[0m, in \u001B[0;36mDataFrame.apply\u001B[1;34m(self, func, axis, raw, result_type, args, by_row, **kwargs)\u001B[0m\n\u001B[0;32m  10022\u001B[0m \u001B[38;5;28;01mfrom\u001B[39;00m \u001B[38;5;21;01mpandas\u001B[39;00m\u001B[38;5;21;01m.\u001B[39;00m\u001B[38;5;21;01mcore\u001B[39;00m\u001B[38;5;21;01m.\u001B[39;00m\u001B[38;5;21;01mapply\u001B[39;00m \u001B[38;5;28;01mimport\u001B[39;00m frame_apply\n\u001B[0;32m  10024\u001B[0m op \u001B[38;5;241m=\u001B[39m frame_apply(\n\u001B[0;32m  10025\u001B[0m     \u001B[38;5;28mself\u001B[39m,\n\u001B[0;32m  10026\u001B[0m     func\u001B[38;5;241m=\u001B[39mfunc,\n\u001B[1;32m   (...)\u001B[0m\n\u001B[0;32m  10032\u001B[0m     kwargs\u001B[38;5;241m=\u001B[39mkwargs,\n\u001B[0;32m  10033\u001B[0m )\n\u001B[1;32m> 10034\u001B[0m \u001B[38;5;28;01mreturn\u001B[39;00m \u001B[43mop\u001B[49m\u001B[38;5;241;43m.\u001B[39;49m\u001B[43mapply\u001B[49m\u001B[43m(\u001B[49m\u001B[43m)\u001B[49m\u001B[38;5;241m.\u001B[39m__finalize__(\u001B[38;5;28mself\u001B[39m, method\u001B[38;5;241m=\u001B[39m\u001B[38;5;124m\"\u001B[39m\u001B[38;5;124mapply\u001B[39m\u001B[38;5;124m\"\u001B[39m)\n",
      "File \u001B[1;32m~\\AppData\\Local\\Programs\\Python\\Python311\\Lib\\site-packages\\pandas\\core\\apply.py:837\u001B[0m, in \u001B[0;36mFrameApply.apply\u001B[1;34m(self)\u001B[0m\n\u001B[0;32m    834\u001B[0m \u001B[38;5;28;01melif\u001B[39;00m \u001B[38;5;28mself\u001B[39m\u001B[38;5;241m.\u001B[39mraw:\n\u001B[0;32m    835\u001B[0m     \u001B[38;5;28;01mreturn\u001B[39;00m \u001B[38;5;28mself\u001B[39m\u001B[38;5;241m.\u001B[39mapply_raw()\n\u001B[1;32m--> 837\u001B[0m \u001B[38;5;28;01mreturn\u001B[39;00m \u001B[38;5;28;43mself\u001B[39;49m\u001B[38;5;241;43m.\u001B[39;49m\u001B[43mapply_standard\u001B[49m\u001B[43m(\u001B[49m\u001B[43m)\u001B[49m\n",
      "File \u001B[1;32m~\\AppData\\Local\\Programs\\Python\\Python311\\Lib\\site-packages\\pandas\\core\\apply.py:965\u001B[0m, in \u001B[0;36mFrameApply.apply_standard\u001B[1;34m(self)\u001B[0m\n\u001B[0;32m    964\u001B[0m \u001B[38;5;28;01mdef\u001B[39;00m \u001B[38;5;21mapply_standard\u001B[39m(\u001B[38;5;28mself\u001B[39m):\n\u001B[1;32m--> 965\u001B[0m     results, res_index \u001B[38;5;241m=\u001B[39m \u001B[38;5;28;43mself\u001B[39;49m\u001B[38;5;241;43m.\u001B[39;49m\u001B[43mapply_series_generator\u001B[49m\u001B[43m(\u001B[49m\u001B[43m)\u001B[49m\n\u001B[0;32m    967\u001B[0m     \u001B[38;5;66;03m# wrap results\u001B[39;00m\n\u001B[0;32m    968\u001B[0m     \u001B[38;5;28;01mreturn\u001B[39;00m \u001B[38;5;28mself\u001B[39m\u001B[38;5;241m.\u001B[39mwrap_results(results, res_index)\n",
      "File \u001B[1;32m~\\AppData\\Local\\Programs\\Python\\Python311\\Lib\\site-packages\\pandas\\core\\apply.py:981\u001B[0m, in \u001B[0;36mFrameApply.apply_series_generator\u001B[1;34m(self)\u001B[0m\n\u001B[0;32m    978\u001B[0m \u001B[38;5;28;01mwith\u001B[39;00m option_context(\u001B[38;5;124m\"\u001B[39m\u001B[38;5;124mmode.chained_assignment\u001B[39m\u001B[38;5;124m\"\u001B[39m, \u001B[38;5;28;01mNone\u001B[39;00m):\n\u001B[0;32m    979\u001B[0m     \u001B[38;5;28;01mfor\u001B[39;00m i, v \u001B[38;5;129;01min\u001B[39;00m \u001B[38;5;28menumerate\u001B[39m(series_gen):\n\u001B[0;32m    980\u001B[0m         \u001B[38;5;66;03m# ignore SettingWithCopy here in case the user mutates\u001B[39;00m\n\u001B[1;32m--> 981\u001B[0m         results[i] \u001B[38;5;241m=\u001B[39m \u001B[38;5;28;43mself\u001B[39;49m\u001B[38;5;241;43m.\u001B[39;49m\u001B[43mfunc\u001B[49m\u001B[43m(\u001B[49m\u001B[43mv\u001B[49m\u001B[43m,\u001B[49m\u001B[43m \u001B[49m\u001B[38;5;241;43m*\u001B[39;49m\u001B[38;5;28;43mself\u001B[39;49m\u001B[38;5;241;43m.\u001B[39;49m\u001B[43margs\u001B[49m\u001B[43m,\u001B[49m\u001B[43m \u001B[49m\u001B[38;5;241;43m*\u001B[39;49m\u001B[38;5;241;43m*\u001B[39;49m\u001B[38;5;28;43mself\u001B[39;49m\u001B[38;5;241;43m.\u001B[39;49m\u001B[43mkwargs\u001B[49m\u001B[43m)\u001B[49m\n\u001B[0;32m    982\u001B[0m         \u001B[38;5;28;01mif\u001B[39;00m \u001B[38;5;28misinstance\u001B[39m(results[i], ABCSeries):\n\u001B[0;32m    983\u001B[0m             \u001B[38;5;66;03m# If we have a view on v, we need to make a copy because\u001B[39;00m\n\u001B[0;32m    984\u001B[0m             \u001B[38;5;66;03m#  series_generator will swap out the underlying data\u001B[39;00m\n\u001B[0;32m    985\u001B[0m             results[i] \u001B[38;5;241m=\u001B[39m results[i]\u001B[38;5;241m.\u001B[39mcopy(deep\u001B[38;5;241m=\u001B[39m\u001B[38;5;28;01mFalse\u001B[39;00m)\n",
      "Cell \u001B[1;32mIn[32], line 1\u001B[0m, in \u001B[0;36m<lambda>\u001B[1;34m(row)\u001B[0m\n\u001B[1;32m----> 1\u001B[0m df_train_final[\u001B[38;5;124m'\u001B[39m\u001B[38;5;124mPenaltyOnWinner\u001B[39m\u001B[38;5;124m'\u001B[39m] \u001B[38;5;241m=\u001B[39m df_train_final\u001B[38;5;241m.\u001B[39mapply(\u001B[38;5;28;01mlambda\u001B[39;00m row: \u001B[43mrow\u001B[49m\u001B[43m[\u001B[49m\u001B[38;5;124;43m'\u001B[39;49m\u001B[38;5;124;43mWinner/tie\u001B[39;49m\u001B[38;5;124;43m'\u001B[39;49m\u001B[43m]\u001B[49m \u001B[38;5;241m==\u001B[39m row[\u001B[38;5;124m'\u001B[39m\u001B[38;5;124mPenaltyTeam\u001B[39m\u001B[38;5;124m'\u001B[39m], axis \u001B[38;5;241m=\u001B[39m \u001B[38;5;241m1\u001B[39m)\n\u001B[0;32m      2\u001B[0m df_test_final[\u001B[38;5;124m'\u001B[39m\u001B[38;5;124mPenaltyOnWinner\u001B[39m\u001B[38;5;124m'\u001B[39m] \u001B[38;5;241m=\u001B[39m df_test_final\u001B[38;5;241m.\u001B[39mapply(\u001B[38;5;28;01mlambda\u001B[39;00m row: row[\u001B[38;5;124m'\u001B[39m\u001B[38;5;124mWinner/tie\u001B[39m\u001B[38;5;124m'\u001B[39m] \u001B[38;5;241m==\u001B[39m row[\u001B[38;5;124m'\u001B[39m\u001B[38;5;124mPenaltyTeam\u001B[39m\u001B[38;5;124m'\u001B[39m], axis \u001B[38;5;241m=\u001B[39m \u001B[38;5;241m1\u001B[39m)\n",
      "File \u001B[1;32m~\\AppData\\Local\\Programs\\Python\\Python311\\Lib\\site-packages\\pandas\\core\\series.py:1040\u001B[0m, in \u001B[0;36mSeries.__getitem__\u001B[1;34m(self, key)\u001B[0m\n\u001B[0;32m   1037\u001B[0m     \u001B[38;5;28;01mreturn\u001B[39;00m \u001B[38;5;28mself\u001B[39m\u001B[38;5;241m.\u001B[39m_values[key]\n\u001B[0;32m   1039\u001B[0m \u001B[38;5;28;01melif\u001B[39;00m key_is_scalar:\n\u001B[1;32m-> 1040\u001B[0m     \u001B[38;5;28;01mreturn\u001B[39;00m \u001B[38;5;28;43mself\u001B[39;49m\u001B[38;5;241;43m.\u001B[39;49m\u001B[43m_get_value\u001B[49m\u001B[43m(\u001B[49m\u001B[43mkey\u001B[49m\u001B[43m)\u001B[49m\n\u001B[0;32m   1042\u001B[0m \u001B[38;5;66;03m# Convert generator to list before going through hashable part\u001B[39;00m\n\u001B[0;32m   1043\u001B[0m \u001B[38;5;66;03m# (We will iterate through the generator there to check for slices)\u001B[39;00m\n\u001B[0;32m   1044\u001B[0m \u001B[38;5;28;01mif\u001B[39;00m is_iterator(key):\n",
      "File \u001B[1;32m~\\AppData\\Local\\Programs\\Python\\Python311\\Lib\\site-packages\\pandas\\core\\series.py:1156\u001B[0m, in \u001B[0;36mSeries._get_value\u001B[1;34m(self, label, takeable)\u001B[0m\n\u001B[0;32m   1153\u001B[0m     \u001B[38;5;28;01mreturn\u001B[39;00m \u001B[38;5;28mself\u001B[39m\u001B[38;5;241m.\u001B[39m_values[label]\n\u001B[0;32m   1155\u001B[0m \u001B[38;5;66;03m# Similar to Index.get_value, but we do not fall back to positional\u001B[39;00m\n\u001B[1;32m-> 1156\u001B[0m loc \u001B[38;5;241m=\u001B[39m \u001B[38;5;28;43mself\u001B[39;49m\u001B[38;5;241;43m.\u001B[39;49m\u001B[43mindex\u001B[49m\u001B[38;5;241;43m.\u001B[39;49m\u001B[43mget_loc\u001B[49m\u001B[43m(\u001B[49m\u001B[43mlabel\u001B[49m\u001B[43m)\u001B[49m\n\u001B[0;32m   1158\u001B[0m \u001B[38;5;28;01mif\u001B[39;00m is_integer(loc):\n\u001B[0;32m   1159\u001B[0m     \u001B[38;5;28;01mreturn\u001B[39;00m \u001B[38;5;28mself\u001B[39m\u001B[38;5;241m.\u001B[39m_values[loc]\n",
      "File \u001B[1;32m~\\AppData\\Local\\Programs\\Python\\Python311\\Lib\\site-packages\\pandas\\core\\indexes\\base.py:3798\u001B[0m, in \u001B[0;36mIndex.get_loc\u001B[1;34m(self, key)\u001B[0m\n\u001B[0;32m   3793\u001B[0m     \u001B[38;5;28;01mif\u001B[39;00m \u001B[38;5;28misinstance\u001B[39m(casted_key, \u001B[38;5;28mslice\u001B[39m) \u001B[38;5;129;01mor\u001B[39;00m (\n\u001B[0;32m   3794\u001B[0m         \u001B[38;5;28misinstance\u001B[39m(casted_key, abc\u001B[38;5;241m.\u001B[39mIterable)\n\u001B[0;32m   3795\u001B[0m         \u001B[38;5;129;01mand\u001B[39;00m \u001B[38;5;28many\u001B[39m(\u001B[38;5;28misinstance\u001B[39m(x, \u001B[38;5;28mslice\u001B[39m) \u001B[38;5;28;01mfor\u001B[39;00m x \u001B[38;5;129;01min\u001B[39;00m casted_key)\n\u001B[0;32m   3796\u001B[0m     ):\n\u001B[0;32m   3797\u001B[0m         \u001B[38;5;28;01mraise\u001B[39;00m InvalidIndexError(key)\n\u001B[1;32m-> 3798\u001B[0m     \u001B[38;5;28;01mraise\u001B[39;00m \u001B[38;5;167;01mKeyError\u001B[39;00m(key) \u001B[38;5;28;01mfrom\u001B[39;00m \u001B[38;5;21;01merr\u001B[39;00m\n\u001B[0;32m   3799\u001B[0m \u001B[38;5;28;01mexcept\u001B[39;00m \u001B[38;5;167;01mTypeError\u001B[39;00m:\n\u001B[0;32m   3800\u001B[0m     \u001B[38;5;66;03m# If we have a listlike key, _check_indexing_error will raise\u001B[39;00m\n\u001B[0;32m   3801\u001B[0m     \u001B[38;5;66;03m#  InvalidIndexError. Otherwise we fall through and re-raise\u001B[39;00m\n\u001B[0;32m   3802\u001B[0m     \u001B[38;5;66;03m#  the TypeError.\u001B[39;00m\n\u001B[0;32m   3803\u001B[0m     \u001B[38;5;28mself\u001B[39m\u001B[38;5;241m.\u001B[39m_check_indexing_error(key)\n",
      "\u001B[1;31mKeyError\u001B[0m: 'Winner/tie'"
     ]
    }
   ],
   "source": [
    "df_train_final['PenaltyOnWinner'] = df_train_final.apply(lambda row: row['Winner/tie'] == row['PenaltyTeam'], axis = 1)\n",
    "df_test_final['PenaltyOnWinner'] = df_test_final.apply(lambda row: row['Winner/tie'] == row['PenaltyTeam'], axis = 1)"
   ],
   "metadata": {
    "collapsed": false,
    "ExecuteTime": {
     "end_time": "2024-02-10T23:48:44.563517400Z",
     "start_time": "2024-02-10T23:48:44.434464500Z"
    }
   },
   "id": "a2e5b5996efdcaf7",
   "execution_count": 32
  },
  {
   "cell_type": "code",
   "outputs": [],
   "source": [
    "X_train = df_train_final[['Down','ToGo','YardLine','SeriesFirstDown','Yards','IsRush','IsPass','IsIncomplete','IsTouchdown','IsSack','IsChallenge','IsChallengeReverse','IsInterception','IsFumble','IsPenalty','IsTwoPointConversion','IsTwoPointConversionSuccessful','IsPenaltyAccepted','PenaltyOnWinner']]\n",
    "y_train = df_train_final['Winner']\n",
    "X_test = df_test_final[['Down','ToGo','YardLine','SeriesFirstDown','Yards','IsRush','IsPass','IsIncomplete','IsTouchdown','IsSack','IsChallenge','IsChallengeReverse','IsInterception','IsFumble','IsPenalty','IsTwoPointConversion','IsTwoPointConversionSuccessful','IsPenaltyAccepted','PenaltyOnWinner']]\n",
    "y_test = df_test_final['Winner']"
   ],
   "metadata": {
    "collapsed": false,
    "ExecuteTime": {
     "end_time": "2024-02-10T23:08:56.494513300Z",
     "start_time": "2024-02-10T23:08:56.397352500Z"
    }
   },
   "id": "973ad8317f2b9704",
   "execution_count": 18
  },
  {
   "cell_type": "code",
   "outputs": [
    {
     "ename": "ValueError",
     "evalue": "cannot reshape array of size 1632224 into shape (34)",
     "output_type": "error",
     "traceback": [
      "\u001B[1;31m---------------------------------------------------------------------------\u001B[0m",
      "\u001B[1;31mValueError\u001B[0m                                Traceback (most recent call last)",
      "Cell \u001B[1;32mIn[19], line 1\u001B[0m\n\u001B[1;32m----> 1\u001B[0m X_train \u001B[38;5;241m=\u001B[39m \u001B[43mX_train\u001B[49m\u001B[38;5;241;43m.\u001B[39;49m\u001B[43mto_numpy\u001B[49m\u001B[43m(\u001B[49m\u001B[43m)\u001B[49m\u001B[38;5;241;43m.\u001B[39;49m\u001B[43mreshape\u001B[49m\u001B[43m(\u001B[49m\u001B[38;5;241;43m-\u001B[39;49m\u001B[38;5;241;43m1\u001B[39;49m\u001B[43m,\u001B[49m\u001B[38;5;241;43m34\u001B[39;49m\u001B[43m)\u001B[49m\n\u001B[0;32m      2\u001B[0m X_test \u001B[38;5;241m=\u001B[39m df1\u001B[38;5;241m.\u001B[39mdrop([\u001B[38;5;124m'\u001B[39m\u001B[38;5;124mWinner\u001B[39m\u001B[38;5;124m'\u001B[39m,\u001B[38;5;124m'\u001B[39m\u001B[38;5;124mGameDate\u001B[39m\u001B[38;5;124m'\u001B[39m,\u001B[38;5;124m'\u001B[39m\u001B[38;5;124mGameId\u001B[39m\u001B[38;5;124m'\u001B[39m], axis \u001B[38;5;241m=\u001B[39m \u001B[38;5;241m1\u001B[39m)\u001B[38;5;241m.\u001B[39mreshape(\u001B[38;5;241m-\u001B[39m\u001B[38;5;241m1\u001B[39m,\u001B[38;5;241m34\u001B[39m)\n",
      "\u001B[1;31mValueError\u001B[0m: cannot reshape array of size 1632224 into shape (34)"
     ]
    }
   ],
   "source": [
    "X_train = X_train.to_numpy().reshape(-1,34)\n",
    "X_test = df_test_final.drop(['Winner','GameDate','GameId'], axis = 1).reshape(-1,34)"
   ],
   "metadata": {
    "collapsed": false,
    "ExecuteTime": {
     "end_time": "2024-02-10T23:08:56.714857500Z",
     "start_time": "2024-02-10T23:08:56.417714700Z"
    }
   },
   "id": "7dc24d481f89646",
   "execution_count": 19
  },
  {
   "cell_type": "markdown",
   "source": [
    "# pca\n"
   ],
   "metadata": {
    "collapsed": false
   },
   "id": "8d776864662b5850"
  },
  {
   "cell_type": "code",
   "outputs": [],
   "source": [
    "from sklearn.preprocessing import StandardScaler\n",
    "from sklearn.model_selection import train_test_split\n",
    "from sklearn.decomposition import PCA"
   ],
   "metadata": {
    "collapsed": false,
    "ExecuteTime": {
     "start_time": "2024-02-10T23:08:56.550840300Z"
    }
   },
   "id": "32eed998e30cdb1f"
  },
  {
   "cell_type": "code",
   "outputs": [],
   "source": [
    "ss = StandardScaler()\n",
    "X_train_scaled = ss.fit_transform(X_train)\n",
    "X_test_scaled = ss.transform(X_test)"
   ],
   "metadata": {
    "collapsed": false,
    "ExecuteTime": {
     "start_time": "2024-02-10T23:08:56.554263200Z"
    }
   },
   "id": "491509479bf15463"
  },
  {
   "cell_type": "code",
   "outputs": [],
   "source": [
    "pca = PCA().fit(X_train_scaled)\n",
    "\n",
    "plt.plot(pca.explained_variance_ratio_.cumsum(), lw=3, color='#087E8B')\n",
    "plt.title('Cumulative explained variance by number of principal components', size=20)\n",
    "plt.show()"
   ],
   "metadata": {
    "collapsed": false,
    "ExecuteTime": {
     "start_time": "2024-02-10T23:08:56.586105500Z"
    }
   },
   "id": "85a4207ff106b07d"
  },
  {
   "cell_type": "code",
   "outputs": [],
   "source": [
    "loadings = pd.DataFrame(\n",
    "    data=pca.components_.T * np.sqrt(pca.explained_variance_),\n",
    "    columns=[f'PC{i}' for i in range(1, len(X_train.columns) + 1)],\n",
    "    index=X_train.columns\n",
    ")\n",
    "loadings.head()"
   ],
   "metadata": {
    "collapsed": false,
    "ExecuteTime": {
     "start_time": "2024-02-10T23:08:56.586105500Z"
    }
   },
   "id": "96f8d55b5439d24f"
  },
  {
   "cell_type": "code",
   "outputs": [],
   "source": [
    "pc1_loadings = loadings.sort_values(by='PC1', ascending=False)[['PC1']]\n",
    "pc1_loadings = pc1_loadings.reset_index()\n",
    "pc1_loadings.columns = ['Attribute', 'CorrelationWithPC1']\n",
    "\n",
    "plt.bar(x=pc1_loadings['Attribute'], height=pc1_loadings['CorrelationWithPC1'], color='#087E8B')\n",
    "plt.title('PCA loading scores (first principal component)', size=20)\n",
    "plt.xticks(rotation='vertical')\n",
    "plt.show()"
   ],
   "metadata": {
    "collapsed": false,
    "ExecuteTime": {
     "start_time": "2024-02-10T23:08:56.586105500Z"
    }
   },
   "id": "783f42021802e577"
  },
  {
   "cell_type": "markdown",
   "source": [
    "# dtc"
   ],
   "metadata": {
    "collapsed": false
   },
   "id": "1be8ec01c3bd2d26"
  },
  {
   "cell_type": "code",
   "outputs": [],
   "source": [
    "from sklearn.tree import DecisionTreeClassifier as dtc\n",
    "# from sklearn.model_selection import train_test_split as tts\n",
    "from sklearn import tree\n",
    "from sklearn.metrics import accuracy_score"
   ],
   "metadata": {
    "collapsed": false,
    "ExecuteTime": {
     "start_time": "2024-02-10T23:08:56.586105500Z"
    }
   },
   "id": "de3f32ceb3cfa223",
   "execution_count": null
  },
  {
   "cell_type": "code",
   "outputs": [],
   "source": [
    "clf = dtc(criterion='entropy')\n",
    "clf.fit(X_train,y_train)"
   ],
   "metadata": {
    "collapsed": false,
    "ExecuteTime": {
     "start_time": "2024-02-10T23:08:56.586105500Z"
    }
   },
   "id": "d9ffa23b90807f69"
  },
  {
   "cell_type": "code",
   "outputs": [],
   "source": [
    "tree.plot_tree(clf, feature_names=[], class_names=['Winner','Loser'])"
   ],
   "metadata": {
    "collapsed": false,
    "ExecuteTime": {
     "start_time": "2024-02-10T23:08:56.587118300Z"
    }
   },
   "id": "d3471f9af0dc6d63"
  },
  {
   "cell_type": "code",
   "outputs": [],
   "source": [
    "pred = clf.predict(X_test)\n",
    "accuracy = accuracy_score(pred, y_test)\n",
    "accuracy"
   ],
   "metadata": {
    "collapsed": false,
    "ExecuteTime": {
     "start_time": "2024-02-10T23:08:56.587228Z"
    }
   },
   "id": "b5912c8ae7b3b44d"
  },
  {
   "cell_type": "code",
   "outputs": [],
   "source": [],
   "metadata": {
    "collapsed": false,
    "ExecuteTime": {
     "start_time": "2024-02-10T23:08:56.587228Z"
    }
   },
   "id": "3bdd81cdf8354a44",
   "execution_count": null
  }
 ],
 "metadata": {
  "kernelspec": {
   "display_name": "Python 3",
   "language": "python",
   "name": "python3"
  },
  "language_info": {
   "codemirror_mode": {
    "name": "ipython",
    "version": 2
   },
   "file_extension": ".py",
   "mimetype": "text/x-python",
   "name": "python",
   "nbconvert_exporter": "python",
   "pygments_lexer": "ipython2",
   "version": "2.7.6"
  }
 },
 "nbformat": 4,
 "nbformat_minor": 5
}
