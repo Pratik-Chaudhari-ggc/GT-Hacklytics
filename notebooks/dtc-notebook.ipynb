{
 "cells": [
  {
   "cell_type": "code",
   "execution_count": 11,
   "id": "initial_id",
   "metadata": {
    "collapsed": true,
    "ExecuteTime": {
     "end_time": "2024-02-11T00:40:43.232759Z",
     "start_time": "2024-02-11T00:40:43.136916100Z"
    }
   },
   "outputs": [],
   "source": [
    "import pandas as pd\n",
    "import numpy as np\n",
    "import matplotlib.pyplot as plt"
   ]
  },
  {
   "cell_type": "code",
   "outputs": [],
   "source": [
    "df_train_final = pd.read_csv('../datasets/train.csv')\n",
    "df_test_final = pd.read_csv('../datasets/test.csv')"
   ],
   "metadata": {
    "collapsed": false,
    "ExecuteTime": {
     "end_time": "2024-02-11T00:40:43.620089300Z",
     "start_time": "2024-02-11T00:40:43.238366400Z"
    }
   },
   "id": "966d9ed141e39152",
   "execution_count": 12
  },
  {
   "cell_type": "code",
   "outputs": [
    {
     "data": {
      "text/plain": "       Unnamed: 0      GameId    GameDate  Quarter  Minute  Second  \\\n0               0  2018090905  2018-09-09        3       8      15   \n1               1  2018090905  2018-09-09        4       5      58   \n2               2  2018090905  2018-09-09        4       5      27   \n3               3  2018090905  2018-09-09        4       5      17   \n4               4  2018090905  2018-09-09        4       5      13   \n...           ...         ...         ...      ...     ...     ...   \n39103       39103  2022121801  2022-12-18        1       2      39   \n39104       39104  2022121802  2022-12-18        1       1       1   \n39105       39105  2022121802  2022-12-18        1       1       1   \n39106       39106  2022121801  2022-12-18        4      15       0   \n39107       39107  2022121801  2022-12-18        4      15       0   \n\n      OffenseTeam DefenseTeam  Down  ToGo  ...    Time  Winner/tie  PtsW  \\\n0              NE         HOU     1    10  ...  1:00PM          NE    27   \n1              NE         HOU     3    13  ...  1:00PM          NE    27   \n2              NE         HOU     4     2  ...  1:00PM          NE    27   \n3             HOU          NE     1    10  ...  1:00PM          NE    27   \n4             HOU          NE     2    10  ...  1:00PM          NE    27   \n...           ...         ...   ...   ...  ...     ...         ...   ...   \n39103         PHI         CHI     1    10  ...  1:00PM          KC    30   \n39104         HOU          KC     0     0  ...  1:00PM         PHI    25   \n39105         HOU          KC     0     0  ...  1:00PM          KC    30   \n39106         PHI         CHI     1    10  ...  1:00PM         PHI    25   \n39107         PHI         CHI     1    10  ...  1:00PM          KC    30   \n\n       PtsL YdsW TOW  YdsL  TOL  Winner  WinningTeam  \n0        20  389   3   325    2    True           NE  \n1        20  389   3   325    2    True           NE  \n2        20  389   3   325    2    True           NE  \n3        20  389   3   325    2   False           NE  \n4        20  389   3   325    2   False           NE  \n...     ...  ...  ..   ...  ...     ...          ...  \n39103    24  502   2   219    1   False           KC  \n39104    20  421   3   248    1   False          PHI  \n39105    24  502   2   219    1   False           KC  \n39106    20  421   3   248    1    True          PHI  \n39107    24  502   2   219    1   False           KC  \n\n[39108 rows x 48 columns]",
      "text/html": "<div>\n<style scoped>\n    .dataframe tbody tr th:only-of-type {\n        vertical-align: middle;\n    }\n\n    .dataframe tbody tr th {\n        vertical-align: top;\n    }\n\n    .dataframe thead th {\n        text-align: right;\n    }\n</style>\n<table border=\"1\" class=\"dataframe\">\n  <thead>\n    <tr style=\"text-align: right;\">\n      <th></th>\n      <th>Unnamed: 0</th>\n      <th>GameId</th>\n      <th>GameDate</th>\n      <th>Quarter</th>\n      <th>Minute</th>\n      <th>Second</th>\n      <th>OffenseTeam</th>\n      <th>DefenseTeam</th>\n      <th>Down</th>\n      <th>ToGo</th>\n      <th>...</th>\n      <th>Time</th>\n      <th>Winner/tie</th>\n      <th>PtsW</th>\n      <th>PtsL</th>\n      <th>YdsW</th>\n      <th>TOW</th>\n      <th>YdsL</th>\n      <th>TOL</th>\n      <th>Winner</th>\n      <th>WinningTeam</th>\n    </tr>\n  </thead>\n  <tbody>\n    <tr>\n      <th>0</th>\n      <td>0</td>\n      <td>2018090905</td>\n      <td>2018-09-09</td>\n      <td>3</td>\n      <td>8</td>\n      <td>15</td>\n      <td>NE</td>\n      <td>HOU</td>\n      <td>1</td>\n      <td>10</td>\n      <td>...</td>\n      <td>1:00PM</td>\n      <td>NE</td>\n      <td>27</td>\n      <td>20</td>\n      <td>389</td>\n      <td>3</td>\n      <td>325</td>\n      <td>2</td>\n      <td>True</td>\n      <td>NE</td>\n    </tr>\n    <tr>\n      <th>1</th>\n      <td>1</td>\n      <td>2018090905</td>\n      <td>2018-09-09</td>\n      <td>4</td>\n      <td>5</td>\n      <td>58</td>\n      <td>NE</td>\n      <td>HOU</td>\n      <td>3</td>\n      <td>13</td>\n      <td>...</td>\n      <td>1:00PM</td>\n      <td>NE</td>\n      <td>27</td>\n      <td>20</td>\n      <td>389</td>\n      <td>3</td>\n      <td>325</td>\n      <td>2</td>\n      <td>True</td>\n      <td>NE</td>\n    </tr>\n    <tr>\n      <th>2</th>\n      <td>2</td>\n      <td>2018090905</td>\n      <td>2018-09-09</td>\n      <td>4</td>\n      <td>5</td>\n      <td>27</td>\n      <td>NE</td>\n      <td>HOU</td>\n      <td>4</td>\n      <td>2</td>\n      <td>...</td>\n      <td>1:00PM</td>\n      <td>NE</td>\n      <td>27</td>\n      <td>20</td>\n      <td>389</td>\n      <td>3</td>\n      <td>325</td>\n      <td>2</td>\n      <td>True</td>\n      <td>NE</td>\n    </tr>\n    <tr>\n      <th>3</th>\n      <td>3</td>\n      <td>2018090905</td>\n      <td>2018-09-09</td>\n      <td>4</td>\n      <td>5</td>\n      <td>17</td>\n      <td>HOU</td>\n      <td>NE</td>\n      <td>1</td>\n      <td>10</td>\n      <td>...</td>\n      <td>1:00PM</td>\n      <td>NE</td>\n      <td>27</td>\n      <td>20</td>\n      <td>389</td>\n      <td>3</td>\n      <td>325</td>\n      <td>2</td>\n      <td>False</td>\n      <td>NE</td>\n    </tr>\n    <tr>\n      <th>4</th>\n      <td>4</td>\n      <td>2018090905</td>\n      <td>2018-09-09</td>\n      <td>4</td>\n      <td>5</td>\n      <td>13</td>\n      <td>HOU</td>\n      <td>NE</td>\n      <td>2</td>\n      <td>10</td>\n      <td>...</td>\n      <td>1:00PM</td>\n      <td>NE</td>\n      <td>27</td>\n      <td>20</td>\n      <td>389</td>\n      <td>3</td>\n      <td>325</td>\n      <td>2</td>\n      <td>False</td>\n      <td>NE</td>\n    </tr>\n    <tr>\n      <th>...</th>\n      <td>...</td>\n      <td>...</td>\n      <td>...</td>\n      <td>...</td>\n      <td>...</td>\n      <td>...</td>\n      <td>...</td>\n      <td>...</td>\n      <td>...</td>\n      <td>...</td>\n      <td>...</td>\n      <td>...</td>\n      <td>...</td>\n      <td>...</td>\n      <td>...</td>\n      <td>...</td>\n      <td>...</td>\n      <td>...</td>\n      <td>...</td>\n      <td>...</td>\n      <td>...</td>\n    </tr>\n    <tr>\n      <th>39103</th>\n      <td>39103</td>\n      <td>2022121801</td>\n      <td>2022-12-18</td>\n      <td>1</td>\n      <td>2</td>\n      <td>39</td>\n      <td>PHI</td>\n      <td>CHI</td>\n      <td>1</td>\n      <td>10</td>\n      <td>...</td>\n      <td>1:00PM</td>\n      <td>KC</td>\n      <td>30</td>\n      <td>24</td>\n      <td>502</td>\n      <td>2</td>\n      <td>219</td>\n      <td>1</td>\n      <td>False</td>\n      <td>KC</td>\n    </tr>\n    <tr>\n      <th>39104</th>\n      <td>39104</td>\n      <td>2022121802</td>\n      <td>2022-12-18</td>\n      <td>1</td>\n      <td>1</td>\n      <td>1</td>\n      <td>HOU</td>\n      <td>KC</td>\n      <td>0</td>\n      <td>0</td>\n      <td>...</td>\n      <td>1:00PM</td>\n      <td>PHI</td>\n      <td>25</td>\n      <td>20</td>\n      <td>421</td>\n      <td>3</td>\n      <td>248</td>\n      <td>1</td>\n      <td>False</td>\n      <td>PHI</td>\n    </tr>\n    <tr>\n      <th>39105</th>\n      <td>39105</td>\n      <td>2022121802</td>\n      <td>2022-12-18</td>\n      <td>1</td>\n      <td>1</td>\n      <td>1</td>\n      <td>HOU</td>\n      <td>KC</td>\n      <td>0</td>\n      <td>0</td>\n      <td>...</td>\n      <td>1:00PM</td>\n      <td>KC</td>\n      <td>30</td>\n      <td>24</td>\n      <td>502</td>\n      <td>2</td>\n      <td>219</td>\n      <td>1</td>\n      <td>False</td>\n      <td>KC</td>\n    </tr>\n    <tr>\n      <th>39106</th>\n      <td>39106</td>\n      <td>2022121801</td>\n      <td>2022-12-18</td>\n      <td>4</td>\n      <td>15</td>\n      <td>0</td>\n      <td>PHI</td>\n      <td>CHI</td>\n      <td>1</td>\n      <td>10</td>\n      <td>...</td>\n      <td>1:00PM</td>\n      <td>PHI</td>\n      <td>25</td>\n      <td>20</td>\n      <td>421</td>\n      <td>3</td>\n      <td>248</td>\n      <td>1</td>\n      <td>True</td>\n      <td>PHI</td>\n    </tr>\n    <tr>\n      <th>39107</th>\n      <td>39107</td>\n      <td>2022121801</td>\n      <td>2022-12-18</td>\n      <td>4</td>\n      <td>15</td>\n      <td>0</td>\n      <td>PHI</td>\n      <td>CHI</td>\n      <td>1</td>\n      <td>10</td>\n      <td>...</td>\n      <td>1:00PM</td>\n      <td>KC</td>\n      <td>30</td>\n      <td>24</td>\n      <td>502</td>\n      <td>2</td>\n      <td>219</td>\n      <td>1</td>\n      <td>False</td>\n      <td>KC</td>\n    </tr>\n  </tbody>\n</table>\n<p>39108 rows × 48 columns</p>\n</div>"
     },
     "execution_count": 13,
     "metadata": {},
     "output_type": "execute_result"
    }
   ],
   "source": [
    "df_train_final"
   ],
   "metadata": {
    "collapsed": false,
    "ExecuteTime": {
     "end_time": "2024-02-11T00:40:43.625604200Z",
     "start_time": "2024-02-11T00:40:43.445005900Z"
    }
   },
   "id": "dec96998545271cd",
   "execution_count": 13
  },
  {
   "cell_type": "code",
   "outputs": [
    {
     "data": {
      "text/plain": "      Unnamed: 0      GameId    GameDate  Quarter  Minute  Second OffenseTeam  \\\n0              0  2023090700  2023-09-07        3      12      54          KC   \n1              1  2023090700  2023-09-07        1      12      56          KC   \n2              2  2023090700  2023-09-07        1      12      20          KC   \n3              3  2023090700  2023-09-07        1      11      44          KC   \n4              4  2023090700  2023-09-07        1      11      35          KC   \n...          ...         ...         ...      ...     ...     ...         ...   \n6960        6960  2023121009  2023-12-10        2       1      52          KC   \n6961        6961  2023121009  2023-12-10        3       7      10          KC   \n6962        6962  2023121009  2023-12-10        3       7      10          KC   \n6963        6963  2023121009  2023-12-10        4       0      25         BUF   \n6964        6964  2023121009  2023-12-10        4       0      25         BUF   \n\n     DefenseTeam  Down  ToGo  ...    Time  Winner/tie  PtsW  PtsL YdsW TOW  \\\n0            DET     0     0  ...  8:20PM         DET    21    20  368   1   \n1            DET     3     2  ...  8:20PM         DET    21    20  368   1   \n2            DET     1    10  ...  8:20PM         DET    21    20  368   1   \n3            DET     2     5  ...  8:20PM         DET    21    20  368   1   \n4            DET     3     5  ...  8:20PM         DET    21    20  368   1   \n...          ...   ...   ...  ...     ...         ...   ...   ...  ...  ..   \n6960         BUF     2     8  ...  4:05PM          SF    28    16  527   2   \n6961         BUF     1    10  ...  4:25PM         BUF    20    17  327   1   \n6962         BUF     1    10  ...  4:05PM          SF    28    16  527   2   \n6963          KC     2    11  ...  4:25PM         BUF    20    17  327   1   \n6964          KC     2    11  ...  4:05PM          SF    28    16  527   2   \n\n      YdsL  TOL  Winner  WinningTeam  \n0      316    1   False          DET  \n1      316    1   False          DET  \n2      316    1   False          DET  \n3      316    1   False          DET  \n4      316    1   False          DET  \n...    ...  ...     ...          ...  \n6960   324    2   False           SF  \n6961   346    2   False          BUF  \n6962   324    2   False           SF  \n6963   346    2    True          BUF  \n6964   324    2   False           SF  \n\n[6965 rows x 48 columns]",
      "text/html": "<div>\n<style scoped>\n    .dataframe tbody tr th:only-of-type {\n        vertical-align: middle;\n    }\n\n    .dataframe tbody tr th {\n        vertical-align: top;\n    }\n\n    .dataframe thead th {\n        text-align: right;\n    }\n</style>\n<table border=\"1\" class=\"dataframe\">\n  <thead>\n    <tr style=\"text-align: right;\">\n      <th></th>\n      <th>Unnamed: 0</th>\n      <th>GameId</th>\n      <th>GameDate</th>\n      <th>Quarter</th>\n      <th>Minute</th>\n      <th>Second</th>\n      <th>OffenseTeam</th>\n      <th>DefenseTeam</th>\n      <th>Down</th>\n      <th>ToGo</th>\n      <th>...</th>\n      <th>Time</th>\n      <th>Winner/tie</th>\n      <th>PtsW</th>\n      <th>PtsL</th>\n      <th>YdsW</th>\n      <th>TOW</th>\n      <th>YdsL</th>\n      <th>TOL</th>\n      <th>Winner</th>\n      <th>WinningTeam</th>\n    </tr>\n  </thead>\n  <tbody>\n    <tr>\n      <th>0</th>\n      <td>0</td>\n      <td>2023090700</td>\n      <td>2023-09-07</td>\n      <td>3</td>\n      <td>12</td>\n      <td>54</td>\n      <td>KC</td>\n      <td>DET</td>\n      <td>0</td>\n      <td>0</td>\n      <td>...</td>\n      <td>8:20PM</td>\n      <td>DET</td>\n      <td>21</td>\n      <td>20</td>\n      <td>368</td>\n      <td>1</td>\n      <td>316</td>\n      <td>1</td>\n      <td>False</td>\n      <td>DET</td>\n    </tr>\n    <tr>\n      <th>1</th>\n      <td>1</td>\n      <td>2023090700</td>\n      <td>2023-09-07</td>\n      <td>1</td>\n      <td>12</td>\n      <td>56</td>\n      <td>KC</td>\n      <td>DET</td>\n      <td>3</td>\n      <td>2</td>\n      <td>...</td>\n      <td>8:20PM</td>\n      <td>DET</td>\n      <td>21</td>\n      <td>20</td>\n      <td>368</td>\n      <td>1</td>\n      <td>316</td>\n      <td>1</td>\n      <td>False</td>\n      <td>DET</td>\n    </tr>\n    <tr>\n      <th>2</th>\n      <td>2</td>\n      <td>2023090700</td>\n      <td>2023-09-07</td>\n      <td>1</td>\n      <td>12</td>\n      <td>20</td>\n      <td>KC</td>\n      <td>DET</td>\n      <td>1</td>\n      <td>10</td>\n      <td>...</td>\n      <td>8:20PM</td>\n      <td>DET</td>\n      <td>21</td>\n      <td>20</td>\n      <td>368</td>\n      <td>1</td>\n      <td>316</td>\n      <td>1</td>\n      <td>False</td>\n      <td>DET</td>\n    </tr>\n    <tr>\n      <th>3</th>\n      <td>3</td>\n      <td>2023090700</td>\n      <td>2023-09-07</td>\n      <td>1</td>\n      <td>11</td>\n      <td>44</td>\n      <td>KC</td>\n      <td>DET</td>\n      <td>2</td>\n      <td>5</td>\n      <td>...</td>\n      <td>8:20PM</td>\n      <td>DET</td>\n      <td>21</td>\n      <td>20</td>\n      <td>368</td>\n      <td>1</td>\n      <td>316</td>\n      <td>1</td>\n      <td>False</td>\n      <td>DET</td>\n    </tr>\n    <tr>\n      <th>4</th>\n      <td>4</td>\n      <td>2023090700</td>\n      <td>2023-09-07</td>\n      <td>1</td>\n      <td>11</td>\n      <td>35</td>\n      <td>KC</td>\n      <td>DET</td>\n      <td>3</td>\n      <td>5</td>\n      <td>...</td>\n      <td>8:20PM</td>\n      <td>DET</td>\n      <td>21</td>\n      <td>20</td>\n      <td>368</td>\n      <td>1</td>\n      <td>316</td>\n      <td>1</td>\n      <td>False</td>\n      <td>DET</td>\n    </tr>\n    <tr>\n      <th>...</th>\n      <td>...</td>\n      <td>...</td>\n      <td>...</td>\n      <td>...</td>\n      <td>...</td>\n      <td>...</td>\n      <td>...</td>\n      <td>...</td>\n      <td>...</td>\n      <td>...</td>\n      <td>...</td>\n      <td>...</td>\n      <td>...</td>\n      <td>...</td>\n      <td>...</td>\n      <td>...</td>\n      <td>...</td>\n      <td>...</td>\n      <td>...</td>\n      <td>...</td>\n      <td>...</td>\n    </tr>\n    <tr>\n      <th>6960</th>\n      <td>6960</td>\n      <td>2023121009</td>\n      <td>2023-12-10</td>\n      <td>2</td>\n      <td>1</td>\n      <td>52</td>\n      <td>KC</td>\n      <td>BUF</td>\n      <td>2</td>\n      <td>8</td>\n      <td>...</td>\n      <td>4:05PM</td>\n      <td>SF</td>\n      <td>28</td>\n      <td>16</td>\n      <td>527</td>\n      <td>2</td>\n      <td>324</td>\n      <td>2</td>\n      <td>False</td>\n      <td>SF</td>\n    </tr>\n    <tr>\n      <th>6961</th>\n      <td>6961</td>\n      <td>2023121009</td>\n      <td>2023-12-10</td>\n      <td>3</td>\n      <td>7</td>\n      <td>10</td>\n      <td>KC</td>\n      <td>BUF</td>\n      <td>1</td>\n      <td>10</td>\n      <td>...</td>\n      <td>4:25PM</td>\n      <td>BUF</td>\n      <td>20</td>\n      <td>17</td>\n      <td>327</td>\n      <td>1</td>\n      <td>346</td>\n      <td>2</td>\n      <td>False</td>\n      <td>BUF</td>\n    </tr>\n    <tr>\n      <th>6962</th>\n      <td>6962</td>\n      <td>2023121009</td>\n      <td>2023-12-10</td>\n      <td>3</td>\n      <td>7</td>\n      <td>10</td>\n      <td>KC</td>\n      <td>BUF</td>\n      <td>1</td>\n      <td>10</td>\n      <td>...</td>\n      <td>4:05PM</td>\n      <td>SF</td>\n      <td>28</td>\n      <td>16</td>\n      <td>527</td>\n      <td>2</td>\n      <td>324</td>\n      <td>2</td>\n      <td>False</td>\n      <td>SF</td>\n    </tr>\n    <tr>\n      <th>6963</th>\n      <td>6963</td>\n      <td>2023121009</td>\n      <td>2023-12-10</td>\n      <td>4</td>\n      <td>0</td>\n      <td>25</td>\n      <td>BUF</td>\n      <td>KC</td>\n      <td>2</td>\n      <td>11</td>\n      <td>...</td>\n      <td>4:25PM</td>\n      <td>BUF</td>\n      <td>20</td>\n      <td>17</td>\n      <td>327</td>\n      <td>1</td>\n      <td>346</td>\n      <td>2</td>\n      <td>True</td>\n      <td>BUF</td>\n    </tr>\n    <tr>\n      <th>6964</th>\n      <td>6964</td>\n      <td>2023121009</td>\n      <td>2023-12-10</td>\n      <td>4</td>\n      <td>0</td>\n      <td>25</td>\n      <td>BUF</td>\n      <td>KC</td>\n      <td>2</td>\n      <td>11</td>\n      <td>...</td>\n      <td>4:05PM</td>\n      <td>SF</td>\n      <td>28</td>\n      <td>16</td>\n      <td>527</td>\n      <td>2</td>\n      <td>324</td>\n      <td>2</td>\n      <td>False</td>\n      <td>SF</td>\n    </tr>\n  </tbody>\n</table>\n<p>6965 rows × 48 columns</p>\n</div>"
     },
     "execution_count": 14,
     "metadata": {},
     "output_type": "execute_result"
    }
   ],
   "source": [
    "df_test_final"
   ],
   "metadata": {
    "collapsed": false,
    "ExecuteTime": {
     "end_time": "2024-02-11T00:40:43.655982400Z",
     "start_time": "2024-02-11T00:40:43.491888500Z"
    }
   },
   "id": "92c209adaabdfe91",
   "execution_count": 14
  },
  {
   "cell_type": "code",
   "outputs": [],
   "source": [
    "df_train_final['PenaltyOnWinner'] = df_train_final.apply(lambda row: row['Winner/tie'] == row['PenaltyTeam'], axis = 1)\n",
    "df_test_final['PenaltyOnWinner'] = df_test_final.apply(lambda row: row['Winner/tie'] == row['PenaltyTeam'], axis = 1)"
   ],
   "metadata": {
    "collapsed": false,
    "ExecuteTime": {
     "end_time": "2024-02-11T00:40:43.967244200Z",
     "start_time": "2024-02-11T00:40:43.518716700Z"
    }
   },
   "id": "a2e5b5996efdcaf7",
   "execution_count": 15
  },
  {
   "cell_type": "code",
   "outputs": [],
   "source": [
    "feature_list = ['Down','ToGo','YardLine','SeriesFirstDown','Yards','IsRush','IsPass','IsIncomplete','IsTouchdown','IsSack','IsChallenge','IsChallengeReversed','IsInterception','IsFumble','IsPenalty','IsTwoPointConversion','IsTwoPointConversionSuccessful','IsPenaltyAccepted','PenaltyOnWinner']\n",
    "X_train = df_train_final[feature_list]\n",
    "y_train = df_train_final['Winner']\n",
    "X_test = df_test_final[feature_list]\n",
    "y_test = df_test_final['Winner']"
   ],
   "metadata": {
    "collapsed": false,
    "ExecuteTime": {
     "end_time": "2024-02-11T00:40:43.969455800Z",
     "start_time": "2024-02-11T00:40:43.925988Z"
    }
   },
   "id": "973ad8317f2b9704",
   "execution_count": 16
  },
  {
   "cell_type": "code",
   "outputs": [],
   "source": [
    "X_train = X_train.to_numpy().reshape(-1,len(feature_list))\n",
    "X_test = X_test.to_numpy().reshape(-1,len(feature_list))"
   ],
   "metadata": {
    "collapsed": false,
    "ExecuteTime": {
     "end_time": "2024-02-11T00:40:43.972620300Z",
     "start_time": "2024-02-11T00:40:43.940291Z"
    }
   },
   "id": "7dc24d481f89646",
   "execution_count": 17
  },
  {
   "cell_type": "markdown",
   "source": [
    "# pca\n"
   ],
   "metadata": {
    "collapsed": false
   },
   "id": "8d776864662b5850"
  },
  {
   "cell_type": "code",
   "outputs": [],
   "source": [
    "from sklearn.preprocessing import StandardScaler\n",
    "from sklearn.model_selection import train_test_split\n",
    "from sklearn.decomposition import PCA"
   ],
   "metadata": {
    "collapsed": false,
    "ExecuteTime": {
     "end_time": "2024-02-11T00:41:07.947411300Z",
     "start_time": "2024-02-11T00:40:43.958447300Z"
    }
   },
   "id": "32eed998e30cdb1f",
   "execution_count": 18
  },
  {
   "cell_type": "code",
   "outputs": [],
   "source": [
    "ss = StandardScaler()\n",
    "X_train_scaled = ss.fit_transform(X_train)\n",
    "X_test_scaled = ss.transform(X_test)"
   ],
   "metadata": {
    "collapsed": false,
    "ExecuteTime": {
     "end_time": "2024-02-11T00:41:08.006475500Z",
     "start_time": "2024-02-11T00:41:07.949724500Z"
    }
   },
   "id": "491509479bf15463",
   "execution_count": 19
  },
  {
   "cell_type": "code",
   "outputs": [
    {
     "data": {
      "text/plain": "<Figure size 640x480 with 1 Axes>",
      "image/png": "[encoded data removed]"
     },
     "metadata": {},
     "output_type": "display_data"
    }
   ],
   "source": [
    "pca1 = PCA(n_components=len(feature_list)).fit(X_train_scaled)\n",
    "\n",
    "plt.plot(pca1.explained_variance_ratio_.cumsum(), lw=3, color='#087E8B')\n",
    "plt.title('Cumulative explained variance by number of principal components', size=20)\n",
    "plt.show()"
   ],
   "metadata": {
    "collapsed": false,
    "ExecuteTime": {
     "end_time": "2024-02-11T00:45:09.305896300Z",
     "start_time": "2024-02-11T00:45:09.148432700Z"
    }
   },
   "id": "85a4207ff106b07d",
   "execution_count": 26
  },
  {
   "cell_type": "code",
   "outputs": [
    {
     "ename": "NameError",
     "evalue": "name 'pca1' is not defined",
     "output_type": "error",
     "traceback": [
      "\u001B[1;31m---------------------------------------------------------------------------\u001B[0m",
      "\u001B[1;31mNameError\u001B[0m                                 Traceback (most recent call last)",
      "Cell \u001B[1;32mIn[22], line 1\u001B[0m\n\u001B[1;32m----> 1\u001B[0m df_evr \u001B[38;5;241m=\u001B[39m pd\u001B[38;5;241m.\u001B[39mDataFrame(\u001B[43mpca1\u001B[49m\u001B[38;5;241m.\u001B[39mexplained_variance_ratio_, index \u001B[38;5;241m=\u001B[39m[\u001B[38;5;124m'\u001B[39m\u001B[38;5;124mPCA 1\u001B[39m\u001B[38;5;124m'\u001B[39m,\u001B[38;5;124m'\u001B[39m\u001B[38;5;124mPCA 2\u001B[39m\u001B[38;5;124m'\u001B[39m,\u001B[38;5;124m'\u001B[39m\u001B[38;5;124mPCA 3\u001B[39m\u001B[38;5;124m'\u001B[39m])\n\u001B[0;32m      2\u001B[0m ax \u001B[38;5;241m=\u001B[39m df_evr\u001B[38;5;241m.\u001B[39mplot\u001B[38;5;241m.\u001B[39mbar()\n\u001B[0;32m      3\u001B[0m ax\u001B[38;5;241m.\u001B[39mset_xlabel(\u001B[38;5;124m'\u001B[39m\u001B[38;5;124mPrimary Components\u001B[39m\u001B[38;5;124m'\u001B[39m)\n",
      "\u001B[1;31mNameError\u001B[0m: name 'pca1' is not defined"
     ]
    }
   ],
   "source": [
    "df_evr = pd.DataFrame(pca1.explained_variance_ratio_, index =['PCA 1','PCA 2','PCA 3'])\n",
    "ax = df_evr.plot.bar()\n",
    "ax.set_xlabel('Primary Components')\n",
    "ax.set_ylim(top=1)\n",
    "ax.set_title('Unstandardized PC Analysis')\n",
    "plt.legend('',frameon=False)\n",
    "plt.show()"
   ],
   "metadata": {
    "collapsed": false,
    "ExecuteTime": {
     "end_time": "2024-02-11T00:42:11.953800900Z",
     "start_time": "2024-02-11T00:42:11.915396400Z"
    }
   },
   "id": "e4529792d5c8f49",
   "execution_count": 22
  },
  {
   "cell_type": "code",
   "outputs": [
    {
     "ename": "AttributeError",
     "evalue": "'numpy.ndarray' object has no attribute 'columns'",
     "output_type": "error",
     "traceback": [
      "\u001B[1;31m---------------------------------------------------------------------------\u001B[0m",
      "\u001B[1;31mAttributeError\u001B[0m                            Traceback (most recent call last)",
      "Cell \u001B[1;32mIn[21], line 3\u001B[0m\n\u001B[0;32m      1\u001B[0m loadings \u001B[38;5;241m=\u001B[39m pd\u001B[38;5;241m.\u001B[39mDataFrame(\n\u001B[0;32m      2\u001B[0m     data\u001B[38;5;241m=\u001B[39mpca\u001B[38;5;241m.\u001B[39mcomponents_\u001B[38;5;241m.\u001B[39mT \u001B[38;5;241m*\u001B[39m np\u001B[38;5;241m.\u001B[39msqrt(pca\u001B[38;5;241m.\u001B[39mexplained_variance_),\n\u001B[1;32m----> 3\u001B[0m     columns\u001B[38;5;241m=\u001B[39m[\u001B[38;5;124mf\u001B[39m\u001B[38;5;124m'\u001B[39m\u001B[38;5;124mPC\u001B[39m\u001B[38;5;132;01m{\u001B[39;00mi\u001B[38;5;132;01m}\u001B[39;00m\u001B[38;5;124m'\u001B[39m \u001B[38;5;28;01mfor\u001B[39;00m i \u001B[38;5;129;01min\u001B[39;00m \u001B[38;5;28mrange\u001B[39m(\u001B[38;5;241m1\u001B[39m, \u001B[38;5;28mlen\u001B[39m(\u001B[43mX_train\u001B[49m\u001B[38;5;241;43m.\u001B[39;49m\u001B[43mcolumns\u001B[49m) \u001B[38;5;241m+\u001B[39m \u001B[38;5;241m1\u001B[39m)],\n\u001B[0;32m      4\u001B[0m     index\u001B[38;5;241m=\u001B[39mX_train\u001B[38;5;241m.\u001B[39mcolumns\n\u001B[0;32m      5\u001B[0m )\n\u001B[0;32m      6\u001B[0m loadings\u001B[38;5;241m.\u001B[39mhead()\n",
      "\u001B[1;31mAttributeError\u001B[0m: 'numpy.ndarray' object has no attribute 'columns'"
     ]
    }
   ],
   "source": [
    "loadings = pd.DataFrame(\n",
    "    data=pca.components_.T * np.sqrt(pca.explained_variance_),\n",
    "    columns=[f'PC{i}' for i in range(1, len(X_train.columns) + 1)],\n",
    "    index=X_train.columns\n",
    ")\n",
    "loadings.head()"
   ],
   "metadata": {
    "collapsed": false,
    "ExecuteTime": {
     "end_time": "2024-02-11T00:41:08.375882400Z",
     "start_time": "2024-02-11T00:41:08.248504600Z"
    }
   },
   "id": "96f8d55b5439d24f",
   "execution_count": 21
  },
  {
   "cell_type": "code",
   "outputs": [],
   "source": [
    "pc1_loadings = loadings.sort_values(by='PC1', ascending=False)[['PC1']]\n",
    "pc1_loadings = pc1_loadings.reset_index()\n",
    "pc1_loadings.columns = ['Attribute', 'CorrelationWithPC1']\n",
    "\n",
    "plt.bar(x=pc1_loadings['Attribute'], height=pc1_loadings['CorrelationWithPC1'], color='#087E8B')\n",
    "plt.title('PCA loading scores (first principal component)', size=20)\n",
    "plt.xticks(rotation='vertical')\n",
    "plt.show()"
   ],
   "metadata": {
    "collapsed": false,
    "ExecuteTime": {
     "start_time": "2024-02-11T00:41:08.367014700Z"
    }
   },
   "id": "783f42021802e577"
  },
  {
   "cell_type": "markdown",
   "source": [
    "# dtc"
   ],
   "metadata": {
    "collapsed": false
   },
   "id": "1be8ec01c3bd2d26"
  },
  {
   "cell_type": "code",
   "outputs": [],
   "source": [
    "from sklearn.tree import DecisionTreeClassifier as dtc\n",
    "# from sklearn.model_selection import train_test_split as tts\n",
    "from sklearn import tree\n",
    "from sklearn.metrics import accuracy_score"
   ],
   "metadata": {
    "collapsed": false,
    "ExecuteTime": {
     "start_time": "2024-02-11T00:41:08.370342200Z"
    }
   },
   "id": "de3f32ceb3cfa223",
   "execution_count": null
  },
  {
   "cell_type": "code",
   "outputs": [],
   "source": [
    "clf = dtc(criterion='entropy')\n",
    "clf.fit(X_train,y_train)"
   ],
   "metadata": {
    "collapsed": false,
    "ExecuteTime": {
     "start_time": "2024-02-11T00:41:08.373734200Z"
    }
   },
   "id": "d9ffa23b90807f69"
  },
  {
   "cell_type": "code",
   "outputs": [],
   "source": [
    "tree.plot_tree(clf, feature_names=[], class_names=['Winner','Loser'])"
   ],
   "metadata": {
    "collapsed": false,
    "ExecuteTime": {
     "start_time": "2024-02-11T00:41:08.375882400Z"
    }
   },
   "id": "d3471f9af0dc6d63"
  },
  {
   "cell_type": "code",
   "outputs": [],
   "source": [
    "pred = clf.predict(X_test)\n",
    "accuracy = accuracy_score(pred, y_test)\n",
    "accuracy"
   ],
   "metadata": {
    "collapsed": false,
    "ExecuteTime": {
     "end_time": "2024-02-11T00:41:08.378012400Z",
     "start_time": "2024-02-11T00:41:08.378012400Z"
    }
   },
   "id": "b5912c8ae7b3b44d"
  },
  {
   "cell_type": "code",
   "outputs": [],
   "source": [],
   "metadata": {
    "collapsed": false,
    "ExecuteTime": {
     "start_time": "2024-02-11T00:41:08.380259100Z"
    }
   },
   "id": "3bdd81cdf8354a44",
   "execution_count": null
  }
 ],
 "metadata": {
  "kernelspec": {
   "display_name": "Python 3",
   "language": "python",
   "name": "python3"
  },
  "language_info": {
   "codemirror_mode": {
    "name": "ipython",
    "version": 2
   },
   "file_extension": ".py",
   "mimetype": "text/x-python",
   "name": "python",
   "nbconvert_exporter": "python",
   "pygments_lexer": "ipython2",
   "version": "2.7.6"
  }
 },
 "nbformat": 4,
 "nbformat_minor": 5
}
