{
 "cells": [
  {
   "cell_type": "code",
   "execution_count": 31,
   "id": "initial_id",
   "metadata": {
    "collapsed": true,
    "ExecuteTime": {
     "end_time": "2024-02-10T20:11:06.942352Z",
     "start_time": "2024-02-10T20:11:06.916190900Z"
    }
   },
   "outputs": [],
   "source": [
    "import pandas as pd\n",
    "import numpy as np\n",
    "import matplotlib.pyplot as plt"
   ]
  },
  {
   "cell_type": "code",
   "outputs": [],
   "source": [
    "df1 = pd.read_csv('../datasets/pbp-2023.csv')\n",
    "df2 = pd.read_csv('../datasets/pbp-2022.csv')\n",
    "df3 = pd.read_csv('../datasets/pbp-2021.csv')\n",
    "df4 = pd.read_csv('../datasets/pbp-2020.csv')\n",
    "df5 = pd.read_csv('../datasets/pbp-2019.csv')\n",
    "df6 = pd.read_csv('../datasets/pbp-2018.csv')"
   ],
   "metadata": {
    "collapsed": false,
    "ExecuteTime": {
     "end_time": "2024-02-10T20:11:09.503167400Z",
     "start_time": "2024-02-10T20:11:06.932147700Z"
    }
   },
   "id": "aea4896ffa921ad3",
   "execution_count": 32
  },
  {
   "cell_type": "code",
   "outputs": [],
   "source": [
    "df1 = df1[(df1['OffenseTeam']  == 'KC') | (df1['DefenseTeam']  == 'KC') | (df1['OffenseTeam']  == 'SF') | (df1['DefenseTeam']  == 'SF')]\n",
    "df2 = df2[(df2['OffenseTeam']  == 'PHI') | (df2['DefenseTeam']  == 'PHI') | (df2['OffenseTeam']  == 'KC') | (df2['DefenseTeam']  == 'KC')]\n",
    "df3 = df3[(df3['OffenseTeam']  == 'LA') | (df3['DefenseTeam']  == 'LA') | (df3['OffenseTeam']  == 'CIN') | (df3['DefenseTeam']  == 'CIN')]\n",
    "df4 = df4[(df4['OffenseTeam']  == 'KC') | (df4['DefenseTeam']  == 'KC') | (df4['OffenseTeam']  == 'TB') | (df4['DefenseTeam']  == 'TB')]\n",
    "df5 = df5[(df5['OffenseTeam']  == 'KC') | (df5['DefenseTeam']  == 'KC') | (df5['OffenseTeam']  == 'SF') | (df5['DefenseTeam']  == 'SF')]\n",
    "df6 = df6[(df6['OffenseTeam']  == 'NE') | (df6['DefenseTeam']  == 'NE') | (df6['OffenseTeam']  == 'LA') | (df6['DefenseTeam']  == 'LA')]"
   ],
   "metadata": {
    "collapsed": false,
    "ExecuteTime": {
     "end_time": "2024-02-10T20:11:09.707512900Z",
     "start_time": "2024-02-10T20:11:09.513210200Z"
    }
   },
   "id": "940a6fe1eb763440",
   "execution_count": 33
  },
  {
   "cell_type": "code",
   "outputs": [],
   "source": [
    "df_train = pd.concat([df2,df3, df4, df5, df6], ignore_index=True)\n",
    "df_train = df_train.drop(['Unnamed: 10','Unnamed: 12','Unnamed: 16','Unnamed: 17', 'Description','NextScore','TeamWin','Challenger','IsMeasurement',], axis = 1)"
   ],
   "metadata": {
    "collapsed": false,
    "ExecuteTime": {
     "end_time": "2024-02-10T20:11:09.765103Z",
     "start_time": "2024-02-10T20:11:09.715533100Z"
    }
   },
   "id": "ff1a51d320398d61",
   "execution_count": 34
  },
  {
   "cell_type": "code",
   "outputs": [
    {
     "data": {
      "text/plain": "           GameId    GameDate  Quarter  Minute  Second OffenseTeam  \\\n0      2022091110  2022-09-11        1      11      11          KC   \n1      2022091110  2022-09-11        1      10      28          KC   \n2      2022091110  2022-09-11        1       9      47          KC   \n3      2022091110  2022-09-11        1       3      24          KC   \n4      2022091110  2022-09-11        1       3      20          KC   \n...           ...         ...      ...     ...     ...         ...   \n25074  2018091612  2018-09-16        3       6       0         JAX   \n25075  2018091609  2018-09-16        2      14      37          LA   \n25076  2018091001  2018-09-10        2       0       0         NaN   \n25077  2018091001  2018-09-10        2       2       0         NaN   \n25078  2018091001  2018-09-10        2       3      15         NaN   \n\n      DefenseTeam  Down  ToGo  YardLine  ...  IsTwoPointConversion  \\\n0             ARI     2     7        73  ...                     0   \n1             ARI     3     7        73  ...                     0   \n2             ARI     1     9        91  ...                     0   \n3             ARI     1     3        97  ...                     0   \n4             ARI     0     0        85  ...                     0   \n...           ...   ...   ...       ...  ...                   ...   \n25074          NE     2     4        36  ...                     0   \n25075         ARI     2     1        89  ...                     0   \n25076          LA     0     0         0  ...                     0   \n25077          LA     0     0         0  ...                     0   \n25078          LA     0     0         0  ...                     0   \n\n       IsTwoPointConversionSuccessful  RushDirection YardLineFixed  \\\n0                                   0         CENTER            27   \n1                                   0            NaN            27   \n2                                   0            NaN             9   \n3                                   0            NaN             3   \n4                                   0            NaN            15   \n...                               ...            ...           ...   \n25074                               0            NaN            36   \n25075                               0      RIGHT END            11   \n25076                               0            NaN             0   \n25077                               0            NaN             0   \n25078                               0            NaN             0   \n\n      YardLineDirection  IsPenaltyAccepted  PenaltyTeam  IsNoPlay  \\\n0                   OPP                  0          NaN         0   \n1                   OPP                  0          NaN         0   \n2                   OPP                  0          NaN         0   \n3                   OPP                  0          NaN         0   \n4                   OPP                  0          NaN         0   \n...                 ...                ...          ...       ...   \n25074               OWN                  0          NaN         0   \n25075               OPP                  0          NaN         0   \n25076               OWN                  0          NaN         0   \n25077               OWN                  0          NaN         0   \n25078               OWN                  0          NaN         0   \n\n       PenaltyType PenaltyYards  \n0              NaN            0  \n1              NaN            0  \n2              NaN            0  \n3              NaN            0  \n4              NaN            0  \n...            ...          ...  \n25074          NaN            0  \n25075          NaN            0  \n25076          NaN            0  \n25077          NaN            0  \n25078          NaN            0  \n\n[25079 rows x 36 columns]",
      "text/html": "<div>\n<style scoped>\n    .dataframe tbody tr th:only-of-type {\n        vertical-align: middle;\n    }\n\n    .dataframe tbody tr th {\n        vertical-align: top;\n    }\n\n    .dataframe thead th {\n        text-align: right;\n    }\n</style>\n<table border=\"1\" class=\"dataframe\">\n  <thead>\n    <tr style=\"text-align: right;\">\n      <th></th>\n      <th>GameId</th>\n      <th>GameDate</th>\n      <th>Quarter</th>\n      <th>Minute</th>\n      <th>Second</th>\n      <th>OffenseTeam</th>\n      <th>DefenseTeam</th>\n      <th>Down</th>\n      <th>ToGo</th>\n      <th>YardLine</th>\n      <th>...</th>\n      <th>IsTwoPointConversion</th>\n      <th>IsTwoPointConversionSuccessful</th>\n      <th>RushDirection</th>\n      <th>YardLineFixed</th>\n      <th>YardLineDirection</th>\n      <th>IsPenaltyAccepted</th>\n      <th>PenaltyTeam</th>\n      <th>IsNoPlay</th>\n      <th>PenaltyType</th>\n      <th>PenaltyYards</th>\n    </tr>\n  </thead>\n  <tbody>\n    <tr>\n      <th>0</th>\n      <td>2022091110</td>\n      <td>2022-09-11</td>\n      <td>1</td>\n      <td>11</td>\n      <td>11</td>\n      <td>KC</td>\n      <td>ARI</td>\n      <td>2</td>\n      <td>7</td>\n      <td>73</td>\n      <td>...</td>\n      <td>0</td>\n      <td>0</td>\n      <td>CENTER</td>\n      <td>27</td>\n      <td>OPP</td>\n      <td>0</td>\n      <td>NaN</td>\n      <td>0</td>\n      <td>NaN</td>\n      <td>0</td>\n    </tr>\n    <tr>\n      <th>1</th>\n      <td>2022091110</td>\n      <td>2022-09-11</td>\n      <td>1</td>\n      <td>10</td>\n      <td>28</td>\n      <td>KC</td>\n      <td>ARI</td>\n      <td>3</td>\n      <td>7</td>\n      <td>73</td>\n      <td>...</td>\n      <td>0</td>\n      <td>0</td>\n      <td>NaN</td>\n      <td>27</td>\n      <td>OPP</td>\n      <td>0</td>\n      <td>NaN</td>\n      <td>0</td>\n      <td>NaN</td>\n      <td>0</td>\n    </tr>\n    <tr>\n      <th>2</th>\n      <td>2022091110</td>\n      <td>2022-09-11</td>\n      <td>1</td>\n      <td>9</td>\n      <td>47</td>\n      <td>KC</td>\n      <td>ARI</td>\n      <td>1</td>\n      <td>9</td>\n      <td>91</td>\n      <td>...</td>\n      <td>0</td>\n      <td>0</td>\n      <td>NaN</td>\n      <td>9</td>\n      <td>OPP</td>\n      <td>0</td>\n      <td>NaN</td>\n      <td>0</td>\n      <td>NaN</td>\n      <td>0</td>\n    </tr>\n    <tr>\n      <th>3</th>\n      <td>2022091110</td>\n      <td>2022-09-11</td>\n      <td>1</td>\n      <td>3</td>\n      <td>24</td>\n      <td>KC</td>\n      <td>ARI</td>\n      <td>1</td>\n      <td>3</td>\n      <td>97</td>\n      <td>...</td>\n      <td>0</td>\n      <td>0</td>\n      <td>NaN</td>\n      <td>3</td>\n      <td>OPP</td>\n      <td>0</td>\n      <td>NaN</td>\n      <td>0</td>\n      <td>NaN</td>\n      <td>0</td>\n    </tr>\n    <tr>\n      <th>4</th>\n      <td>2022091110</td>\n      <td>2022-09-11</td>\n      <td>1</td>\n      <td>3</td>\n      <td>20</td>\n      <td>KC</td>\n      <td>ARI</td>\n      <td>0</td>\n      <td>0</td>\n      <td>85</td>\n      <td>...</td>\n      <td>0</td>\n      <td>0</td>\n      <td>NaN</td>\n      <td>15</td>\n      <td>OPP</td>\n      <td>0</td>\n      <td>NaN</td>\n      <td>0</td>\n      <td>NaN</td>\n      <td>0</td>\n    </tr>\n    <tr>\n      <th>...</th>\n      <td>...</td>\n      <td>...</td>\n      <td>...</td>\n      <td>...</td>\n      <td>...</td>\n      <td>...</td>\n      <td>...</td>\n      <td>...</td>\n      <td>...</td>\n      <td>...</td>\n      <td>...</td>\n      <td>...</td>\n      <td>...</td>\n      <td>...</td>\n      <td>...</td>\n      <td>...</td>\n      <td>...</td>\n      <td>...</td>\n      <td>...</td>\n      <td>...</td>\n      <td>...</td>\n    </tr>\n    <tr>\n      <th>25074</th>\n      <td>2018091612</td>\n      <td>2018-09-16</td>\n      <td>3</td>\n      <td>6</td>\n      <td>0</td>\n      <td>JAX</td>\n      <td>NE</td>\n      <td>2</td>\n      <td>4</td>\n      <td>36</td>\n      <td>...</td>\n      <td>0</td>\n      <td>0</td>\n      <td>NaN</td>\n      <td>36</td>\n      <td>OWN</td>\n      <td>0</td>\n      <td>NaN</td>\n      <td>0</td>\n      <td>NaN</td>\n      <td>0</td>\n    </tr>\n    <tr>\n      <th>25075</th>\n      <td>2018091609</td>\n      <td>2018-09-16</td>\n      <td>2</td>\n      <td>14</td>\n      <td>37</td>\n      <td>LA</td>\n      <td>ARI</td>\n      <td>2</td>\n      <td>1</td>\n      <td>89</td>\n      <td>...</td>\n      <td>0</td>\n      <td>0</td>\n      <td>RIGHT END</td>\n      <td>11</td>\n      <td>OPP</td>\n      <td>0</td>\n      <td>NaN</td>\n      <td>0</td>\n      <td>NaN</td>\n      <td>0</td>\n    </tr>\n    <tr>\n      <th>25076</th>\n      <td>2018091001</td>\n      <td>2018-09-10</td>\n      <td>2</td>\n      <td>0</td>\n      <td>0</td>\n      <td>NaN</td>\n      <td>LA</td>\n      <td>0</td>\n      <td>0</td>\n      <td>0</td>\n      <td>...</td>\n      <td>0</td>\n      <td>0</td>\n      <td>NaN</td>\n      <td>0</td>\n      <td>OWN</td>\n      <td>0</td>\n      <td>NaN</td>\n      <td>0</td>\n      <td>NaN</td>\n      <td>0</td>\n    </tr>\n    <tr>\n      <th>25077</th>\n      <td>2018091001</td>\n      <td>2018-09-10</td>\n      <td>2</td>\n      <td>2</td>\n      <td>0</td>\n      <td>NaN</td>\n      <td>LA</td>\n      <td>0</td>\n      <td>0</td>\n      <td>0</td>\n      <td>...</td>\n      <td>0</td>\n      <td>0</td>\n      <td>NaN</td>\n      <td>0</td>\n      <td>OWN</td>\n      <td>0</td>\n      <td>NaN</td>\n      <td>0</td>\n      <td>NaN</td>\n      <td>0</td>\n    </tr>\n    <tr>\n      <th>25078</th>\n      <td>2018091001</td>\n      <td>2018-09-10</td>\n      <td>2</td>\n      <td>3</td>\n      <td>15</td>\n      <td>NaN</td>\n      <td>LA</td>\n      <td>0</td>\n      <td>0</td>\n      <td>0</td>\n      <td>...</td>\n      <td>0</td>\n      <td>0</td>\n      <td>NaN</td>\n      <td>0</td>\n      <td>OWN</td>\n      <td>0</td>\n      <td>NaN</td>\n      <td>0</td>\n      <td>NaN</td>\n      <td>0</td>\n    </tr>\n  </tbody>\n</table>\n<p>25079 rows × 36 columns</p>\n</div>"
     },
     "execution_count": 35,
     "metadata": {},
     "output_type": "execute_result"
    }
   ],
   "source": [
    "df_train"
   ],
   "metadata": {
    "collapsed": false,
    "ExecuteTime": {
     "end_time": "2024-02-10T20:11:09.861166600Z",
     "start_time": "2024-02-10T20:11:09.765103Z"
    }
   },
   "id": "94a353ffa7474fe7",
   "execution_count": 35
  },
  {
   "cell_type": "code",
   "outputs": [
    {
     "data": {
      "text/plain": "           GameId    GameDate  Quarter  Minute  Second OffenseTeam  \\\n0      2022091110  2022-09-11        1      11      11          KC   \n1      2022091110  2022-09-11        1      10      28          KC   \n2      2022091110  2022-09-11        1       9      47          KC   \n3      2022091110  2022-09-11        1       3      24          KC   \n4      2022091110  2022-09-11        1       3      20          KC   \n...           ...         ...      ...     ...     ...         ...   \n25064  2018101412  2018-10-14        3       6      14          KC   \n25070  2018093006  2018-09-30        1       5      28          NE   \n25073  2018092313  2018-09-23        1       9      18         DET   \n25074  2018091612  2018-09-16        3       6       0         JAX   \n25075  2018091609  2018-09-16        2      14      37          LA   \n\n      DefenseTeam  Down  ToGo  YardLine  ...  IsTwoPointConversion  \\\n0             ARI     2     7        73  ...                     0   \n1             ARI     3     7        73  ...                     0   \n2             ARI     1     9        91  ...                     0   \n3             ARI     1     3        97  ...                     0   \n4             ARI     0     0        85  ...                     0   \n...           ...   ...   ...       ...  ...                   ...   \n25064          NE     4     1        46  ...                     0   \n25070         MIA     0     0        35  ...                     0   \n25073          NE     1    10        52  ...                     0   \n25074          NE     2     4        36  ...                     0   \n25075         ARI     2     1        89  ...                     0   \n\n       IsTwoPointConversionSuccessful  RushDirection YardLineFixed  \\\n0                                   0         CENTER            27   \n1                                   0            NaN            27   \n2                                   0            NaN             9   \n3                                   0            NaN             3   \n4                                   0            NaN            15   \n...                               ...            ...           ...   \n25064                               0   RIGHT TACKLE            46   \n25070                               0            NaN            35   \n25073                               0            NaN            48   \n25074                               0            NaN            36   \n25075                               0      RIGHT END            11   \n\n      YardLineDirection  IsPenaltyAccepted  PenaltyTeam  IsNoPlay  \\\n0                   OPP                  0          NaN         0   \n1                   OPP                  0          NaN         0   \n2                   OPP                  0          NaN         0   \n3                   OPP                  0          NaN         0   \n4                   OPP                  0          NaN         0   \n...                 ...                ...          ...       ...   \n25064               OWN                  0          NaN         0   \n25070               OWN                  0          NaN         0   \n25073               OPP                  0          NaN         0   \n25074               OWN                  0          NaN         0   \n25075               OPP                  0          NaN         0   \n\n       PenaltyType PenaltyYards  \n0              NaN            0  \n1              NaN            0  \n2              NaN            0  \n3              NaN            0  \n4              NaN            0  \n...            ...          ...  \n25064          NaN            0  \n25070          NaN            0  \n25073          NaN            0  \n25074          NaN            0  \n25075          NaN            0  \n\n[24661 rows x 36 columns]",
      "text/html": "<div>\n<style scoped>\n    .dataframe tbody tr th:only-of-type {\n        vertical-align: middle;\n    }\n\n    .dataframe tbody tr th {\n        vertical-align: top;\n    }\n\n    .dataframe thead th {\n        text-align: right;\n    }\n</style>\n<table border=\"1\" class=\"dataframe\">\n  <thead>\n    <tr style=\"text-align: right;\">\n      <th></th>\n      <th>GameId</th>\n      <th>GameDate</th>\n      <th>Quarter</th>\n      <th>Minute</th>\n      <th>Second</th>\n      <th>OffenseTeam</th>\n      <th>DefenseTeam</th>\n      <th>Down</th>\n      <th>ToGo</th>\n      <th>YardLine</th>\n      <th>...</th>\n      <th>IsTwoPointConversion</th>\n      <th>IsTwoPointConversionSuccessful</th>\n      <th>RushDirection</th>\n      <th>YardLineFixed</th>\n      <th>YardLineDirection</th>\n      <th>IsPenaltyAccepted</th>\n      <th>PenaltyTeam</th>\n      <th>IsNoPlay</th>\n      <th>PenaltyType</th>\n      <th>PenaltyYards</th>\n    </tr>\n  </thead>\n  <tbody>\n    <tr>\n      <th>0</th>\n      <td>2022091110</td>\n      <td>2022-09-11</td>\n      <td>1</td>\n      <td>11</td>\n      <td>11</td>\n      <td>KC</td>\n      <td>ARI</td>\n      <td>2</td>\n      <td>7</td>\n      <td>73</td>\n      <td>...</td>\n      <td>0</td>\n      <td>0</td>\n      <td>CENTER</td>\n      <td>27</td>\n      <td>OPP</td>\n      <td>0</td>\n      <td>NaN</td>\n      <td>0</td>\n      <td>NaN</td>\n      <td>0</td>\n    </tr>\n    <tr>\n      <th>1</th>\n      <td>2022091110</td>\n      <td>2022-09-11</td>\n      <td>1</td>\n      <td>10</td>\n      <td>28</td>\n      <td>KC</td>\n      <td>ARI</td>\n      <td>3</td>\n      <td>7</td>\n      <td>73</td>\n      <td>...</td>\n      <td>0</td>\n      <td>0</td>\n      <td>NaN</td>\n      <td>27</td>\n      <td>OPP</td>\n      <td>0</td>\n      <td>NaN</td>\n      <td>0</td>\n      <td>NaN</td>\n      <td>0</td>\n    </tr>\n    <tr>\n      <th>2</th>\n      <td>2022091110</td>\n      <td>2022-09-11</td>\n      <td>1</td>\n      <td>9</td>\n      <td>47</td>\n      <td>KC</td>\n      <td>ARI</td>\n      <td>1</td>\n      <td>9</td>\n      <td>91</td>\n      <td>...</td>\n      <td>0</td>\n      <td>0</td>\n      <td>NaN</td>\n      <td>9</td>\n      <td>OPP</td>\n      <td>0</td>\n      <td>NaN</td>\n      <td>0</td>\n      <td>NaN</td>\n      <td>0</td>\n    </tr>\n    <tr>\n      <th>3</th>\n      <td>2022091110</td>\n      <td>2022-09-11</td>\n      <td>1</td>\n      <td>3</td>\n      <td>24</td>\n      <td>KC</td>\n      <td>ARI</td>\n      <td>1</td>\n      <td>3</td>\n      <td>97</td>\n      <td>...</td>\n      <td>0</td>\n      <td>0</td>\n      <td>NaN</td>\n      <td>3</td>\n      <td>OPP</td>\n      <td>0</td>\n      <td>NaN</td>\n      <td>0</td>\n      <td>NaN</td>\n      <td>0</td>\n    </tr>\n    <tr>\n      <th>4</th>\n      <td>2022091110</td>\n      <td>2022-09-11</td>\n      <td>1</td>\n      <td>3</td>\n      <td>20</td>\n      <td>KC</td>\n      <td>ARI</td>\n      <td>0</td>\n      <td>0</td>\n      <td>85</td>\n      <td>...</td>\n      <td>0</td>\n      <td>0</td>\n      <td>NaN</td>\n      <td>15</td>\n      <td>OPP</td>\n      <td>0</td>\n      <td>NaN</td>\n      <td>0</td>\n      <td>NaN</td>\n      <td>0</td>\n    </tr>\n    <tr>\n      <th>...</th>\n      <td>...</td>\n      <td>...</td>\n      <td>...</td>\n      <td>...</td>\n      <td>...</td>\n      <td>...</td>\n      <td>...</td>\n      <td>...</td>\n      <td>...</td>\n      <td>...</td>\n      <td>...</td>\n      <td>...</td>\n      <td>...</td>\n      <td>...</td>\n      <td>...</td>\n      <td>...</td>\n      <td>...</td>\n      <td>...</td>\n      <td>...</td>\n      <td>...</td>\n      <td>...</td>\n    </tr>\n    <tr>\n      <th>25064</th>\n      <td>2018101412</td>\n      <td>2018-10-14</td>\n      <td>3</td>\n      <td>6</td>\n      <td>14</td>\n      <td>KC</td>\n      <td>NE</td>\n      <td>4</td>\n      <td>1</td>\n      <td>46</td>\n      <td>...</td>\n      <td>0</td>\n      <td>0</td>\n      <td>RIGHT TACKLE</td>\n      <td>46</td>\n      <td>OWN</td>\n      <td>0</td>\n      <td>NaN</td>\n      <td>0</td>\n      <td>NaN</td>\n      <td>0</td>\n    </tr>\n    <tr>\n      <th>25070</th>\n      <td>2018093006</td>\n      <td>2018-09-30</td>\n      <td>1</td>\n      <td>5</td>\n      <td>28</td>\n      <td>NE</td>\n      <td>MIA</td>\n      <td>0</td>\n      <td>0</td>\n      <td>35</td>\n      <td>...</td>\n      <td>0</td>\n      <td>0</td>\n      <td>NaN</td>\n      <td>35</td>\n      <td>OWN</td>\n      <td>0</td>\n      <td>NaN</td>\n      <td>0</td>\n      <td>NaN</td>\n      <td>0</td>\n    </tr>\n    <tr>\n      <th>25073</th>\n      <td>2018092313</td>\n      <td>2018-09-23</td>\n      <td>1</td>\n      <td>9</td>\n      <td>18</td>\n      <td>DET</td>\n      <td>NE</td>\n      <td>1</td>\n      <td>10</td>\n      <td>52</td>\n      <td>...</td>\n      <td>0</td>\n      <td>0</td>\n      <td>NaN</td>\n      <td>48</td>\n      <td>OPP</td>\n      <td>0</td>\n      <td>NaN</td>\n      <td>0</td>\n      <td>NaN</td>\n      <td>0</td>\n    </tr>\n    <tr>\n      <th>25074</th>\n      <td>2018091612</td>\n      <td>2018-09-16</td>\n      <td>3</td>\n      <td>6</td>\n      <td>0</td>\n      <td>JAX</td>\n      <td>NE</td>\n      <td>2</td>\n      <td>4</td>\n      <td>36</td>\n      <td>...</td>\n      <td>0</td>\n      <td>0</td>\n      <td>NaN</td>\n      <td>36</td>\n      <td>OWN</td>\n      <td>0</td>\n      <td>NaN</td>\n      <td>0</td>\n      <td>NaN</td>\n      <td>0</td>\n    </tr>\n    <tr>\n      <th>25075</th>\n      <td>2018091609</td>\n      <td>2018-09-16</td>\n      <td>2</td>\n      <td>14</td>\n      <td>37</td>\n      <td>LA</td>\n      <td>ARI</td>\n      <td>2</td>\n      <td>1</td>\n      <td>89</td>\n      <td>...</td>\n      <td>0</td>\n      <td>0</td>\n      <td>RIGHT END</td>\n      <td>11</td>\n      <td>OPP</td>\n      <td>0</td>\n      <td>NaN</td>\n      <td>0</td>\n      <td>NaN</td>\n      <td>0</td>\n    </tr>\n  </tbody>\n</table>\n<p>24661 rows × 36 columns</p>\n</div>"
     },
     "execution_count": 36,
     "metadata": {},
     "output_type": "execute_result"
    }
   ],
   "source": [
    "df_train_final = df_train[df_train[['OffenseTeam', 'DefenseTeam']].notna().all(axis=1)]\n",
    "df_train_final"
   ],
   "metadata": {
    "collapsed": false,
    "ExecuteTime": {
     "end_time": "2024-02-10T20:11:10.040980300Z",
     "start_time": "2024-02-10T20:11:09.854650300Z"
    }
   },
   "id": "116a4e69a0777e14",
   "execution_count": 36
  },
  {
   "cell_type": "code",
   "outputs": [
    {
     "ename": "KeyError",
     "evalue": "\"['Winner'] not found in axis\"",
     "output_type": "error",
     "traceback": [
      "\u001B[1;31m---------------------------------------------------------------------------\u001B[0m",
      "\u001B[1;31mKeyError\u001B[0m                                  Traceback (most recent call last)",
      "Cell \u001B[1;32mIn[38], line 1\u001B[0m\n\u001B[1;32m----> 1\u001B[0m X_train \u001B[38;5;241m=\u001B[39m \u001B[43mdf_train_final\u001B[49m\u001B[38;5;241;43m.\u001B[39;49m\u001B[43mdrop\u001B[49m\u001B[43m(\u001B[49m\u001B[38;5;124;43m'\u001B[39;49m\u001B[38;5;124;43mWinner\u001B[39;49m\u001B[38;5;124;43m'\u001B[39;49m\u001B[43m,\u001B[49m\u001B[43m \u001B[49m\u001B[43maxis\u001B[49m\u001B[43m \u001B[49m\u001B[38;5;241;43m=\u001B[39;49m\u001B[43m \u001B[49m\u001B[38;5;241;43m1\u001B[39;49m\u001B[43m)\u001B[49m\n\u001B[0;32m      2\u001B[0m y_train \u001B[38;5;241m=\u001B[39m df_train_final[\u001B[38;5;124m'\u001B[39m\u001B[38;5;124mWinner\u001B[39m\u001B[38;5;124m'\u001B[39m]\n\u001B[0;32m      3\u001B[0m X_test \u001B[38;5;241m=\u001B[39m df1\u001B[38;5;241m.\u001B[39mdrop(\u001B[38;5;124m'\u001B[39m\u001B[38;5;124mWinner\u001B[39m\u001B[38;5;124m'\u001B[39m, axis \u001B[38;5;241m=\u001B[39m \u001B[38;5;241m1\u001B[39m)\n",
      "File \u001B[1;32m~\\AppData\\Local\\Programs\\Python\\Python311\\Lib\\site-packages\\pandas\\core\\frame.py:5344\u001B[0m, in \u001B[0;36mDataFrame.drop\u001B[1;34m(self, labels, axis, index, columns, level, inplace, errors)\u001B[0m\n\u001B[0;32m   5196\u001B[0m \u001B[38;5;28;01mdef\u001B[39;00m \u001B[38;5;21mdrop\u001B[39m(\n\u001B[0;32m   5197\u001B[0m     \u001B[38;5;28mself\u001B[39m,\n\u001B[0;32m   5198\u001B[0m     labels: IndexLabel \u001B[38;5;241m|\u001B[39m \u001B[38;5;28;01mNone\u001B[39;00m \u001B[38;5;241m=\u001B[39m \u001B[38;5;28;01mNone\u001B[39;00m,\n\u001B[1;32m   (...)\u001B[0m\n\u001B[0;32m   5205\u001B[0m     errors: IgnoreRaise \u001B[38;5;241m=\u001B[39m \u001B[38;5;124m\"\u001B[39m\u001B[38;5;124mraise\u001B[39m\u001B[38;5;124m\"\u001B[39m,\n\u001B[0;32m   5206\u001B[0m ) \u001B[38;5;241m-\u001B[39m\u001B[38;5;241m>\u001B[39m DataFrame \u001B[38;5;241m|\u001B[39m \u001B[38;5;28;01mNone\u001B[39;00m:\n\u001B[0;32m   5207\u001B[0m \u001B[38;5;250m    \u001B[39m\u001B[38;5;124;03m\"\"\"\u001B[39;00m\n\u001B[0;32m   5208\u001B[0m \u001B[38;5;124;03m    Drop specified labels from rows or columns.\u001B[39;00m\n\u001B[0;32m   5209\u001B[0m \n\u001B[1;32m   (...)\u001B[0m\n\u001B[0;32m   5342\u001B[0m \u001B[38;5;124;03m            weight  1.0     0.8\u001B[39;00m\n\u001B[0;32m   5343\u001B[0m \u001B[38;5;124;03m    \"\"\"\u001B[39;00m\n\u001B[1;32m-> 5344\u001B[0m     \u001B[38;5;28;01mreturn\u001B[39;00m \u001B[38;5;28;43msuper\u001B[39;49m\u001B[43m(\u001B[49m\u001B[43m)\u001B[49m\u001B[38;5;241;43m.\u001B[39;49m\u001B[43mdrop\u001B[49m\u001B[43m(\u001B[49m\n\u001B[0;32m   5345\u001B[0m \u001B[43m        \u001B[49m\u001B[43mlabels\u001B[49m\u001B[38;5;241;43m=\u001B[39;49m\u001B[43mlabels\u001B[49m\u001B[43m,\u001B[49m\n\u001B[0;32m   5346\u001B[0m \u001B[43m        \u001B[49m\u001B[43maxis\u001B[49m\u001B[38;5;241;43m=\u001B[39;49m\u001B[43maxis\u001B[49m\u001B[43m,\u001B[49m\n\u001B[0;32m   5347\u001B[0m \u001B[43m        \u001B[49m\u001B[43mindex\u001B[49m\u001B[38;5;241;43m=\u001B[39;49m\u001B[43mindex\u001B[49m\u001B[43m,\u001B[49m\n\u001B[0;32m   5348\u001B[0m \u001B[43m        \u001B[49m\u001B[43mcolumns\u001B[49m\u001B[38;5;241;43m=\u001B[39;49m\u001B[43mcolumns\u001B[49m\u001B[43m,\u001B[49m\n\u001B[0;32m   5349\u001B[0m \u001B[43m        \u001B[49m\u001B[43mlevel\u001B[49m\u001B[38;5;241;43m=\u001B[39;49m\u001B[43mlevel\u001B[49m\u001B[43m,\u001B[49m\n\u001B[0;32m   5350\u001B[0m \u001B[43m        \u001B[49m\u001B[43minplace\u001B[49m\u001B[38;5;241;43m=\u001B[39;49m\u001B[43minplace\u001B[49m\u001B[43m,\u001B[49m\n\u001B[0;32m   5351\u001B[0m \u001B[43m        \u001B[49m\u001B[43merrors\u001B[49m\u001B[38;5;241;43m=\u001B[39;49m\u001B[43merrors\u001B[49m\u001B[43m,\u001B[49m\n\u001B[0;32m   5352\u001B[0m \u001B[43m    \u001B[49m\u001B[43m)\u001B[49m\n",
      "File \u001B[1;32m~\\AppData\\Local\\Programs\\Python\\Python311\\Lib\\site-packages\\pandas\\core\\generic.py:4711\u001B[0m, in \u001B[0;36mNDFrame.drop\u001B[1;34m(self, labels, axis, index, columns, level, inplace, errors)\u001B[0m\n\u001B[0;32m   4709\u001B[0m \u001B[38;5;28;01mfor\u001B[39;00m axis, labels \u001B[38;5;129;01min\u001B[39;00m axes\u001B[38;5;241m.\u001B[39mitems():\n\u001B[0;32m   4710\u001B[0m     \u001B[38;5;28;01mif\u001B[39;00m labels \u001B[38;5;129;01mis\u001B[39;00m \u001B[38;5;129;01mnot\u001B[39;00m \u001B[38;5;28;01mNone\u001B[39;00m:\n\u001B[1;32m-> 4711\u001B[0m         obj \u001B[38;5;241m=\u001B[39m \u001B[43mobj\u001B[49m\u001B[38;5;241;43m.\u001B[39;49m\u001B[43m_drop_axis\u001B[49m\u001B[43m(\u001B[49m\u001B[43mlabels\u001B[49m\u001B[43m,\u001B[49m\u001B[43m \u001B[49m\u001B[43maxis\u001B[49m\u001B[43m,\u001B[49m\u001B[43m \u001B[49m\u001B[43mlevel\u001B[49m\u001B[38;5;241;43m=\u001B[39;49m\u001B[43mlevel\u001B[49m\u001B[43m,\u001B[49m\u001B[43m \u001B[49m\u001B[43merrors\u001B[49m\u001B[38;5;241;43m=\u001B[39;49m\u001B[43merrors\u001B[49m\u001B[43m)\u001B[49m\n\u001B[0;32m   4713\u001B[0m \u001B[38;5;28;01mif\u001B[39;00m inplace:\n\u001B[0;32m   4714\u001B[0m     \u001B[38;5;28mself\u001B[39m\u001B[38;5;241m.\u001B[39m_update_inplace(obj)\n",
      "File \u001B[1;32m~\\AppData\\Local\\Programs\\Python\\Python311\\Lib\\site-packages\\pandas\\core\\generic.py:4753\u001B[0m, in \u001B[0;36mNDFrame._drop_axis\u001B[1;34m(self, labels, axis, level, errors, only_slice)\u001B[0m\n\u001B[0;32m   4751\u001B[0m         new_axis \u001B[38;5;241m=\u001B[39m axis\u001B[38;5;241m.\u001B[39mdrop(labels, level\u001B[38;5;241m=\u001B[39mlevel, errors\u001B[38;5;241m=\u001B[39merrors)\n\u001B[0;32m   4752\u001B[0m     \u001B[38;5;28;01melse\u001B[39;00m:\n\u001B[1;32m-> 4753\u001B[0m         new_axis \u001B[38;5;241m=\u001B[39m \u001B[43maxis\u001B[49m\u001B[38;5;241;43m.\u001B[39;49m\u001B[43mdrop\u001B[49m\u001B[43m(\u001B[49m\u001B[43mlabels\u001B[49m\u001B[43m,\u001B[49m\u001B[43m \u001B[49m\u001B[43merrors\u001B[49m\u001B[38;5;241;43m=\u001B[39;49m\u001B[43merrors\u001B[49m\u001B[43m)\u001B[49m\n\u001B[0;32m   4754\u001B[0m     indexer \u001B[38;5;241m=\u001B[39m axis\u001B[38;5;241m.\u001B[39mget_indexer(new_axis)\n\u001B[0;32m   4756\u001B[0m \u001B[38;5;66;03m# Case for non-unique axis\u001B[39;00m\n\u001B[0;32m   4757\u001B[0m \u001B[38;5;28;01melse\u001B[39;00m:\n",
      "File \u001B[1;32m~\\AppData\\Local\\Programs\\Python\\Python311\\Lib\\site-packages\\pandas\\core\\indexes\\base.py:7000\u001B[0m, in \u001B[0;36mIndex.drop\u001B[1;34m(self, labels, errors)\u001B[0m\n\u001B[0;32m   6998\u001B[0m \u001B[38;5;28;01mif\u001B[39;00m mask\u001B[38;5;241m.\u001B[39many():\n\u001B[0;32m   6999\u001B[0m     \u001B[38;5;28;01mif\u001B[39;00m errors \u001B[38;5;241m!=\u001B[39m \u001B[38;5;124m\"\u001B[39m\u001B[38;5;124mignore\u001B[39m\u001B[38;5;124m\"\u001B[39m:\n\u001B[1;32m-> 7000\u001B[0m         \u001B[38;5;28;01mraise\u001B[39;00m \u001B[38;5;167;01mKeyError\u001B[39;00m(\u001B[38;5;124mf\u001B[39m\u001B[38;5;124m\"\u001B[39m\u001B[38;5;132;01m{\u001B[39;00mlabels[mask]\u001B[38;5;241m.\u001B[39mtolist()\u001B[38;5;132;01m}\u001B[39;00m\u001B[38;5;124m not found in axis\u001B[39m\u001B[38;5;124m\"\u001B[39m)\n\u001B[0;32m   7001\u001B[0m     indexer \u001B[38;5;241m=\u001B[39m indexer[\u001B[38;5;241m~\u001B[39mmask]\n\u001B[0;32m   7002\u001B[0m \u001B[38;5;28;01mreturn\u001B[39;00m \u001B[38;5;28mself\u001B[39m\u001B[38;5;241m.\u001B[39mdelete(indexer)\n",
      "\u001B[1;31mKeyError\u001B[0m: \"['Winner'] not found in axis\""
     ]
    }
   ],
   "source": [
    "X_train = df_train_final.drop('Winner', axis = 1)\n",
    "y_train = df_train_final['Winner']\n",
    "X_test = df1.drop('Winner', axis = 1)\n",
    "y_test = df1['Winner']"
   ],
   "metadata": {
    "collapsed": false,
    "ExecuteTime": {
     "end_time": "2024-02-10T20:15:31.094689Z",
     "start_time": "2024-02-10T20:15:31.007475700Z"
    }
   },
   "id": "973ad8317f2b9704",
   "execution_count": 38
  },
  {
   "cell_type": "code",
   "outputs": [
    {
     "ename": "ModuleNotFoundError",
     "evalue": "No module named 'sklearn'",
     "output_type": "error",
     "traceback": [
      "\u001B[1;31m---------------------------------------------------------------------------\u001B[0m",
      "\u001B[1;31mModuleNotFoundError\u001B[0m                       Traceback (most recent call last)",
      "Cell \u001B[1;32mIn[39], line 1\u001B[0m\n\u001B[1;32m----> 1\u001B[0m \u001B[38;5;28;01mfrom\u001B[39;00m \u001B[38;5;21;01msklearn\u001B[39;00m\u001B[38;5;21;01m.\u001B[39;00m\u001B[38;5;21;01mpreprocessing\u001B[39;00m \u001B[38;5;28;01mimport\u001B[39;00m StandardScaler\n\u001B[0;32m      2\u001B[0m \u001B[38;5;28;01mfrom\u001B[39;00m \u001B[38;5;21;01msklearn\u001B[39;00m\u001B[38;5;21;01m.\u001B[39;00m\u001B[38;5;21;01mmodel_selection\u001B[39;00m \u001B[38;5;28;01mimport\u001B[39;00m train_test_split\n",
      "\u001B[1;31mModuleNotFoundError\u001B[0m: No module named 'sklearn'"
     ]
    }
   ],
   "source": [
    "from sklearn.preprocessing import StandardScaler\n",
    "from sklearn.model_selection import train_test_split\n",
    "from sklearn.decomposition import PCA"
   ],
   "metadata": {
    "collapsed": false,
    "ExecuteTime": {
     "end_time": "2024-02-10T20:15:33.959429800Z",
     "start_time": "2024-02-10T20:15:33.932908900Z"
    }
   },
   "id": "de3f32ceb3cfa223",
   "execution_count": 39
  },
  {
   "cell_type": "code",
   "outputs": [],
   "source": [
    "ss = StandardScaler()\n",
    "X_train_scaled = ss.fit_transform(X_train)\n",
    "X_test_scaled = ss.transform(X_test)"
   ],
   "metadata": {
    "collapsed": false
   },
   "id": "a397b89eb2be5fcc"
  },
  {
   "cell_type": "code",
   "outputs": [],
   "source": [
    "pca = PCA().fit(X_train_scaled)\n",
    "\n",
    "plt.plot(pca.explained_variance_ratio_.cumsum(), lw=3, color='#087E8B')\n",
    "plt.title('Cumulative explained variance by number of principal components', size=20)\n",
    "plt.show()"
   ],
   "metadata": {
    "collapsed": false
   },
   "id": "a01cf862203160ca"
  },
  {
   "cell_type": "code",
   "outputs": [],
   "source": [
    "loadings = pd.DataFrame(\n",
    "    data=pca.components_.T * np.sqrt(pca.explained_variance_),\n",
    "    columns=[f'PC{i}' for i in range(1, len(X_train.columns) + 1)],\n",
    "    index=X_train.columns\n",
    ")\n",
    "loadings.head()"
   ],
   "metadata": {
    "collapsed": false
   },
   "id": "dd8dcd1664be5ac4"
  },
  {
   "cell_type": "code",
   "outputs": [],
   "source": [
    "pc1_loadings = loadings.sort_values(by='PC1', ascending=False)[['PC1']]\n",
    "pc1_loadings = pc1_loadings.reset_index()\n",
    "pc1_loadings.columns = ['Attribute', 'CorrelationWithPC1']\n",
    "\n",
    "plt.bar(x=pc1_loadings['Attribute'], height=pc1_loadings['CorrelationWithPC1'], color='#087E8B')\n",
    "plt.title('PCA loading scores (first principal component)', size=20)\n",
    "plt.xticks(rotation='vertical')\n",
    "plt.show()"
   ],
   "metadata": {
    "collapsed": false
   },
   "id": "d910ed82eb38c28"
  }
 ],
 "metadata": {
  "kernelspec": {
   "display_name": "Python 3",
   "language": "python",
   "name": "python3"
  },
  "language_info": {
   "codemirror_mode": {
    "name": "ipython",
    "version": 2
   },
   "file_extension": ".py",
   "mimetype": "text/x-python",
   "name": "python",
   "nbconvert_exporter": "python",
   "pygments_lexer": "ipython2",
   "version": "2.7.6"
  }
 },
 "nbformat": 4,
 "nbformat_minor": 5
}
