{
 "cells": [
  {
   "cell_type": "code",
   "execution_count": 21,
   "id": "initial_id",
   "metadata": {
    "collapsed": true,
    "ExecuteTime": {
     "end_time": "2024-02-10T17:37:30.600115700Z",
     "start_time": "2024-02-10T17:37:30.583052600Z"
    }
   },
   "outputs": [],
   "source": [
    "import pandas as pd\n",
    "import numpy as np\n",
    "import matplotlib.pyplot as plt"
   ]
  },
  {
   "cell_type": "code",
   "outputs": [],
   "source": [
    "df_test = pd.read_csv('../datasets/pbp-2023.csv')\n",
    "df2 = pd.read_csv('../datasets/pbp-2022.csv')\n",
    "df3 = pd.read_csv('../datasets/pbp-2021.csv')\n",
    "df4 = pd.read_csv('../datasets/pbp-2020.csv')\n",
    "df5 = pd.read_csv('../datasets/pbp-2019.csv')\n",
    "df6 = pd.read_csv('../datasets/pbp-2018.csv')"
   ],
   "metadata": {
    "collapsed": false,
    "ExecuteTime": {
     "end_time": "2024-02-10T17:37:31.811714400Z",
     "start_time": "2024-02-10T17:37:30.589143900Z"
    }
   },
   "id": "aea4896ffa921ad3",
   "execution_count": 22
  },
  {
   "cell_type": "code",
   "outputs": [],
   "source": [
    "df_train = pd.concat([df2,df3, df4, df5, df6], ignore_index=True)\n",
    "df_train = df_train.drop(['Unnamed: 10','Unnamed: 12','Unnamed: 16','Unnamed: 17'], axis = 1)"
   ],
   "metadata": {
    "collapsed": false,
    "ExecuteTime": {
     "end_time": "2024-02-10T17:42:12.366657400Z",
     "start_time": "2024-02-10T17:42:12.273772600Z"
    }
   },
   "id": "ff1a51d320398d61",
   "execution_count": 36
  },
  {
   "cell_type": "code",
   "outputs": [],
   "source": [
    "df_train_filter = df_train[(df_train['OffenseTeam']  == 'KC') | (df_train['DefenseTeam']  == 'KC') | (df_train['OffenseTeam']  == 'SF') | (df_train['DefenseTeam']  == 'SF')]"
   ],
   "metadata": {
    "collapsed": false,
    "ExecuteTime": {
     "end_time": "2024-02-10T17:42:15.995258300Z",
     "start_time": "2024-02-10T17:42:15.933859600Z"
    }
   },
   "id": "4c07e0dfc679e2aa",
   "execution_count": 37
  },
  {
   "cell_type": "code",
   "outputs": [
    {
     "data": {
      "text/plain": "            GameId    GameDate  Quarter  Minute  Second OffenseTeam  \\\n46      2022091110  2022-09-11        1      11      11          KC   \n47      2022091110  2022-09-11        1      10      28          KC   \n48      2022091110  2022-09-11        1       9      47          KC   \n49      2022091110  2022-09-11        1       3      24          KC   \n50      2022091110  2022-09-11        1       3      20          KC   \n...            ...         ...      ...     ...     ...         ...   \n214760  2018090908  2018-09-09        4       1      57         NaN   \n214761  2018090908  2018-09-09        2       7       8          KC   \n214762  2018090908  2018-09-09        1       0      25         NaN   \n214766  2018090904  2018-09-09        2       0       6         NaN   \n214770  2018090904  2018-09-09        1       0       0         NaN   \n\n       DefenseTeam  Down  ToGo  YardLine  ...  IsTwoPointConversion  \\\n46             ARI     2     7        73  ...                     0   \n47             ARI     3     7        73  ...                     0   \n48             ARI     1     9        91  ...                     0   \n49             ARI     1     3        97  ...                     0   \n50             ARI     0     0        85  ...                     0   \n...            ...   ...   ...       ...  ...                   ...   \n214760          KC     0     0         0  ...                     0   \n214761         LAC     2     7        28  ...                     0   \n214762          KC     0     0         0  ...                     0   \n214766          SF     0     0         0  ...                     0   \n214770          SF     0     0         0  ...                     0   \n\n        IsTwoPointConversionSuccessful RushDirection  YardLineFixed  \\\n46                                   0        CENTER             27   \n47                                   0           NaN             27   \n48                                   0           NaN              9   \n49                                   0           NaN              3   \n50                                   0           NaN             15   \n...                                ...           ...            ...   \n214760                               0           NaN              0   \n214761                               0     RIGHT END             28   \n214762                               0           NaN              0   \n214766                               0           NaN              0   \n214770                               0           NaN              0   \n\n        YardLineDirection  IsPenaltyAccepted PenaltyTeam IsNoPlay  \\\n46                    OPP                  0         NaN        0   \n47                    OPP                  0         NaN        0   \n48                    OPP                  0         NaN        0   \n49                    OPP                  0         NaN        0   \n50                    OPP                  0         NaN        0   \n...                   ...                ...         ...      ...   \n214760                OWN                  0         NaN        0   \n214761                OWN                  0         NaN        0   \n214762                OWN                  0         NaN        0   \n214766                OWN                  0         NaN        0   \n214770                OWN                  0         NaN        0   \n\n        PenaltyType  PenaltyYards  \n46              NaN             0  \n47              NaN             0  \n48              NaN             0  \n49              NaN             0  \n50              NaN             0  \n...             ...           ...  \n214760          NaN             0  \n214761          NaN             0  \n214762          NaN             0  \n214766          NaN             0  \n214770          NaN             0  \n\n[24821 rows x 41 columns]",
      "text/html": "<div>\n<style scoped>\n    .dataframe tbody tr th:only-of-type {\n        vertical-align: middle;\n    }\n\n    .dataframe tbody tr th {\n        vertical-align: top;\n    }\n\n    .dataframe thead th {\n        text-align: right;\n    }\n</style>\n<table border=\"1\" class=\"dataframe\">\n  <thead>\n    <tr style=\"text-align: right;\">\n      <th></th>\n      <th>GameId</th>\n      <th>GameDate</th>\n      <th>Quarter</th>\n      <th>Minute</th>\n      <th>Second</th>\n      <th>OffenseTeam</th>\n      <th>DefenseTeam</th>\n      <th>Down</th>\n      <th>ToGo</th>\n      <th>YardLine</th>\n      <th>...</th>\n      <th>IsTwoPointConversion</th>\n      <th>IsTwoPointConversionSuccessful</th>\n      <th>RushDirection</th>\n      <th>YardLineFixed</th>\n      <th>YardLineDirection</th>\n      <th>IsPenaltyAccepted</th>\n      <th>PenaltyTeam</th>\n      <th>IsNoPlay</th>\n      <th>PenaltyType</th>\n      <th>PenaltyYards</th>\n    </tr>\n  </thead>\n  <tbody>\n    <tr>\n      <th>46</th>\n      <td>2022091110</td>\n      <td>2022-09-11</td>\n      <td>1</td>\n      <td>11</td>\n      <td>11</td>\n      <td>KC</td>\n      <td>ARI</td>\n      <td>2</td>\n      <td>7</td>\n      <td>73</td>\n      <td>...</td>\n      <td>0</td>\n      <td>0</td>\n      <td>CENTER</td>\n      <td>27</td>\n      <td>OPP</td>\n      <td>0</td>\n      <td>NaN</td>\n      <td>0</td>\n      <td>NaN</td>\n      <td>0</td>\n    </tr>\n    <tr>\n      <th>47</th>\n      <td>2022091110</td>\n      <td>2022-09-11</td>\n      <td>1</td>\n      <td>10</td>\n      <td>28</td>\n      <td>KC</td>\n      <td>ARI</td>\n      <td>3</td>\n      <td>7</td>\n      <td>73</td>\n      <td>...</td>\n      <td>0</td>\n      <td>0</td>\n      <td>NaN</td>\n      <td>27</td>\n      <td>OPP</td>\n      <td>0</td>\n      <td>NaN</td>\n      <td>0</td>\n      <td>NaN</td>\n      <td>0</td>\n    </tr>\n    <tr>\n      <th>48</th>\n      <td>2022091110</td>\n      <td>2022-09-11</td>\n      <td>1</td>\n      <td>9</td>\n      <td>47</td>\n      <td>KC</td>\n      <td>ARI</td>\n      <td>1</td>\n      <td>9</td>\n      <td>91</td>\n      <td>...</td>\n      <td>0</td>\n      <td>0</td>\n      <td>NaN</td>\n      <td>9</td>\n      <td>OPP</td>\n      <td>0</td>\n      <td>NaN</td>\n      <td>0</td>\n      <td>NaN</td>\n      <td>0</td>\n    </tr>\n    <tr>\n      <th>49</th>\n      <td>2022091110</td>\n      <td>2022-09-11</td>\n      <td>1</td>\n      <td>3</td>\n      <td>24</td>\n      <td>KC</td>\n      <td>ARI</td>\n      <td>1</td>\n      <td>3</td>\n      <td>97</td>\n      <td>...</td>\n      <td>0</td>\n      <td>0</td>\n      <td>NaN</td>\n      <td>3</td>\n      <td>OPP</td>\n      <td>0</td>\n      <td>NaN</td>\n      <td>0</td>\n      <td>NaN</td>\n      <td>0</td>\n    </tr>\n    <tr>\n      <th>50</th>\n      <td>2022091110</td>\n      <td>2022-09-11</td>\n      <td>1</td>\n      <td>3</td>\n      <td>20</td>\n      <td>KC</td>\n      <td>ARI</td>\n      <td>0</td>\n      <td>0</td>\n      <td>85</td>\n      <td>...</td>\n      <td>0</td>\n      <td>0</td>\n      <td>NaN</td>\n      <td>15</td>\n      <td>OPP</td>\n      <td>0</td>\n      <td>NaN</td>\n      <td>0</td>\n      <td>NaN</td>\n      <td>0</td>\n    </tr>\n    <tr>\n      <th>...</th>\n      <td>...</td>\n      <td>...</td>\n      <td>...</td>\n      <td>...</td>\n      <td>...</td>\n      <td>...</td>\n      <td>...</td>\n      <td>...</td>\n      <td>...</td>\n      <td>...</td>\n      <td>...</td>\n      <td>...</td>\n      <td>...</td>\n      <td>...</td>\n      <td>...</td>\n      <td>...</td>\n      <td>...</td>\n      <td>...</td>\n      <td>...</td>\n      <td>...</td>\n      <td>...</td>\n    </tr>\n    <tr>\n      <th>214760</th>\n      <td>2018090908</td>\n      <td>2018-09-09</td>\n      <td>4</td>\n      <td>1</td>\n      <td>57</td>\n      <td>NaN</td>\n      <td>KC</td>\n      <td>0</td>\n      <td>0</td>\n      <td>0</td>\n      <td>...</td>\n      <td>0</td>\n      <td>0</td>\n      <td>NaN</td>\n      <td>0</td>\n      <td>OWN</td>\n      <td>0</td>\n      <td>NaN</td>\n      <td>0</td>\n      <td>NaN</td>\n      <td>0</td>\n    </tr>\n    <tr>\n      <th>214761</th>\n      <td>2018090908</td>\n      <td>2018-09-09</td>\n      <td>2</td>\n      <td>7</td>\n      <td>8</td>\n      <td>KC</td>\n      <td>LAC</td>\n      <td>2</td>\n      <td>7</td>\n      <td>28</td>\n      <td>...</td>\n      <td>0</td>\n      <td>0</td>\n      <td>RIGHT END</td>\n      <td>28</td>\n      <td>OWN</td>\n      <td>0</td>\n      <td>NaN</td>\n      <td>0</td>\n      <td>NaN</td>\n      <td>0</td>\n    </tr>\n    <tr>\n      <th>214762</th>\n      <td>2018090908</td>\n      <td>2018-09-09</td>\n      <td>1</td>\n      <td>0</td>\n      <td>25</td>\n      <td>NaN</td>\n      <td>KC</td>\n      <td>0</td>\n      <td>0</td>\n      <td>0</td>\n      <td>...</td>\n      <td>0</td>\n      <td>0</td>\n      <td>NaN</td>\n      <td>0</td>\n      <td>OWN</td>\n      <td>0</td>\n      <td>NaN</td>\n      <td>0</td>\n      <td>NaN</td>\n      <td>0</td>\n    </tr>\n    <tr>\n      <th>214766</th>\n      <td>2018090904</td>\n      <td>2018-09-09</td>\n      <td>2</td>\n      <td>0</td>\n      <td>6</td>\n      <td>NaN</td>\n      <td>SF</td>\n      <td>0</td>\n      <td>0</td>\n      <td>0</td>\n      <td>...</td>\n      <td>0</td>\n      <td>0</td>\n      <td>NaN</td>\n      <td>0</td>\n      <td>OWN</td>\n      <td>0</td>\n      <td>NaN</td>\n      <td>0</td>\n      <td>NaN</td>\n      <td>0</td>\n    </tr>\n    <tr>\n      <th>214770</th>\n      <td>2018090904</td>\n      <td>2018-09-09</td>\n      <td>1</td>\n      <td>0</td>\n      <td>0</td>\n      <td>NaN</td>\n      <td>SF</td>\n      <td>0</td>\n      <td>0</td>\n      <td>0</td>\n      <td>...</td>\n      <td>0</td>\n      <td>0</td>\n      <td>NaN</td>\n      <td>0</td>\n      <td>OWN</td>\n      <td>0</td>\n      <td>NaN</td>\n      <td>0</td>\n      <td>NaN</td>\n      <td>0</td>\n    </tr>\n  </tbody>\n</table>\n<p>24821 rows × 41 columns</p>\n</div>"
     },
     "execution_count": 41,
     "metadata": {},
     "output_type": "execute_result"
    }
   ],
   "source": [
    "df_train_final = df_train_filter[df_train_filter.notna().any(axis=1)]\n",
    "df_train_final"
   ],
   "metadata": {
    "collapsed": false,
    "ExecuteTime": {
     "end_time": "2024-02-10T18:59:54.879112200Z",
     "start_time": "2024-02-10T18:59:54.805526900Z"
    }
   },
   "id": "116a4e69a0777e14",
   "execution_count": 41
  },
  {
   "cell_type": "code",
   "outputs": [
    {
     "data": {
      "text/plain": "array([0], dtype=int64)"
     },
     "execution_count": 40,
     "metadata": {},
     "output_type": "execute_result"
    }
   ],
   "source": [],
   "metadata": {
    "collapsed": false,
    "ExecuteTime": {
     "end_time": "2024-02-10T17:43:45.497912700Z",
     "start_time": "2024-02-10T17:43:45.485546400Z"
    }
   },
   "id": "2c4b1a0ef818d31",
   "execution_count": 40
  }
 ],
 "metadata": {
  "kernelspec": {
   "display_name": "Python 3",
   "language": "python",
   "name": "python3"
  },
  "language_info": {
   "codemirror_mode": {
    "name": "ipython",
    "version": 2
   },
   "file_extension": ".py",
   "mimetype": "text/x-python",
   "name": "python",
   "nbconvert_exporter": "python",
   "pygments_lexer": "ipython2",
   "version": "2.7.6"
  }
 },
 "nbformat": 4,
 "nbformat_minor": 5
}
