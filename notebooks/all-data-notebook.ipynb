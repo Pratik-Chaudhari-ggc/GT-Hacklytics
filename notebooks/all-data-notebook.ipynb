{
 "cells": [
  {
   "cell_type": "code",
   "execution_count": 49,
   "id": "initial_id",
   "metadata": {
    "collapsed": true,
    "ExecuteTime": {
     "end_time": "2024-02-10T19:24:41.170287200Z",
     "start_time": "2024-02-10T19:24:41.078176600Z"
    }
   },
   "outputs": [],
   "source": [
    "import pandas as pd\n",
    "import numpy as np\n",
    "import matplotlib.pyplot as plt"
   ]
  },
  {
   "cell_type": "code",
   "outputs": [],
   "source": [
    "df1 = pd.read_csv('../datasets/pbp-2023.csv')\n",
    "df2 = pd.read_csv('../datasets/pbp-2022.csv')\n",
    "df3 = pd.read_csv('../datasets/pbp-2021.csv')\n",
    "df4 = pd.read_csv('../datasets/pbp-2020.csv')\n",
    "df5 = pd.read_csv('../datasets/pbp-2019.csv')\n",
    "df6 = pd.read_csv('../datasets/pbp-2018.csv')"
   ],
   "metadata": {
    "collapsed": false,
    "ExecuteTime": {
     "end_time": "2024-02-10T19:45:17.733583300Z",
     "start_time": "2024-02-10T19:45:16.178977200Z"
    }
   },
   "id": "aea4896ffa921ad3",
   "execution_count": 65
  },
  {
   "cell_type": "code",
   "outputs": [],
   "source": [],
   "metadata": {
    "collapsed": false,
    "ExecuteTime": {
     "end_time": "2024-02-10T19:45:30.468346100Z",
     "start_time": "2024-02-10T19:45:30.451969Z"
    }
   },
   "id": "6853157866ec61f4",
   "execution_count": 66
  },
  {
   "cell_type": "code",
   "outputs": [],
   "source": [
    "df1 = df1[(df1['OffenseTeam']  == 'KC') | (df1['DefenseTeam']  == 'KC') | (df1['OffenseTeam']  == 'SF') | (df1['DefenseTeam']  == 'SF')]\n",
    "df2 = df2[(df2['OffenseTeam']  == 'PHI') | (df2['DefenseTeam']  == 'PHI') | (df2['OffenseTeam']  == 'KC') | (df2['DefenseTeam']  == 'KC')]\n",
    "df3 = df3[(df3['OffenseTeam']  == 'LA') | (df3['DefenseTeam']  == 'LA') | (df3['OffenseTeam']  == 'CIN') | (df3['DefenseTeam']  == 'CIN')]\n",
    "df4 = df4[(df4['OffenseTeam']  == 'KC') | (df4['DefenseTeam']  == 'KC') | (df4['OffenseTeam']  == 'TB') | (df4['DefenseTeam']  == 'TB')]\n",
    "df5 = df5[(df5['OffenseTeam']  == 'KC') | (df5['DefenseTeam']  == 'KC') | (df5['OffenseTeam']  == 'SF') | (df5['DefenseTeam']  == 'SF')]\n",
    "df6 = df6[(df6['OffenseTeam']  == 'NE') | (df6['DefenseTeam']  == 'NE') | (df6['OffenseTeam']  == 'LA') | (df6['DefenseTeam']  == 'LA')]"
   ],
   "metadata": {
    "collapsed": false,
    "ExecuteTime": {
     "end_time": "2024-02-10T19:24:43.167827100Z",
     "start_time": "2024-02-10T19:24:42.962878400Z"
    }
   },
   "id": "940a6fe1eb763440",
   "execution_count": 52
  },
  {
   "cell_type": "code",
   "outputs": [],
   "source": [
    "df_train = pd.concat([df2,df3, df4, df5, df6], ignore_index=True)\n",
    "df_train = df_train.drop(['Unnamed: 10','Unnamed: 12','Unnamed: 16','Unnamed: 17', 'Description','NextScore','TeamWin','Challenger','IsMeasurement',], axis = 1)"
   ],
   "metadata": {
    "collapsed": false,
    "ExecuteTime": {
     "end_time": "2024-02-10T19:26:09.974254500Z",
     "start_time": "2024-02-10T19:26:09.926044700Z"
    }
   },
   "id": "ff1a51d320398d61",
   "execution_count": 55
  },
  {
   "cell_type": "code",
   "outputs": [
    {
     "data": {
      "text/plain": "           GameId    GameDate  Quarter  Minute  Second OffenseTeam  \\\n0      2022091110  2022-09-11        1      11      11          KC   \n1      2022091110  2022-09-11        1      10      28          KC   \n2      2022091110  2022-09-11        1       9      47          KC   \n3      2022091110  2022-09-11        1       3      24          KC   \n4      2022091110  2022-09-11        1       3      20          KC   \n...           ...         ...      ...     ...     ...         ...   \n25074  2018091612  2018-09-16        3       6       0         JAX   \n25075  2018091609  2018-09-16        2      14      37          LA   \n25076  2018091001  2018-09-10        2       0       0         NaN   \n25077  2018091001  2018-09-10        2       2       0         NaN   \n25078  2018091001  2018-09-10        2       3      15         NaN   \n\n      DefenseTeam  Down  ToGo  YardLine  ...  IsTwoPointConversion  \\\n0             ARI     2     7        73  ...                     0   \n1             ARI     3     7        73  ...                     0   \n2             ARI     1     9        91  ...                     0   \n3             ARI     1     3        97  ...                     0   \n4             ARI     0     0        85  ...                     0   \n...           ...   ...   ...       ...  ...                   ...   \n25074          NE     2     4        36  ...                     0   \n25075         ARI     2     1        89  ...                     0   \n25076          LA     0     0         0  ...                     0   \n25077          LA     0     0         0  ...                     0   \n25078          LA     0     0         0  ...                     0   \n\n       IsTwoPointConversionSuccessful  RushDirection  YardLineFixed  \\\n0                                   0         CENTER             27   \n1                                   0            NaN             27   \n2                                   0            NaN              9   \n3                                   0            NaN              3   \n4                                   0            NaN             15   \n...                               ...            ...            ...   \n25074                               0            NaN             36   \n25075                               0      RIGHT END             11   \n25076                               0            NaN              0   \n25077                               0            NaN              0   \n25078                               0            NaN              0   \n\n       YardLineDirection IsPenaltyAccepted PenaltyTeam  IsNoPlay  PenaltyType  \\\n0                    OPP                 0         NaN         0          NaN   \n1                    OPP                 0         NaN         0          NaN   \n2                    OPP                 0         NaN         0          NaN   \n3                    OPP                 0         NaN         0          NaN   \n4                    OPP                 0         NaN         0          NaN   \n...                  ...               ...         ...       ...          ...   \n25074                OWN                 0         NaN         0          NaN   \n25075                OPP                 0         NaN         0          NaN   \n25076                OWN                 0         NaN         0          NaN   \n25077                OWN                 0         NaN         0          NaN   \n25078                OWN                 0         NaN         0          NaN   \n\n       PenaltyYards  \n0                 0  \n1                 0  \n2                 0  \n3                 0  \n4                 0  \n...             ...  \n25074             0  \n25075             0  \n25076             0  \n25077             0  \n25078             0  \n\n[25079 rows x 40 columns]",
      "text/html": "<div>\n<style scoped>\n    .dataframe tbody tr th:only-of-type {\n        vertical-align: middle;\n    }\n\n    .dataframe tbody tr th {\n        vertical-align: top;\n    }\n\n    .dataframe thead th {\n        text-align: right;\n    }\n</style>\n<table border=\"1\" class=\"dataframe\">\n  <thead>\n    <tr style=\"text-align: right;\">\n      <th></th>\n      <th>GameId</th>\n      <th>GameDate</th>\n      <th>Quarter</th>\n      <th>Minute</th>\n      <th>Second</th>\n      <th>OffenseTeam</th>\n      <th>DefenseTeam</th>\n      <th>Down</th>\n      <th>ToGo</th>\n      <th>YardLine</th>\n      <th>...</th>\n      <th>IsTwoPointConversion</th>\n      <th>IsTwoPointConversionSuccessful</th>\n      <th>RushDirection</th>\n      <th>YardLineFixed</th>\n      <th>YardLineDirection</th>\n      <th>IsPenaltyAccepted</th>\n      <th>PenaltyTeam</th>\n      <th>IsNoPlay</th>\n      <th>PenaltyType</th>\n      <th>PenaltyYards</th>\n    </tr>\n  </thead>\n  <tbody>\n    <tr>\n      <th>0</th>\n      <td>2022091110</td>\n      <td>2022-09-11</td>\n      <td>1</td>\n      <td>11</td>\n      <td>11</td>\n      <td>KC</td>\n      <td>ARI</td>\n      <td>2</td>\n      <td>7</td>\n      <td>73</td>\n      <td>...</td>\n      <td>0</td>\n      <td>0</td>\n      <td>CENTER</td>\n      <td>27</td>\n      <td>OPP</td>\n      <td>0</td>\n      <td>NaN</td>\n      <td>0</td>\n      <td>NaN</td>\n      <td>0</td>\n    </tr>\n    <tr>\n      <th>1</th>\n      <td>2022091110</td>\n      <td>2022-09-11</td>\n      <td>1</td>\n      <td>10</td>\n      <td>28</td>\n      <td>KC</td>\n      <td>ARI</td>\n      <td>3</td>\n      <td>7</td>\n      <td>73</td>\n      <td>...</td>\n      <td>0</td>\n      <td>0</td>\n      <td>NaN</td>\n      <td>27</td>\n      <td>OPP</td>\n      <td>0</td>\n      <td>NaN</td>\n      <td>0</td>\n      <td>NaN</td>\n      <td>0</td>\n    </tr>\n    <tr>\n      <th>2</th>\n      <td>2022091110</td>\n      <td>2022-09-11</td>\n      <td>1</td>\n      <td>9</td>\n      <td>47</td>\n      <td>KC</td>\n      <td>ARI</td>\n      <td>1</td>\n      <td>9</td>\n      <td>91</td>\n      <td>...</td>\n      <td>0</td>\n      <td>0</td>\n      <td>NaN</td>\n      <td>9</td>\n      <td>OPP</td>\n      <td>0</td>\n      <td>NaN</td>\n      <td>0</td>\n      <td>NaN</td>\n      <td>0</td>\n    </tr>\n    <tr>\n      <th>3</th>\n      <td>2022091110</td>\n      <td>2022-09-11</td>\n      <td>1</td>\n      <td>3</td>\n      <td>24</td>\n      <td>KC</td>\n      <td>ARI</td>\n      <td>1</td>\n      <td>3</td>\n      <td>97</td>\n      <td>...</td>\n      <td>0</td>\n      <td>0</td>\n      <td>NaN</td>\n      <td>3</td>\n      <td>OPP</td>\n      <td>0</td>\n      <td>NaN</td>\n      <td>0</td>\n      <td>NaN</td>\n      <td>0</td>\n    </tr>\n    <tr>\n      <th>4</th>\n      <td>2022091110</td>\n      <td>2022-09-11</td>\n      <td>1</td>\n      <td>3</td>\n      <td>20</td>\n      <td>KC</td>\n      <td>ARI</td>\n      <td>0</td>\n      <td>0</td>\n      <td>85</td>\n      <td>...</td>\n      <td>0</td>\n      <td>0</td>\n      <td>NaN</td>\n      <td>15</td>\n      <td>OPP</td>\n      <td>0</td>\n      <td>NaN</td>\n      <td>0</td>\n      <td>NaN</td>\n      <td>0</td>\n    </tr>\n    <tr>\n      <th>...</th>\n      <td>...</td>\n      <td>...</td>\n      <td>...</td>\n      <td>...</td>\n      <td>...</td>\n      <td>...</td>\n      <td>...</td>\n      <td>...</td>\n      <td>...</td>\n      <td>...</td>\n      <td>...</td>\n      <td>...</td>\n      <td>...</td>\n      <td>...</td>\n      <td>...</td>\n      <td>...</td>\n      <td>...</td>\n      <td>...</td>\n      <td>...</td>\n      <td>...</td>\n      <td>...</td>\n    </tr>\n    <tr>\n      <th>25074</th>\n      <td>2018091612</td>\n      <td>2018-09-16</td>\n      <td>3</td>\n      <td>6</td>\n      <td>0</td>\n      <td>JAX</td>\n      <td>NE</td>\n      <td>2</td>\n      <td>4</td>\n      <td>36</td>\n      <td>...</td>\n      <td>0</td>\n      <td>0</td>\n      <td>NaN</td>\n      <td>36</td>\n      <td>OWN</td>\n      <td>0</td>\n      <td>NaN</td>\n      <td>0</td>\n      <td>NaN</td>\n      <td>0</td>\n    </tr>\n    <tr>\n      <th>25075</th>\n      <td>2018091609</td>\n      <td>2018-09-16</td>\n      <td>2</td>\n      <td>14</td>\n      <td>37</td>\n      <td>LA</td>\n      <td>ARI</td>\n      <td>2</td>\n      <td>1</td>\n      <td>89</td>\n      <td>...</td>\n      <td>0</td>\n      <td>0</td>\n      <td>RIGHT END</td>\n      <td>11</td>\n      <td>OPP</td>\n      <td>0</td>\n      <td>NaN</td>\n      <td>0</td>\n      <td>NaN</td>\n      <td>0</td>\n    </tr>\n    <tr>\n      <th>25076</th>\n      <td>2018091001</td>\n      <td>2018-09-10</td>\n      <td>2</td>\n      <td>0</td>\n      <td>0</td>\n      <td>NaN</td>\n      <td>LA</td>\n      <td>0</td>\n      <td>0</td>\n      <td>0</td>\n      <td>...</td>\n      <td>0</td>\n      <td>0</td>\n      <td>NaN</td>\n      <td>0</td>\n      <td>OWN</td>\n      <td>0</td>\n      <td>NaN</td>\n      <td>0</td>\n      <td>NaN</td>\n      <td>0</td>\n    </tr>\n    <tr>\n      <th>25077</th>\n      <td>2018091001</td>\n      <td>2018-09-10</td>\n      <td>2</td>\n      <td>2</td>\n      <td>0</td>\n      <td>NaN</td>\n      <td>LA</td>\n      <td>0</td>\n      <td>0</td>\n      <td>0</td>\n      <td>...</td>\n      <td>0</td>\n      <td>0</td>\n      <td>NaN</td>\n      <td>0</td>\n      <td>OWN</td>\n      <td>0</td>\n      <td>NaN</td>\n      <td>0</td>\n      <td>NaN</td>\n      <td>0</td>\n    </tr>\n    <tr>\n      <th>25078</th>\n      <td>2018091001</td>\n      <td>2018-09-10</td>\n      <td>2</td>\n      <td>3</td>\n      <td>15</td>\n      <td>NaN</td>\n      <td>LA</td>\n      <td>0</td>\n      <td>0</td>\n      <td>0</td>\n      <td>...</td>\n      <td>0</td>\n      <td>0</td>\n      <td>NaN</td>\n      <td>0</td>\n      <td>OWN</td>\n      <td>0</td>\n      <td>NaN</td>\n      <td>0</td>\n      <td>NaN</td>\n      <td>0</td>\n    </tr>\n  </tbody>\n</table>\n<p>25079 rows × 40 columns</p>\n</div>"
     },
     "execution_count": 54,
     "metadata": {},
     "output_type": "execute_result"
    }
   ],
   "source": [
    "df_train_final = df_train[df_train[['OffenseTeam', 'DefenseTeam']].notna().all(axis=1)]\n",
    "df_train_final"
   ],
   "metadata": {
    "collapsed": false,
    "ExecuteTime": {
     "end_time": "2024-02-10T19:24:43.268703700Z",
     "start_time": "2024-02-10T19:24:43.202075300Z"
    }
   },
   "id": "116a4e69a0777e14",
   "execution_count": 54
  }
 ],
 "metadata": {
  "kernelspec": {
   "display_name": "Python 3",
   "language": "python",
   "name": "python3"
  },
  "language_info": {
   "codemirror_mode": {
    "name": "ipython",
    "version": 2
   },
   "file_extension": ".py",
   "mimetype": "text/x-python",
   "name": "python",
   "nbconvert_exporter": "python",
   "pygments_lexer": "ipython2",
   "version": "2.7.6"
  }
 },
 "nbformat": 4,
 "nbformat_minor": 5
}
