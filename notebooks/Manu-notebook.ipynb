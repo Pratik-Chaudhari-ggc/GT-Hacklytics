{
 "cells": [
  {
   "cell_type": "code",
   "outputs": [],
   "source": [
    "import re\n",
    "\n",
    "import numpy as np\n",
    "import pandas as pd\n",
    "import matplotlib.pyplot as plt\n",
    "\n",
    "df = pd.read_csv('C:/Manu/Hack/GT-Hacklytics/datasets/nfl_team_stats_2002-2022.csv')\n",
    "sb_champs = pd.read_csv('C:/Manu/Hack/GT-Hacklytics/datasets/List_of_Super_Bowl_champions_2.csv')"
   ],
   "metadata": {
    "collapsed": true,
    "ExecuteTime": {
     "end_time": "2024-02-10T22:18:12.963987Z",
     "start_time": "2024-02-10T22:18:12.896771900Z"
    }
   },
   "id": "initial_id",
   "execution_count": 174
  },
  {
   "cell_type": "markdown",
   "source": [
    "## Converts the Superbowl participants table\n",
    "\n",
    "Here we drop the unused columns from the Superbowl winners and runnerups table above('List_of_Super_Bowl_champions_2.csv'). We also convert the date/season column to just a date and change the datatype to datetime. "
   ],
   "metadata": {
    "collapsed": false
   },
   "id": "808ce163e4116a70"
  },
  {
   "cell_type": "code",
   "outputs": [
    {
     "data": {
      "text/plain": "0      January 26, 2003\n1      February 1, 2004\n2      February 6, 2005\n3      February 5, 2006\n4      February 4, 2007\n5      February 3, 2008\n6      February 1, 2009\n7      February 7, 2010\n8      February 6, 2011\n9      February 5, 2012\n10     February 3, 2013\n11     February 2, 2014\n12     February 1, 2015\n13     February 7, 2016\n14     February 5, 2017\n15     February 4, 2018\n16     February 3, 2019\n17     February 2, 2020\n18     February 7, 2021\n19    February 13, 2022\n20    February 12, 2023\nName: Date, dtype: object"
     },
     "execution_count": 216,
     "metadata": {},
     "output_type": "execute_result"
    }
   ],
   "source": [
    "from datetime import datetime\n",
    "import re\n",
    "\n",
    "new_date = sb_champs['Date/Season'].copy()\n",
    "dates = []\n",
    "for str in new_date:\n",
    "    date = re.findall(r\"([A-Z]\\w+ [0-9]{1,2}, [0-9]{4})\", str)\n",
    "    dates.append(date[0])\n",
    "    \n",
    "    \n",
    "new_sb_champs = sb_champs.copy()\n",
    "\n",
    "\n",
    "new_sb_champs['Date'] = dates\n",
    "mod_new_sb_champs = new_sb_champs.drop(['Game', 'Date/Season', 'Score'], axis=1)\n",
    "pd.to_datetime(mod_new_sb_champs['Date'], format='%B %d, %Y')\n",
    "mod_new_sb_champs['Date']"
   ],
   "metadata": {
    "collapsed": false,
    "ExecuteTime": {
     "end_time": "2024-02-10T22:31:52.664948300Z",
     "start_time": "2024-02-10T22:31:52.560082900Z"
    }
   },
   "id": "3be21c9a34e41088",
   "execution_count": 216
  },
  {
   "cell_type": "code",
   "outputs": [
    {
     "ename": "AttributeError",
     "evalue": "'str' object has no attribute 'type'",
     "output_type": "error",
     "traceback": [
      "\u001B[1;31m---------------------------------------------------------------------------\u001B[0m",
      "\u001B[1;31mAttributeError\u001B[0m                            Traceback (most recent call last)",
      "Cell \u001B[1;32mIn[202], line 6\u001B[0m\n\u001B[0;32m      3\u001B[0m     datetime\u001B[38;5;241m.\u001B[39mstrptime(date, \u001B[38;5;124m'\u001B[39m\u001B[38;5;124m%\u001B[39m\u001B[38;5;124mY-\u001B[39m\u001B[38;5;124m%\u001B[39m\u001B[38;5;124mm-\u001B[39m\u001B[38;5;132;01m%d\u001B[39;00m\u001B[38;5;124m'\u001B[39m)\n\u001B[0;32m      4\u001B[0m new_dates\u001B[38;5;241m.\u001B[39mastype(\u001B[38;5;124m'\u001B[39m\u001B[38;5;124mdatetime64[ns]\u001B[39m\u001B[38;5;124m'\u001B[39m)\n\u001B[1;32m----> 6\u001B[0m \u001B[43mmod_new_sb_champs\u001B[49m\u001B[38;5;241;43m.\u001B[39;49m\u001B[43mindex\u001B[49m\u001B[43m[\u001B[49m\u001B[38;5;241;43m0\u001B[39;49m\u001B[43m]\u001B[49m\u001B[38;5;241;43m.\u001B[39;49m\u001B[43mtype\u001B[49m()\n",
      "\u001B[1;31mAttributeError\u001B[0m: 'str' object has no attribute 'type'"
     ]
    }
   ],
   "source": [
    "new_dates = df['date'].copy()\n",
    "for date in new_dates:\n",
    "    datetime.strptime(date, '%Y-%m-%d')\n",
    "new_dates.astype('datetime64[ns]')\n",
    "\n",
    "mod_new_sb_champs.index[0]"
   ],
   "metadata": {
    "collapsed": false,
    "ExecuteTime": {
     "end_time": "2024-02-10T22:25:58.746218100Z",
     "start_time": "2024-02-10T22:25:58.635570800Z"
    }
   },
   "id": "e1aa90189670c9b5",
   "execution_count": 202
  }
 ],
 "metadata": {
  "kernelspec": {
   "display_name": "Python 3",
   "language": "python",
   "name": "python3"
  },
  "language_info": {
   "codemirror_mode": {
    "name": "ipython",
    "version": 2
   },
   "file_extension": ".py",
   "mimetype": "text/x-python",
   "name": "python",
   "nbconvert_exporter": "python",
   "pygments_lexer": "ipython2",
   "version": "2.7.6"
  }
 },
 "nbformat": 4,
 "nbformat_minor": 5
}
