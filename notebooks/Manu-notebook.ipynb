{
 "cells": [
  {
   "cell_type": "code",
   "outputs": [
    {
     "data": {
      "text/plain": "         date      away     home  first_downs_away  first_downs_home  \\\n0  2002-09-05     49ers   Giants                13                21   \n1  2002-09-08      Jets    Bills                18                26   \n2  2002-09-08   Vikings    Bears                19                20   \n3  2002-09-08  Chargers  Bengals                27                13   \n4  2002-09-08    Chiefs   Browns                24                24   \n\n  third_downs_away third_downs_home fourth_downs_away fourth_downs_home  \\\n0             4-12             9-16               0-0               0-1   \n1              2-8             7-17               0-0               2-2   \n2             5-13             7-13               0-0               0-0   \n3             6-10             4-11               0-0               0-0   \n4             5-11             4-11               0-0               0-0   \n\n   passing_yards_away  ...  redzone_away  redzone_home  drives_away  \\\n0                 166  ...           0-8           0-6           13   \n1                 193  ...           0-9           0-8           17   \n2                 228  ...           0-7           0-6           17   \n3                 160  ...           0-7           0-5           11   \n4                 276  ...          0-10          0-10           20   \n\n   drives_home  def_st_td_away def_st_td_home possession_away possession_home  \\\n0           15               0              0           27:32           32:28   \n1           18               2              0           21:06           39:08   \n2           17               0              0           31:31           28:29   \n3           15               0              0           37:48           22:12   \n4           17               0              0           30:16           29:44   \n\n  score_away  score_home  \n0         16          13  \n1         37          31  \n2         23          27  \n3         34           6  \n4         40          39  \n\n[5 rows x 39 columns]",
      "text/html": "<div>\n<style scoped>\n    .dataframe tbody tr th:only-of-type {\n        vertical-align: middle;\n    }\n\n    .dataframe tbody tr th {\n        vertical-align: top;\n    }\n\n    .dataframe thead th {\n        text-align: right;\n    }\n</style>\n<table border=\"1\" class=\"dataframe\">\n  <thead>\n    <tr style=\"text-align: right;\">\n      <th></th>\n      <th>date</th>\n      <th>away</th>\n      <th>home</th>\n      <th>first_downs_away</th>\n      <th>first_downs_home</th>\n      <th>third_downs_away</th>\n      <th>third_downs_home</th>\n      <th>fourth_downs_away</th>\n      <th>fourth_downs_home</th>\n      <th>passing_yards_away</th>\n      <th>...</th>\n      <th>redzone_away</th>\n      <th>redzone_home</th>\n      <th>drives_away</th>\n      <th>drives_home</th>\n      <th>def_st_td_away</th>\n      <th>def_st_td_home</th>\n      <th>possession_away</th>\n      <th>possession_home</th>\n      <th>score_away</th>\n      <th>score_home</th>\n    </tr>\n  </thead>\n  <tbody>\n    <tr>\n      <th>0</th>\n      <td>2002-09-05</td>\n      <td>49ers</td>\n      <td>Giants</td>\n      <td>13</td>\n      <td>21</td>\n      <td>4-12</td>\n      <td>9-16</td>\n      <td>0-0</td>\n      <td>0-1</td>\n      <td>166</td>\n      <td>...</td>\n      <td>0-8</td>\n      <td>0-6</td>\n      <td>13</td>\n      <td>15</td>\n      <td>0</td>\n      <td>0</td>\n      <td>27:32</td>\n      <td>32:28</td>\n      <td>16</td>\n      <td>13</td>\n    </tr>\n    <tr>\n      <th>1</th>\n      <td>2002-09-08</td>\n      <td>Jets</td>\n      <td>Bills</td>\n      <td>18</td>\n      <td>26</td>\n      <td>2-8</td>\n      <td>7-17</td>\n      <td>0-0</td>\n      <td>2-2</td>\n      <td>193</td>\n      <td>...</td>\n      <td>0-9</td>\n      <td>0-8</td>\n      <td>17</td>\n      <td>18</td>\n      <td>2</td>\n      <td>0</td>\n      <td>21:06</td>\n      <td>39:08</td>\n      <td>37</td>\n      <td>31</td>\n    </tr>\n    <tr>\n      <th>2</th>\n      <td>2002-09-08</td>\n      <td>Vikings</td>\n      <td>Bears</td>\n      <td>19</td>\n      <td>20</td>\n      <td>5-13</td>\n      <td>7-13</td>\n      <td>0-0</td>\n      <td>0-0</td>\n      <td>228</td>\n      <td>...</td>\n      <td>0-7</td>\n      <td>0-6</td>\n      <td>17</td>\n      <td>17</td>\n      <td>0</td>\n      <td>0</td>\n      <td>31:31</td>\n      <td>28:29</td>\n      <td>23</td>\n      <td>27</td>\n    </tr>\n    <tr>\n      <th>3</th>\n      <td>2002-09-08</td>\n      <td>Chargers</td>\n      <td>Bengals</td>\n      <td>27</td>\n      <td>13</td>\n      <td>6-10</td>\n      <td>4-11</td>\n      <td>0-0</td>\n      <td>0-0</td>\n      <td>160</td>\n      <td>...</td>\n      <td>0-7</td>\n      <td>0-5</td>\n      <td>11</td>\n      <td>15</td>\n      <td>0</td>\n      <td>0</td>\n      <td>37:48</td>\n      <td>22:12</td>\n      <td>34</td>\n      <td>6</td>\n    </tr>\n    <tr>\n      <th>4</th>\n      <td>2002-09-08</td>\n      <td>Chiefs</td>\n      <td>Browns</td>\n      <td>24</td>\n      <td>24</td>\n      <td>5-11</td>\n      <td>4-11</td>\n      <td>0-0</td>\n      <td>0-0</td>\n      <td>276</td>\n      <td>...</td>\n      <td>0-10</td>\n      <td>0-10</td>\n      <td>20</td>\n      <td>17</td>\n      <td>0</td>\n      <td>0</td>\n      <td>30:16</td>\n      <td>29:44</td>\n      <td>40</td>\n      <td>39</td>\n    </tr>\n  </tbody>\n</table>\n<p>5 rows × 39 columns</p>\n</div>"
     },
     "execution_count": 263,
     "metadata": {},
     "output_type": "execute_result"
    }
   ],
   "source": [
    "import re\n",
    "\n",
    "import numpy as np\n",
    "import pandas as pd\n",
    "import matplotlib.pyplot as plt\n",
    "\n",
    "df = pd.read_csv('C:/Manu/Hack/GT-Hacklytics/datasets/nfl_team_stats_2002-2022.csv')\n",
    "sb_champs = pd.read_csv('C:/Manu/Hack/GT-Hacklytics/datasets/List_of_Super_Bowl_champions_2.csv')\n",
    "df.head()"
   ],
   "metadata": {
    "collapsed": true,
    "ExecuteTime": {
     "end_time": "2024-02-11T05:17:41.132619600Z",
     "start_time": "2024-02-11T05:17:41.009930900Z"
    }
   },
   "id": "initial_id",
   "execution_count": 263
  },
  {
   "cell_type": "markdown",
   "source": [
    "## Converts the Superbowl participants table\n",
    "\n",
    "Here we drop the unused columns from the Superbowl winners and runnerups table above('List_of_Super_Bowl_champions_2.csv'). We also convert the date/season column to just a date and change the datatype to datetime. "
   ],
   "metadata": {
    "collapsed": false
   },
   "id": "808ce163e4116a70"
  },
  {
   "cell_type": "code",
   "outputs": [
    {
     "data": {
      "text/plain": "'Colts'"
     },
     "execution_count": 269,
     "metadata": {},
     "output_type": "execute_result"
    }
   ],
   "source": [
    "from datetime import datetime\n",
    "import re\n",
    "\n",
    "new_date = sb_champs['Date/Season'].copy()\n",
    "dates = []\n",
    "for str in new_date:\n",
    "    date = re.findall(r\"([A-Z]\\w+ [0-9]{1,2}, [0-9]{4})\", str)\n",
    "    dates.append(date[0])\n",
    "    \n",
    "    \n",
    "new_sb_champs = sb_champs.copy()\n",
    "\n",
    "\n",
    "new_sb_champs['Date'] = dates\n",
    "mod_new_sb_champs = new_sb_champs.drop(['Game', 'Date/Season', 'Score'], axis=1)\n",
    "mod_new_sb_champs['Date'] = dates\n",
    "mod_new_sb_champs['Date'] = mod_new_sb_champs['Date'].astype('datetime64[ns]')\n",
    "mod_new_sb_champs['Winning team'][4]"
   ],
   "metadata": {
    "collapsed": false,
    "ExecuteTime": {
     "end_time": "2024-02-11T05:27:39.536981400Z",
     "start_time": "2024-02-11T05:27:39.474715700Z"
    }
   },
   "id": "3be21c9a34e41088",
   "execution_count": 269
  },
  {
   "cell_type": "code",
   "outputs": [
    {
     "ename": "AttributeError",
     "evalue": "'int' object has no attribute 'dtype'",
     "output_type": "error",
     "traceback": [
      "\u001B[1;31m---------------------------------------------------------------------------\u001B[0m",
      "\u001B[1;31mAttributeError\u001B[0m                            Traceback (most recent call last)",
      "Cell \u001B[1;32mIn[274], line 3\u001B[0m\n\u001B[0;32m      1\u001B[0m new_dates \u001B[38;5;241m=\u001B[39m df[\u001B[38;5;124m'\u001B[39m\u001B[38;5;124mdate\u001B[39m\u001B[38;5;124m'\u001B[39m]\u001B[38;5;241m.\u001B[39mcopy()\n\u001B[0;32m      2\u001B[0m df[\u001B[38;5;124m'\u001B[39m\u001B[38;5;124mdate\u001B[39m\u001B[38;5;124m'\u001B[39m] \u001B[38;5;241m=\u001B[39m df[\u001B[38;5;124m'\u001B[39m\u001B[38;5;124mdate\u001B[39m\u001B[38;5;124m'\u001B[39m]\u001B[38;5;241m.\u001B[39mastype(\u001B[38;5;124m'\u001B[39m\u001B[38;5;124mdatetime64[ns]\u001B[39m\u001B[38;5;124m'\u001B[39m)\n\u001B[1;32m----> 3\u001B[0m \u001B[38;5;28;43mlen\u001B[39;49m\u001B[43m(\u001B[49m\u001B[43mdf\u001B[49m\u001B[43m)\u001B[49m\u001B[38;5;241;43m.\u001B[39;49m\u001B[43mdtype\u001B[49m\n",
      "\u001B[1;31mAttributeError\u001B[0m: 'int' object has no attribute 'dtype'"
     ]
    }
   ],
   "source": [
    "new_dates = df['date'].copy()\n",
    "df['date'] = df['date'].astype('datetime64[ns]')\n"
   ],
   "metadata": {
    "collapsed": false,
    "ExecuteTime": {
     "end_time": "2024-02-11T05:29:01.905731500Z",
     "start_time": "2024-02-11T05:29:01.856374400Z"
    }
   },
   "id": "e1aa90189670c9b5",
   "execution_count": 274
  },
  {
   "cell_type": "code",
   "outputs": [],
   "source": [
    "import datetime\n",
    "\n",
    "for i in range(len(mod_new_sb_champs)):\n",
    "    for j in range(len(df)):\n",
    "        if (mod_new_sb_champs['Date'][i] - datetime.timedelta(days=150)) < df['date'][j]:\n",
    "            if mod_new_sb_champs['Winning team'][i] == df['away'][j]:\n",
    "                awaywinnerstats = df[['away', 'first_downs_away', 'third_downs_away', 'fourth_downs_away', 'passing_yards_away', 'rushing_yards_away', 'total_yards_away', 'comp_att_away', 'sacks_away', 'rushing_attempts_away','fumbles_away', 'int_away', 'turnovers_away', 'penalties_away', 'redzone_away', 'drives_away', 'def_st_td_away', 'possession_away', 'score_away']]\n",
    "            if mod_new_sb_champs['Winning team'][i] == df['home'][j]:\n",
    "                homewinnerstats = df[['home', 'first_downs_home', 'third_downs_home', 'fourth_downs_home', 'passing_yards_home', 'rushing_yards_home', 'total_yards_home', 'comp_att_home', 'sacks_home', 'rushing_attempts_home','fumbles_home', 'int_home', 'turnovers_home', 'penalties_home', 'redzone_home', 'drives_home', 'def_st_td_home', 'possession_home', 'score_home']]\n",
    "            if mod_new_sb_champs['Losing team'][i] == df['away'][j]:\n",
    "                awayrunnerupstats = df[['away', 'first_downs_away', 'third_downs_away', 'fourth_downs_away', 'passing_yards_away', 'rushing_yards_away', 'total_yards_away', 'comp_att_away', 'sacks_away', 'rushing_attempts_away','fumbles_away', 'int_away', 'turnovers_away', 'penalties_away', 'redzone_away', 'drives_away', 'def_st_td_away', 'possession_away', 'score_away']]\n",
    "            if mod_new_sb_champs['Losing team'][i] == df['home'][j]:\n",
    "                homerunnerupstats = df[['home', 'first_downs_home', 'third_downs_home', 'fourth_downs_home', 'passing_yards_home', 'rushing_yards_home', 'total_yards_home', 'comp_att_home', 'sacks_home', 'rushing_attempts_home','fumbles_home', 'int_home', 'turnovers_home', 'penalties_home', 'redzone_home', 'drives_home', 'def_st_td_home', 'possession_home', 'score_home']]\n",
    "    "
   ],
   "metadata": {
    "collapsed": false,
    "ExecuteTime": {
     "end_time": "2024-02-11T05:32:33.440112Z",
     "start_time": "2024-02-11T05:32:04.781745100Z"
    }
   },
   "id": "486d004ff32e68fa",
   "execution_count": 277
  },
  {
   "cell_type": "code",
   "outputs": [
    {
     "data": {
      "text/plain": "         home  first_downs_home third_downs_home fourth_downs_home  \\\n0      Giants                21             9-16               0-1   \n1       Bills                26             7-17               2-2   \n2       Bears                20             7-13               0-0   \n3     Bengals                13             4-11               0-0   \n4      Browns                24             4-11               0-0   \n...       ...               ...              ...               ...   \n5636    Bills                19             5-12               1-2   \n5637    49ers                21             7-14               0-0   \n5638   Eagles                25             5-15               3-3   \n5639   Chiefs                23             7-14               1-1   \n5640   Eagles                25            11-18               2-2   \n\n      passing_yards_home  rushing_yards_home  total_yards_home comp_att_home  \\\n0                    318                  43               361         28-45   \n1                    242                 142               384         26-39   \n2                    288                  80               368         20-33   \n3                    167                  36               203         18-31   \n4                    352                  59               411         28-40   \n...                  ...                 ...               ...           ...   \n5636                 261                  64               325         25-42   \n5637                 199                 113               312         19-29   \n5638                 121                 148               269         15-25   \n5639                 315                  42               357         29-43   \n5640                 302                 115               417         27-38   \n\n     sacks_home  rushing_attempts_home  fumbles_home  int_home  \\\n0          3-24                     22             0         3   \n1          4-29                     32             1         2   \n2           1-9                     26             1         1   \n3          4-31                     13             0         1   \n4           1-7                     20             1         0   \n...         ...                    ...           ...       ...   \n5636        1-3                     19             0         1   \n5637       2-15                     32             1         0   \n5638        1-0                     44             0         0   \n5639       3-11                     20             1         0   \n5640        2-2                     32             1         0   \n\n      turnovers_home penalties_home redzone_home  drives_home  def_st_td_home  \\\n0                  3          10-80          0-6           15               0   \n1                  3          10-82          0-8           18               0   \n2                  2           4-33          0-6           17               0   \n3                  1           9-57          0-5           15               0   \n4                  1           4-38         0-10           17               0   \n...              ...            ...          ...          ...             ...   \n5636               1           8-60          1-3            8               0   \n5637               1           3-30          1-3            9               0   \n5638               0           4-34          4-6           10               0   \n5639               1           4-55          2-3           10               0   \n5640               1           6-33          3-5           10               0   \n\n     possession_home  score_home  \n0              32:28          13  \n1              39:08          31  \n2              28:29          27  \n3              22:12           6  \n4              29:44          39  \n...              ...         ...  \n5636           26:06          10  \n5637           32:53          19  \n5638           37:26          31  \n5639           32:51          23  \n5640           35:47          35  \n\n[5641 rows x 19 columns]",
      "text/html": "<div>\n<style scoped>\n    .dataframe tbody tr th:only-of-type {\n        vertical-align: middle;\n    }\n\n    .dataframe tbody tr th {\n        vertical-align: top;\n    }\n\n    .dataframe thead th {\n        text-align: right;\n    }\n</style>\n<table border=\"1\" class=\"dataframe\">\n  <thead>\n    <tr style=\"text-align: right;\">\n      <th></th>\n      <th>home</th>\n      <th>first_downs_home</th>\n      <th>third_downs_home</th>\n      <th>fourth_downs_home</th>\n      <th>passing_yards_home</th>\n      <th>rushing_yards_home</th>\n      <th>total_yards_home</th>\n      <th>comp_att_home</th>\n      <th>sacks_home</th>\n      <th>rushing_attempts_home</th>\n      <th>fumbles_home</th>\n      <th>int_home</th>\n      <th>turnovers_home</th>\n      <th>penalties_home</th>\n      <th>redzone_home</th>\n      <th>drives_home</th>\n      <th>def_st_td_home</th>\n      <th>possession_home</th>\n      <th>score_home</th>\n    </tr>\n  </thead>\n  <tbody>\n    <tr>\n      <th>0</th>\n      <td>Giants</td>\n      <td>21</td>\n      <td>9-16</td>\n      <td>0-1</td>\n      <td>318</td>\n      <td>43</td>\n      <td>361</td>\n      <td>28-45</td>\n      <td>3-24</td>\n      <td>22</td>\n      <td>0</td>\n      <td>3</td>\n      <td>3</td>\n      <td>10-80</td>\n      <td>0-6</td>\n      <td>15</td>\n      <td>0</td>\n      <td>32:28</td>\n      <td>13</td>\n    </tr>\n    <tr>\n      <th>1</th>\n      <td>Bills</td>\n      <td>26</td>\n      <td>7-17</td>\n      <td>2-2</td>\n      <td>242</td>\n      <td>142</td>\n      <td>384</td>\n      <td>26-39</td>\n      <td>4-29</td>\n      <td>32</td>\n      <td>1</td>\n      <td>2</td>\n      <td>3</td>\n      <td>10-82</td>\n      <td>0-8</td>\n      <td>18</td>\n      <td>0</td>\n      <td>39:08</td>\n      <td>31</td>\n    </tr>\n    <tr>\n      <th>2</th>\n      <td>Bears</td>\n      <td>20</td>\n      <td>7-13</td>\n      <td>0-0</td>\n      <td>288</td>\n      <td>80</td>\n      <td>368</td>\n      <td>20-33</td>\n      <td>1-9</td>\n      <td>26</td>\n      <td>1</td>\n      <td>1</td>\n      <td>2</td>\n      <td>4-33</td>\n      <td>0-6</td>\n      <td>17</td>\n      <td>0</td>\n      <td>28:29</td>\n      <td>27</td>\n    </tr>\n    <tr>\n      <th>3</th>\n      <td>Bengals</td>\n      <td>13</td>\n      <td>4-11</td>\n      <td>0-0</td>\n      <td>167</td>\n      <td>36</td>\n      <td>203</td>\n      <td>18-31</td>\n      <td>4-31</td>\n      <td>13</td>\n      <td>0</td>\n      <td>1</td>\n      <td>1</td>\n      <td>9-57</td>\n      <td>0-5</td>\n      <td>15</td>\n      <td>0</td>\n      <td>22:12</td>\n      <td>6</td>\n    </tr>\n    <tr>\n      <th>4</th>\n      <td>Browns</td>\n      <td>24</td>\n      <td>4-11</td>\n      <td>0-0</td>\n      <td>352</td>\n      <td>59</td>\n      <td>411</td>\n      <td>28-40</td>\n      <td>1-7</td>\n      <td>20</td>\n      <td>1</td>\n      <td>0</td>\n      <td>1</td>\n      <td>4-38</td>\n      <td>0-10</td>\n      <td>17</td>\n      <td>0</td>\n      <td>29:44</td>\n      <td>39</td>\n    </tr>\n    <tr>\n      <th>...</th>\n      <td>...</td>\n      <td>...</td>\n      <td>...</td>\n      <td>...</td>\n      <td>...</td>\n      <td>...</td>\n      <td>...</td>\n      <td>...</td>\n      <td>...</td>\n      <td>...</td>\n      <td>...</td>\n      <td>...</td>\n      <td>...</td>\n      <td>...</td>\n      <td>...</td>\n      <td>...</td>\n      <td>...</td>\n      <td>...</td>\n      <td>...</td>\n    </tr>\n    <tr>\n      <th>5636</th>\n      <td>Bills</td>\n      <td>19</td>\n      <td>5-12</td>\n      <td>1-2</td>\n      <td>261</td>\n      <td>64</td>\n      <td>325</td>\n      <td>25-42</td>\n      <td>1-3</td>\n      <td>19</td>\n      <td>0</td>\n      <td>1</td>\n      <td>1</td>\n      <td>8-60</td>\n      <td>1-3</td>\n      <td>8</td>\n      <td>0</td>\n      <td>26:06</td>\n      <td>10</td>\n    </tr>\n    <tr>\n      <th>5637</th>\n      <td>49ers</td>\n      <td>21</td>\n      <td>7-14</td>\n      <td>0-0</td>\n      <td>199</td>\n      <td>113</td>\n      <td>312</td>\n      <td>19-29</td>\n      <td>2-15</td>\n      <td>32</td>\n      <td>1</td>\n      <td>0</td>\n      <td>1</td>\n      <td>3-30</td>\n      <td>1-3</td>\n      <td>9</td>\n      <td>0</td>\n      <td>32:53</td>\n      <td>19</td>\n    </tr>\n    <tr>\n      <th>5638</th>\n      <td>Eagles</td>\n      <td>25</td>\n      <td>5-15</td>\n      <td>3-3</td>\n      <td>121</td>\n      <td>148</td>\n      <td>269</td>\n      <td>15-25</td>\n      <td>1-0</td>\n      <td>44</td>\n      <td>0</td>\n      <td>0</td>\n      <td>0</td>\n      <td>4-34</td>\n      <td>4-6</td>\n      <td>10</td>\n      <td>0</td>\n      <td>37:26</td>\n      <td>31</td>\n    </tr>\n    <tr>\n      <th>5639</th>\n      <td>Chiefs</td>\n      <td>23</td>\n      <td>7-14</td>\n      <td>1-1</td>\n      <td>315</td>\n      <td>42</td>\n      <td>357</td>\n      <td>29-43</td>\n      <td>3-11</td>\n      <td>20</td>\n      <td>1</td>\n      <td>0</td>\n      <td>1</td>\n      <td>4-55</td>\n      <td>2-3</td>\n      <td>10</td>\n      <td>0</td>\n      <td>32:51</td>\n      <td>23</td>\n    </tr>\n    <tr>\n      <th>5640</th>\n      <td>Eagles</td>\n      <td>25</td>\n      <td>11-18</td>\n      <td>2-2</td>\n      <td>302</td>\n      <td>115</td>\n      <td>417</td>\n      <td>27-38</td>\n      <td>2-2</td>\n      <td>32</td>\n      <td>1</td>\n      <td>0</td>\n      <td>1</td>\n      <td>6-33</td>\n      <td>3-5</td>\n      <td>10</td>\n      <td>0</td>\n      <td>35:47</td>\n      <td>35</td>\n    </tr>\n  </tbody>\n</table>\n<p>5641 rows × 19 columns</p>\n</div>"
     },
     "execution_count": 278,
     "metadata": {},
     "output_type": "execute_result"
    }
   ],
   "source": [
    "homewinnerstats"
   ],
   "metadata": {
    "collapsed": false,
    "ExecuteTime": {
     "end_time": "2024-02-11T05:32:38.411047800Z",
     "start_time": "2024-02-11T05:32:38.354494900Z"
    }
   },
   "id": "e5bcd6561b99f9fc",
   "execution_count": 278
  }
 ],
 "metadata": {
  "kernelspec": {
   "display_name": "Python 3",
   "language": "python",
   "name": "python3"
  },
  "language_info": {
   "codemirror_mode": {
    "name": "ipython",
    "version": 2
   },
   "file_extension": ".py",
   "mimetype": "text/x-python",
   "name": "python",
   "nbconvert_exporter": "python",
   "pygments_lexer": "ipython2",
   "version": "2.7.6"
  }
 },
 "nbformat": 4,
 "nbformat_minor": 5
}
